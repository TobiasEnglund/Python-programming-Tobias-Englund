{
 "cells": [
  {
   "cell_type": "code",
   "execution_count": 10,
   "metadata": {},
   "outputs": [
    {
     "name": "stdout",
     "output_type": "stream",
     "text": [
      "Du har angivit radien 2\n",
      "Klotets volym är ca: 16.76\n"
     ]
    }
   ],
   "source": [
    "# Uppgift 2\n",
    "\n",
    "import math\n",
    "\n",
    "def klot_volym(radie):\n",
    "    try:\n",
    "        radie = float(radie)    # Omvandla input till float\n",
    "        if radie < 0:\n",
    "            return \"Radien måste vara ett positivt tal\"\n",
    "        \n",
    "        volym = (4/3) * math.pi * (radie**2)\n",
    "        return f\"Klotets volym är ca: {volym:.2f}\"\n",
    "    \n",
    "    except ValueError:\n",
    "        return \"Felaktig inmatning. Enbart numeriska värden.\"\n",
    "    \n",
    "user_radie = input(\"Ange klotets radie:\")\n",
    "\n",
    "print(f\"Du har angivit radien {user_radie}\")\n",
    "print(klot_volym(user_radie))"
   ]
  },
  {
   "cell_type": "markdown",
   "metadata": {},
   "source": [
    "---"
   ]
  },
  {
   "cell_type": "code",
   "execution_count": 2,
   "metadata": {},
   "outputs": [
    {
     "name": "stdout",
     "output_type": "stream",
     "text": [
      "# # # # # \n",
      "# 0 0 0 # \n",
      "# # 0 0 # \n",
      "# # # 0 # \n",
      "# # # # # \n"
     ]
    }
   ],
   "source": [
    "# Uppgift 3\n",
    "# Förklarar mer på papper\n",
    "\n",
    "def skriv_ut_mönster(n):\n",
    "    for i in range(n):\n",
    "        for j in range(n):\n",
    "            if i == 0 or i == n-1 or j == 0 or j == n-1 or i > j:\n",
    "                print(\"#\", end=\" \") # end=\" \" lägger till en space efter \"#\"\n",
    "            else:\n",
    "                print(\"0\", end=\" \")\n",
    "        print() # Lägg till rad\n",
    "                \n",
    "skriv_ut_mönster(5)"
   ]
  },
  {
   "cell_type": "markdown",
   "metadata": {},
   "source": [
    "---"
   ]
  },
  {
   "cell_type": "markdown",
   "metadata": {},
   "source": [
    "#### Uppgift 4\n",
    "\n",
    "Det kommer skrivas ut:\n",
    "\n",
    "\"Person säger hej\"  \n",
    "\"Student säger hej\"  \n",
    "\"Person säger hej\"  \n",
    "\n",
    "Motivering:\n",
    "\n",
    "1. Vi har tre klasser: Person (huvudklass), Student (underklass), Viking (underklass)\n",
    "2. Student och Viking ärver från Person\n",
    "3. Student skriver över \"hej\" metoden\n",
    "4. Viking ärver \"hej\" metoden från Person, eftersom den inte har en egen\n",
    "5. I for-loopen skapas tre objekt (personer), en för varje klass, där varje objekt anropar \"hej\" metoden. \"hoy\" metoden kommer aldrig skrivas ut då den ej anropas.\n",
    "6. Första objektet, Person(), skriver ut sin egen \"hej\" metod\n",
    "7. Andra objektet, Student(), skriver ut sin egen \"hej\" metod\n",
    "8. Sista objektet, Viking(), skriver ut \"hej\" metoden som den ärver av Person klassen."
   ]
  },
  {
   "cell_type": "markdown",
   "metadata": {},
   "source": [
    "---"
   ]
  },
  {
   "cell_type": "code",
   "execution_count": 1,
   "metadata": {},
   "outputs": [
    {
     "name": "stdout",
     "output_type": "stream",
     "text": [
      "åttatusenåttahundraåttioåtta\n",
      "etthundraett\n",
      "noll\n",
      "elva\n"
     ]
    }
   ],
   "source": [
    "# Uppgift 5\n",
    "\n",
    "ental = {\n",
    "    1: \"ett\",\n",
    "    2: \"två\",\n",
    "    3: \"tre\",\n",
    "    4: \"fyra\",\n",
    "    5: \"fem\",\n",
    "    6: \"sex\",\n",
    "    7: \"sju\",\n",
    "    8: \"åtta\",\n",
    "    9: \"nio\"\n",
    "}\n",
    "\n",
    "# Har denna dictionaryn för att elva till nitton är specialtal\n",
    "elva_till_nitton = {\n",
    "    11: \"elva\",\n",
    "    12: \"tolv\",\n",
    "    13: \"tretton\",\n",
    "    14: \"fjorton\",\n",
    "    15: \"femton\",\n",
    "    16: \"sexton\",\n",
    "    17: \"sjutton\",\n",
    "    18: \"arton\",\n",
    "    19: \"nitton\"\n",
    "}\n",
    "\n",
    "tiotal = {\n",
    "    1: \"tio\",\n",
    "    2: \"tjugo\",\n",
    "    3: \"trettio\",\n",
    "    4: \"fyrtio\",\n",
    "    5: \"femtio\",\n",
    "    6: \"sextio\",\n",
    "    7: \"sjuttio\",\n",
    "    8: \"åttio\",\n",
    "    9: \"nittio\"\n",
    "}\n",
    "\n",
    "hundratal = {\n",
    "    1: \"etthundra\",\n",
    "    2: \"tvåhundra\",\n",
    "    3: \"trehundra\",\n",
    "    4: \"fyrahundra\",\n",
    "    5: \"femhundra\",\n",
    "    6: \"sexhundra\",\n",
    "    7: \"sjuhundra\",\n",
    "    8: \"åttahundra\",\n",
    "    9: \"niohundra\"\n",
    "}\n",
    "\n",
    "tusental = {\n",
    "    1: \"etttusen\",\n",
    "    2: \"tvåtusen\",\n",
    "    3: \"tretusen\",\n",
    "    4: \"fyrtusen\",\n",
    "    5: \"femtusen\",\n",
    "    6: \"sextusen\",\n",
    "    7: \"sjutusen\",\n",
    "    8: \"åttatusen\",\n",
    "    9: \"niotusen\"\n",
    "}\n",
    "\n",
    "def representera_heltal(heltal):\n",
    "    try:\n",
    "        # Omvandlar input till int och kolla så att den är mellan 0 - 9999\n",
    "        heltal = int(heltal)    \n",
    "        if heltal < 0 or heltal > 9999:\n",
    "            return \"Heltalet måste vara mellan 0 - 9999\"\n",
    "        \n",
    "        heltal_sträng = \"\"\n",
    "\n",
    "        if heltal == 0:\n",
    "            heltal_sträng = \"noll\"\n",
    "        \n",
    "        else:\n",
    "            \"\"\"\n",
    "            Här börjar vi \"plocka isär\" heltalet från tusental till ental\n",
    "            \n",
    "            // avrundar nedåt\n",
    "            %= ger resten\n",
    "            \n",
    "            Ex. heltal = 2500\n",
    "            (heltal // 1000) == 2 (2 får plats två gånger i 2500)\n",
    "            (heltal %= 1000) == 500 (500 kvarstår)\n",
    "            \n",
    "            If satserna kollar så att resultatet (t.ex tusen) finns i den dictionaryn. \n",
    "            Det är viktigt för att undvika problem ifall det finns t.ex nollor i heltalet, eftersom man inte nämner noll i ett tal (t.ex 101 är ju inte hundranollett, bara hundraett)    \n",
    "            \"\"\"      \n",
    "            \n",
    "            # Tusental\n",
    "            tusen = heltal // 1000\n",
    "            if tusen in tusental:   # Filter för att undvika att lägga till \"noll\" (gör samma för hundratal och tiotal)\n",
    "                heltal_sträng += tusental[tusen]        \n",
    "            heltal %= 1000  # Tar bort tusental från heltalet (gör samma för hundratal och tiotal)\n",
    "            \n",
    "            # Hundratal\n",
    "            hundra = heltal // 100\n",
    "            if hundra in hundratal:\n",
    "                heltal_sträng += hundratal[hundra]        \n",
    "            heltal %= 100\n",
    "            \n",
    "            # Specialfall, kollar ifall heltal är mellan 11 - 19\n",
    "            if heltal > 10 and heltal <= 19:                    \n",
    "                heltal_sträng += elva_till_nitton[heltal]\n",
    "            else:\n",
    "                # Tiotal\n",
    "                tio = heltal // 10\n",
    "                if tio in tiotal:\n",
    "                    heltal_sträng += tiotal[tio]        \n",
    "                heltal %= 10\n",
    "                \n",
    "                # Ental (skippar ifall det är en nolla i slutet)\n",
    "                ental_siffra = heltal\n",
    "                if ental_siffra != 0:\n",
    "                    heltal_sträng += ental[ental_siffra]\n",
    "                \n",
    "        return heltal_sträng\n",
    "        \n",
    "    except ValueError:\n",
    "        return \"Ange enbart numeriska värden (måste vara heltal mellan 0 och 9999)\"\n",
    "    \n",
    "summa1 = representera_heltal(8888)\n",
    "summa2 = representera_heltal(101)\n",
    "summa3 = representera_heltal(0)\n",
    "summa4 = representera_heltal(11)\n",
    "\n",
    "print(summa1)\n",
    "print(summa2)\n",
    "print(summa3)\n",
    "print(summa4)"
   ]
  }
 ],
 "metadata": {
  "kernelspec": {
   "display_name": "Python 3",
   "language": "python",
   "name": "python3"
  },
  "language_info": {
   "codemirror_mode": {
    "name": "ipython",
    "version": 3
   },
   "file_extension": ".py",
   "mimetype": "text/x-python",
   "name": "python",
   "nbconvert_exporter": "python",
   "pygments_lexer": "ipython3",
   "version": "3.11.5"
  }
 },
 "nbformat": 4,
 "nbformat_minor": 2
}
