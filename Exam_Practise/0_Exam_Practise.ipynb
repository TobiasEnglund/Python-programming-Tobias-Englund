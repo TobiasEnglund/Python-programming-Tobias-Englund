{
 "cells": [
  {
   "cell_type": "code",
   "execution_count": 4,
   "metadata": {},
   "outputs": [
    {
     "name": "stdout",
     "output_type": "stream",
     "text": [
      "Volymen av cylindern är: 392.69908169872417\n"
     ]
    }
   ],
   "source": [
    "import math\n",
    "\n",
    "def calculate_cylinder_volume(radius, height):\n",
    "    try:\n",
    "        radius = float(radius)\n",
    "        height = float(height)\n",
    "        \n",
    "        if radius < 0 or height < 0:\n",
    "            return \"Radie och höjd måste vara positiva tal.\"\n",
    "        \n",
    "        volume = math.pi * (radius ** 2) * height\n",
    "        return volume\n",
    "    \n",
    "    except ValueError:\n",
    "        return \"Felaktig inmatning. Ange numeriska värden för radie och höjd.\"\n",
    "    \n",
    "if __name__ == \"__main__\":\n",
    "    user_radius = input(\"Ange cylinderns radie: \")\n",
    "    user_height = input(\"Ange cylinderns höjd: \")\n",
    "    \n",
    "    result = calculate_cylinder_volume(user_radius, user_height)\n",
    "    \n",
    "    print(f'Volymen av cylindern är: {result}')"
   ]
  },
  {
   "cell_type": "markdown",
   "metadata": {},
   "source": [
    "Liknande uppgift: \n",
    "- Skriv en funktion som tar emot en radie och en höjd för att beräkna och returnera ytarean av en cylinder. \n",
    "- Ytarean för en cylinder är \n",
    "- A = 2πrh + 2πr. \n",
    "- Låt användaren mata in radie och höjd och kör funktionen. Inkludera lämplig felhantering."
   ]
  },
  {
   "cell_type": "code",
   "execution_count": 6,
   "metadata": {},
   "outputs": [
    {
     "name": "stdout",
     "output_type": "stream",
     "text": [
      "Arean av cylindern är: 188.4955592153876\n"
     ]
    }
   ],
   "source": [
    "import math\n",
    "\n",
    "def calculate_cylinder_area(radius, height):\n",
    "    try:\n",
    "        radius = float(radius)\n",
    "        height = float(height)\n",
    "        \n",
    "        if radius < 0 or height < 0:\n",
    "            return \"Radie och höjd måste vara positiva tal.\"\n",
    "        \n",
    "        area = (2 * math.pi * radius * height) + (2 * math.pi * radius)\n",
    "        return area\n",
    "        \n",
    "    except ValueError:\n",
    "        return \"Felaktig inmatning. Ange numeriska värden för radie och höjd.\"\n",
    "    \n",
    "user_radius = input(\"Ange cylinderns radie: \")\n",
    "user_height = input(\"Ange cylinderns höjd\")\n",
    "\n",
    "result = calculate_cylinder_area(user_radius, user_height)\n",
    "\n",
    "print(f'Arean av cylindern är: {result}')"
   ]
  },
  {
   "cell_type": "markdown",
   "metadata": {},
   "source": [
    "- Uppgift: Skriv en funktion som tar in en radie som inparameter och som returnerar ytarean av en sfär. Ytarean för en sfär är \n",
    "- A = 4πr^2\n",
    "- Låt användaren mata in radie och kör funktionen. Glöm inte att inkludera lämplig felhantering."
   ]
  },
  {
   "cell_type": "code",
   "execution_count": 9,
   "metadata": {},
   "outputs": [
    {
     "name": "stdout",
     "output_type": "stream",
     "text": [
      "Sfärens area är 62.83185307179586\n"
     ]
    }
   ],
   "source": [
    "import math\n",
    "\n",
    "def calculate_sphere_area(radius):\n",
    "    try:\n",
    "        radius = float(radius)\n",
    "        \n",
    "        if radius < 0:\n",
    "            return \"Radie måste vara positiva tal.\"\n",
    "        \n",
    "        area = 4 * math.pi * (radius)**2\n",
    "        return area\n",
    "    \n",
    "    except ValueError:\n",
    "        return \"Felaktig inmatning. Ange ett numeriskt värde för radie.\"\n",
    "    \n",
    "\n",
    "user_radius = input(\"Ange sfärens radie.\")\n",
    "\n",
    "result = calculate_sphere_area(user_radius)\n",
    "\n",
    "print(f'Sfärens area är {result}')"
   ]
  },
  {
   "cell_type": "markdown",
   "metadata": {},
   "source": [
    "Uppgift: \n",
    "- Simulera 1 000 000 tärningskast och beräkna antalet ettor, tvåor, treor, fyror, femmor och sexor. \n",
    "- Resultatet ska sparas i en lämplig datastruktur."
   ]
  },
  {
   "cell_type": "code",
   "execution_count": 24,
   "metadata": {},
   "outputs": [
    {
     "name": "stdout",
     "output_type": "stream",
     "text": [
      "[166921, 166454, 166761, 166953, 166143, 166768]\n"
     ]
    }
   ],
   "source": [
    "import random\n",
    "\n",
    "counts = {1: 0, 2: 0, 3: 0, 4: 0, 5: 0, 6: 0}\n",
    "\n",
    "for i in range(1_000_000):\n",
    "    roll = random.randint(1, 6)\n",
    "    counts[roll] += 1\n",
    "        "
   ]
  },
  {
   "cell_type": "markdown",
   "metadata": {},
   "source": [
    "Uppgift: \n",
    "- Simulera 500 000 kast med en mynt och räkna antalet \"krona\" och \"klave\". \n",
    "- Spara resultatet i en lämplig datastruktur och skriv ut det."
   ]
  },
  {
   "cell_type": "code",
   "execution_count": 28,
   "metadata": {},
   "outputs": [
    {
     "name": "stdout",
     "output_type": "stream",
     "text": [
      "{'krona': 249946, 'klave': 250054}\n",
      "['krona', 'klave']\n"
     ]
    }
   ],
   "source": [
    "import random\n",
    "\n",
    "krona_eller_klave = {\"krona\": 0, \"klave\": 0}\n",
    "\n",
    "for i in range(500_000):\n",
    "    roll = random.choice(list(krona_eller_klave))\n",
    "    krona_eller_klave[roll] += 1\n",
    "    \n",
    "print(krona_eller_klave)\n",
    "        \n",
    "print(list(krona_eller_klave))"
   ]
  },
  {
   "cell_type": "markdown",
   "metadata": {},
   "source": [
    "Skapa en funktion som tar in ett heltal n som parameter och skriver ut mönstret nedan.\n",
    "Exempel när n = 5:  \n",
    "x x x x x  \n",
    "x o x o x  \n",
    "x x x x x  \n",
    "x o x o x  \n",
    "x x x x x  "
   ]
  },
  {
   "cell_type": "code",
   "execution_count": null,
   "metadata": {},
   "outputs": [],
   "source": [
    "def print_pattern(n):\n",
    "    for i in range(n):\n",
    "        for j in range(n):\n",
    "            if i % 2 == 0 or j % 2 == 0:\n",
    "                print('x', end=' ')\n",
    "            else:\n",
    "                print('o', end=' ')\n",
    "        print()\n",
    "        \n",
    "n = int(input(\"Ange ett heltal för mönstret: \"))\n",
    "print_pattern(n)"
   ]
  },
  {
   "cell_type": "markdown",
   "metadata": {},
   "source": [
    "Uppgift: Skapa en funktion som tar in ett heltal n som parameter och skriver ut följande mönster.\n",
    "\n",
    "Exempel när n = 5:\n",
    "\n",
    "1 2 3 4 5  \n",
    "2 4 6 8 10  \n",
    "3 6 9 12 15  \n",
    "4 8 12 16 20  \n",
    "5 10 15 20 25  \n"
   ]
  },
  {
   "cell_type": "code",
   "execution_count": 56,
   "metadata": {},
   "outputs": [
    {
     "name": "stdout",
     "output_type": "stream",
     "text": [
      "1 2 3 4 5 \n",
      "2 4 6 8 10 \n",
      "3 6 9 12 15 \n",
      "4 8 12 16 20 \n",
      "5 10 15 20 25 \n"
     ]
    }
   ],
   "source": [
    "def print_pattern(n):\n",
    "    for i in range(1, n + 1):\n",
    "        for j in range(1, n + 1):\n",
    "            print(j * i, end=\" \")\n",
    "        print()\n",
    "\n",
    "print_pattern(5)"
   ]
  },
  {
   "cell_type": "markdown",
   "metadata": {},
   "source": [
    "Uppgift: \n",
    "Skapa en funktion som tar in en summa pengar.  \n",
    "Den ska printa ut en representation av sedlar och mynt som representerar summan.  \n",
    "\n",
    "Exempel 3214 ska ge:\n",
    "- Tusenlapp: 3\n",
    "- Tvåhundralapp: 1\n",
    "- Tiokrona: 1\n",
    "- Enkrona: 4"
   ]
  },
  {
   "cell_type": "code",
   "execution_count": 60,
   "metadata": {},
   "outputs": [
    {
     "name": "stdout",
     "output_type": "stream",
     "text": [
      "Tusenlapp: 3\n",
      "Tvåhundralapp: 1\n",
      "Tiokrona: 1\n",
      "Enkrona: 4\n"
     ]
    }
   ],
   "source": [
    "def representera_summa(summa):\n",
    "    tusenlappar = summa // 1000\n",
    "    summa %= 1000\n",
    "    \n",
    "    tvåhundralappar = summa // 200\n",
    "    summa %= 200\n",
    "    \n",
    "    tiokronor = summa // 10\n",
    "    summa %= 10\n",
    "    \n",
    "    enkronor = summa\n",
    "    \n",
    "    print(f'Tusenlapp: {tusenlappar}')\n",
    "    print(f'Tvåhundralapp: {tvåhundralappar}')\n",
    "    print(f'Tiokrona: {tiokronor}')\n",
    "    print(f'Enkrona: {enkronor}')\n",
    "    \n",
    "representera_summa(3214)"
   ]
  },
  {
   "cell_type": "markdown",
   "metadata": {},
   "source": [
    "Uppgift: \n",
    "- Skapa en funktion som tar in en summa pengar i dollar. \n",
    "- Den ska printa ut en representation av sedlar och mynt som representerar summan. \n",
    "- Anta att det finns följande sedlar och mynt: 100-dollar, 50-dollar, 20-dollar, 10-dollar, 5-dollar, 1-dollar."
   ]
  },
  {
   "cell_type": "code",
   "execution_count": 62,
   "metadata": {},
   "outputs": [
    {
     "name": "stdout",
     "output_type": "stream",
     "text": [
      "100-dollar = 5\n",
      "50-dollar = 1\n",
      "20-dollar = 0\n",
      "10-dollar = 1\n",
      "5-dollar = 1\n",
      "1-dollar = 2\n"
     ]
    }
   ],
   "source": [
    "def representera_summa(summa):\n",
    "    hundra_dollar = summa // 100\n",
    "    summa %= 100\n",
    "    \n",
    "    femtio_dollar = summa // 50\n",
    "    summa %= 50\n",
    "    \n",
    "    tjugo_dollar = summa // 20\n",
    "    summa %= 20\n",
    "    \n",
    "    tio_dollar = summa // 10\n",
    "    summa %= 10\n",
    "    \n",
    "    fem_dollar = summa // 5\n",
    "    summa %= 5\n",
    "    \n",
    "    en_dollar = summa\n",
    "    \n",
    "    print(f'100-dollar = {hundra_dollar}')\n",
    "    print(f'50-dollar = {femtio_dollar}')\n",
    "    print(f'20-dollar = {tjugo_dollar}')\n",
    "    print(f'10-dollar = {tio_dollar}')\n",
    "    print(f'5-dollar = {fem_dollar}')\n",
    "    print(f'1-dollar = {en_dollar}')\n",
    "\n",
    "representera_summa(567)"
   ]
  },
  {
   "cell_type": "code",
   "execution_count": 65,
   "metadata": {},
   "outputs": [
    {
     "name": "stdout",
     "output_type": "stream",
     "text": [
      "Ada owns:\n",
      "[Dog: Snoopy, Dog: Pluto]\n",
      "[Fish: Fishy, Fish: Buppy]\n",
      "Beda owns:\n",
      "[Dog: Barkly]\n",
      "[]\n"
     ]
    }
   ],
   "source": [
    "class Animal:\n",
    "    def __init__(self, name):\n",
    "        self.name = name\n",
    "\n",
    "    def __str__(self):\n",
    "        return f'Animal: {self.name}'\n",
    "\n",
    "class Dog(Animal):\n",
    "    def __repr__(self):\n",
    "        return f'Dog: {self.name}'\n",
    "    \n",
    "class Fish(Animal):\n",
    "    def __repr__(self):\n",
    "        return f'Fish: {self.name}'\n",
    "    \n",
    "class PetOwner:\n",
    "    def __init__(self, name, dogs=None, fishes=None):\n",
    "        self.name = name\n",
    "        self.dogs = [Dog(dog) for dog in (dogs or [])]\n",
    "        self.fishes = [Fish(fish) for fish in (fishes or [])]\n",
    "        \n",
    "    def __str__(self):\n",
    "        return f'{self.name} owns:\\n{self.dogs}\\n{self.fishes}'\n",
    "    \n",
    "owner1 = PetOwner(\"Ada\", [\"Snoopy\", \"Pluto\"], [\"Fishy\", \"Buppy\"])\n",
    "owner2 = PetOwner(\"Beda\", [\"Barkly\"])\n",
    "print(owner1)\n",
    "print(owner2)"
   ]
  },
  {
   "cell_type": "code",
   "execution_count": 125,
   "metadata": {},
   "outputs": [
    {
     "name": "stdout",
     "output_type": "stream",
     "text": [
      "Library has: \n",
      "Books: ['Harry Potter', 'Lord of the Rings', 'Stormlight Archives'] \n",
      "Movies: ['Inception', 'Matrix', 'Star Wars']\n",
      "\n",
      "Library has: \n",
      "Books: [] \n",
      "Movies: ['Wizard of Oz']\n",
      "\n"
     ]
    }
   ],
   "source": [
    "class Library:\n",
    "    def __init__(self, books, movies):\n",
    "        self.books = books\n",
    "        self.movies = movies\n",
    "    \n",
    "    def __str__(self):\n",
    "        return f'Library has: \\nBooks: {self.books} \\nMovies: {self.movies}\\n'\n",
    "    \n",
    "    def add_media(self, books=None, movies=None):\n",
    "        if books is not None and movies is not None:\n",
    "            self.books.append(books)\n",
    "            self.movies.append(movies)\n",
    "        \n",
    "    def remove_media(self, books=None, movies=None):\n",
    "        if books is not None:\n",
    "            self.books.remove(books)\n",
    "        if movies is not None:\n",
    "            self.movies.remove(movies)\n",
    "    \n",
    "class Books(Library):\n",
    "    def __repr__(self):\n",
    "        return f'Books: {self.name}'\n",
    "    \n",
    "class Movies(Library):\n",
    "    def __repr__(self):\n",
    "        return f'Movies: {self.name}'\n",
    "\n",
    "library1 = Library([\"Harry Potter\", \"Lord of the Rings\"], [\"Inception\", \"Matrix\"])\n",
    "library2 = Library([], [\"Avatar\", \"Wizard of Oz\"])\n",
    "\n",
    "library1.add_media(books=\"Stormlight Archives\", movies=\"Star Wars\")\n",
    "library2.remove_media(movies=\"Avatar\")\n",
    "\n",
    "print(library1)\n",
    "print(library2)"
   ]
  },
  {
   "cell_type": "markdown",
   "metadata": {},
   "source": []
  },
  {
   "cell_type": "markdown",
   "metadata": {},
   "source": []
  },
  {
   "cell_type": "markdown",
   "metadata": {},
   "source": []
  },
  {
   "cell_type": "markdown",
   "metadata": {},
   "source": []
  },
  {
   "cell_type": "markdown",
   "metadata": {},
   "source": []
  },
  {
   "cell_type": "markdown",
   "metadata": {},
   "source": []
  },
  {
   "cell_type": "markdown",
   "metadata": {},
   "source": [
    "Uppgift 1 (3p)\n",
    "Beskriv vad koden gör och vad som skrivs ut:\n",
    "maträtter = [\"lasagne\", \"sushi\", \"hamburgare\"]\n",
    "favoritmat = maträtter[0]\n",
    "print(favoritmat[3])\n",
    "Skriv en kort kommentar för varje rad."
   ]
  },
  {
   "cell_type": "code",
   "execution_count": null,
   "metadata": {},
   "outputs": [],
   "source": [
    "# 1\n",
    "\n",
    "maträtter = [\"lasagne\", \"sushi\", \"hamburgare\"]\n",
    "# skapar lista med maträtter\n",
    "favoritmat = maträtter[0]\n",
    "# skapar variabel för favoritmat, pekar på \"lasagne\"\n",
    "print(favoritmat[3])\n",
    "# skriver ut 3:e index i favoritmat, dvs \"a\""
   ]
  },
  {
   "cell_type": "markdown",
   "metadata": {},
   "source": [
    "Uppgift 2 (3p)\n",
    "Skriv en funktion som tar in en bas och en höjd som inparametrar och som returnerar ytan av en\n",
    "triangel.\n",
    "Formeln för en triangels yta är:\n",
    "A = 1/2 × bas × höjd\n",
    "Låt användaren mata in en bas och en höjd och kör funktionen. Tänk på att ta med lämplig\n",
    "felhantering."
   ]
  },
  {
   "cell_type": "code",
   "execution_count": null,
   "metadata": {},
   "outputs": [],
   "source": [
    "# 2\n",
    "\n",
    "def triangel_area(width, height):\n",
    "    try:\n",
    "        width = float(width)\n",
    "        height = float(height)\n",
    "        \n",
    "        if width < 0 or height < 0:\n",
    "            return \"Enbart positiva tal.\"\n",
    "        \n",
    "        area = (1/2) * width * height\n",
    "\n",
    "        return f'Triangeln har ytan {area}.'\n",
    "    \n",
    "    except ValueError:\n",
    "        return \"Felaktig inmatning. Ange enbart numeriska värden.\"\n",
    "    \n",
    "user_width = input(\"Skriv triangelns bas: \")\n",
    "user_height = input(\"Skriv triangelns höjd.\")\n",
    "\n",
    "resultat = triangel_area(user_width, user_height)\n",
    "print(f'Triangelns area är {resultat}')"
   ]
  },
  {
   "cell_type": "markdown",
   "metadata": {},
   "source": [
    "Uppgift 3 (3p)\n",
    "Simulera väderförhållandena för varje dag i ett år (365 dagar). Vädertyperna är \"soligt\",\n",
    "\"molnigt\", \"regnigt\", \"snöigt\", och \"stormigt\".\n",
    "Spara resultaten i en lämplig datastruktur och beräkna sedan antalet dagar för varje vädertyp."
   ]
  },
  {
   "cell_type": "code",
   "execution_count": 5,
   "metadata": {},
   "outputs": [
    {
     "name": "stdout",
     "output_type": "stream",
     "text": [
      "{'soligt': 73, 'molnigt': 65, 'regnigt': 80, 'snöigt': 73, 'stormigt': 74}\n"
     ]
    }
   ],
   "source": [
    "# 3\n",
    "\n",
    "import random\n",
    "\n",
    "väder_förhållanden = {\"soligt\": 0, \"molnigt\": 0, \"regnigt\": 0, \"snöigt\": 0, \"stormigt\": 0}\n",
    "\n",
    "for i in range(365):\n",
    "    väder = random.choice(list(väder_förhållanden))\n",
    "    väder_förhållanden[väder] += 1\n",
    "\n",
    "print(väder_förhållanden)"
   ]
  },
  {
   "cell_type": "markdown",
   "metadata": {},
   "source": [
    "Uppgift 4 (3p)\n",
    "Skapa en funktion som tar in ett heltal n som parameter och skriver ut följande mönster, där 'x'\n",
    "representerar en cell i den diagonala linjen och 'o' representerar en tom cell.\n",
    "Exempel när n = 5:\n",
    "x o o o o\n",
    "o x o o o\n",
    "o o x o o\n",
    "o o o x o\n",
    "o o o o x"
   ]
  },
  {
   "cell_type": "code",
   "execution_count": null,
   "metadata": {},
   "outputs": [],
   "source": [
    "# 4 - Kunde ej lösa\n",
    "\n",
    "def print_pattern(n):\n",
    "    for i in range(n):\n",
    "        for j in range(n):\n",
    "            print(\"x\", end=\" \")\n",
    "            print(\"o\", end=\" \")\n",
    "            \n",
    "print_pattern(5)"
   ]
  },
  {
   "cell_type": "markdown",
   "metadata": {},
   "source": [
    "Uppgift 5 (4p)\n",
    "Skapa en funktion som tar in en summa pengar i euro. Den ska printa ut en representation av\n",
    "sedlar och mynt som representerar summan mellan 1 och 100 euro.\n",
    "Valörer:\n",
    "50 € sedel\n",
    "20 € sedel\n",
    "10 € sedel\n",
    "5 € sedel\n",
    "2 € mynt\n",
    "1 € mynt\n",
    "Exempel 87 ska ge:\n",
    "50 € sedel: 1\n",
    "20 € sedel: 1\n",
    "10 € sedel: 1\n",
    "5 € sedel: 1\n",
    "2 € mynt: 1"
   ]
  },
  {
   "cell_type": "code",
   "execution_count": null,
   "metadata": {},
   "outputs": [],
   "source": [
    "# 5\n",
    "\n",
    "def representera_summa(summa):\n",
    "    femtio_euro = summa // 50\n",
    "    summa %= 50\n",
    "    \n",
    "    tjugo_euro = summa // 20\n",
    "    summa %= 20\n",
    "    \n",
    "    tio_euro = summa // 10\n",
    "    summa %= 10\n",
    "    \n",
    "    fem_euro = summa // 5\n",
    "    summa %= 5\n",
    "    \n",
    "    två_euro = summa // 2\n",
    "    summa %= 2\n",
    "    \n",
    "    en_euro = summa\n",
    "    \n",
    "    print(f'50-euro: {femtio_euro}')\n",
    "    print(f'20-euro: {tjugo_euro}')\n",
    "    print(f'10-euro: {tio_euro}')\n",
    "    print(f'5-euro: {fem_euro}')\n",
    "    print(f'2-euro: {två_euro}')\n",
    "    print(f'1-euro: {en_euro}')\n",
    "    \n",
    "print(representera_summa(87))\n"
   ]
  },
  {
   "cell_type": "markdown",
   "metadata": {},
   "source": [
    "Uppgift 6 (4p)\n",
    "Du har följande kod:\n",
    "class Litteratur:\n",
    " def __init__(self, titel):\n",
    " self.titel = titel\n",
    " def __str__(self):\n",
    " return f'Litteratur: \"{self.titel}\"'\n",
    "class Bok(Litteratur):\n",
    " def __str__(self):\n",
    " return f'Bok: \"{self.titel}\"'\n",
    "class Tidning(Litteratur):\n",
    " def __str__(self):\n",
    " return f'Tidning: \"{self.titel}\"'\n",
    "class Tidskrift(Litteratur):\n",
    " def __str__(self):\n",
    " return f'Tidskrift: \"{self.titel}\"'\n",
    "# TO-DO: implementera Bibliotekarie\n",
    "class Bibliotekarie:\n",
    " ...\n",
    "# manuell test av Bibliotekarie\n",
    "bib1 = Bibliotekarie(\"Erik\", böcker=[\"Sagan om Ringen\", \"Hobbiten\"],\n",
    "tidningar=[\"Dagens Nyheter\"], tidskrifter=[\"Nature\"])\n",
    "bib2 = Bibliotekarie(\"Anna\", böcker=[\"Moby Dick\"],\n",
    "tidskrifter=[\"Science\"])\n",
    "print(bib1)\n",
    "print(bib2)\n",
    "Implementera Bibliotekarie klassen så att du får liknande utskrift som nedan med det manuella\n",
    "testet:\n",
    "Erik ansvarar för:\n",
    "[Bok: \"Sagan om Ringen\", Bok: \"Hobbiten\"]\n",
    "[Tidning: \"Dagens Nyheter\"]\n",
    "[Tidskrift: \"Nature\"]\n",
    "Anna ansvarar för:\n",
    "[Bok: \"Moby Dick\"]\n",
    "[Tidskrift: \"Science\"]"
   ]
  },
  {
   "cell_type": "code",
   "execution_count": null,
   "metadata": {},
   "outputs": [],
   "source": [
    "# 6\n",
    "\n",
    "class Litteratur:\n",
    "    def __init__(self, titel):\n",
    "        self.titel = titel\n",
    "\n",
    "    def __str__(self):\n",
    "        return f'Litteratur: {self.titel}'\n",
    "    \n",
    "class Bok(Litteratur):\n",
    "    def str(self):\n",
    "        return f'Bok: {self.titel}'\n",
    "    \n",
    "class Tidning(Litteratur):\n",
    "    def str(self):\n",
    "        return f'Tidning: {self.titel}'\n",
    "    \n",
    "class Tidskrift(Litteratur):\n",
    "    def str(self):\n",
    "        return f'Tidskrift: {self.titel}'\n",
    "    \n",
    "class Bibliotekarie:\n",
    "    def __init__(self, namn, böcker, tidningar, tidskrifter):\n",
    "        self.namn = namn\n",
    "        self.böcker = [Bok(bok) for bok in (böcker or [])]\n",
    "        self.tidningar = [Tidning(tidning) for tidning in (tidningar or [])]\n",
    "        self.tidskrifter = [Tidskrift(tidskrift) for tidskrift in (tidskrifter or [])]\n",
    "        \n",
    "    def __repr__(self):\n",
    "        return f'{self.name} ansvarar för: \\n{self.böcker}\\n{self.tidningar}\\n{self.tidskrifter}'\n"
   ]
  },
  {
   "cell_type": "code",
   "execution_count": 15,
   "metadata": {},
   "outputs": [
    {
     "name": "stdout",
     "output_type": "stream",
     "text": [
      "o x x x x \n",
      "x o x x x \n",
      "x x o x x \n",
      "x x x o x \n",
      "x x x x o \n"
     ]
    }
   ],
   "source": [
    "def print_pattern(n):\n",
    "    for i in range(n):\n",
    "        for j in range(n):\n",
    "            if i != j:\n",
    "                print('x', end=\" \")\n",
    "            else:\n",
    "                print('o', end=\" \")\n",
    "        print()  # Skriv ut en ny rad efter varje rad i mönstret\n",
    "\n",
    "print_pattern(5)"
   ]
  },
  {
   "cell_type": "code",
   "execution_count": 25,
   "metadata": {},
   "outputs": [
    {
     "name": "stdout",
     "output_type": "stream",
     "text": [
      "o o o o x \n",
      "o o o x o \n",
      "o o x o o \n",
      "o x o o o \n",
      "x o o o o \n"
     ]
    }
   ],
   "source": [
    "def inverted_diagonal(n):\n",
    "    for i in range(n):\n",
    "        for j in range(n):\n",
    "            if j == n - i - 1:\n",
    "                print('x', end=' ')\n",
    "            else:\n",
    "                print('o', end=' ')\n",
    "        print()\n",
    "        \n",
    "inverted_diagonal(5)"
   ]
  },
  {
   "cell_type": "code",
   "execution_count": 30,
   "metadata": {},
   "outputs": [
    {
     "name": "stdout",
     "output_type": "stream",
     "text": [
      "x x x x x \n",
      "x o o o x \n",
      "x o o o x \n",
      "x o o o x \n",
      "x x x x x \n"
     ]
    }
   ],
   "source": [
    "def frame(n):\n",
    "    for i in range(n):\n",
    "        for j in range(n):\n",
    "            if i == 0 or i == n-1 or j == 0 or j == n-1:\n",
    "                print('x', end=' ')\n",
    "            else:\n",
    "                print('o', end=' ')\n",
    "        print()\n",
    "\n",
    "frame(5)"
   ]
  },
  {
   "cell_type": "code",
   "execution_count": 19,
   "metadata": {},
   "outputs": [
    {
     "name": "stdout",
     "output_type": "stream",
     "text": [
      "x o x o x \n",
      "o x o x o \n",
      "x o x o x \n",
      "o x o x o \n",
      "x o x o x \n"
     ]
    }
   ],
   "source": [
    "def chess_board(n):\n",
    "    for i in range(n):\n",
    "        for j in range(n):\n",
    "            if (i + j) % 2 == 0:\n",
    "                print('x', end=' ')\n",
    "            else:\n",
    "                print('o', end=' ')\n",
    "        print()\n",
    "\n",
    "chess_board(5)"
   ]
  },
  {
   "cell_type": "code",
   "execution_count": 34,
   "metadata": {},
   "outputs": [
    {
     "name": "stdout",
     "output_type": "stream",
     "text": [
      "    x\n",
      "   xxx\n",
      "  xxxxx\n",
      " xxxxxxx\n",
      "xxxxxxxxx\n"
     ]
    }
   ],
   "source": [
    "def pyramid(n):\n",
    "    for i in range(1, n + 1):\n",
    "        print(' ' * (n - i) + 'x' * (2 * i - 1))\n",
    "        \n",
    "pyramid(5)"
   ]
  }
 ],
 "metadata": {
  "kernelspec": {
   "display_name": "Python 3",
   "language": "python",
   "name": "python3"
  },
  "language_info": {
   "codemirror_mode": {
    "name": "ipython",
    "version": 3
   },
   "file_extension": ".py",
   "mimetype": "text/x-python",
   "name": "python",
   "nbconvert_exporter": "python",
   "pygments_lexer": "ipython3",
   "version": "3.11.5"
  }
 },
 "nbformat": 4,
 "nbformat_minor": 2
}
