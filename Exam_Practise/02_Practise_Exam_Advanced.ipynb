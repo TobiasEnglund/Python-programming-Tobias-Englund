{
 "cells": [
  {
   "cell_type": "markdown",
   "metadata": {},
   "source": [
    "# Övningstenta (avancerad)\n",
    "\n",
    "---\n",
    "\n",
    "### Uppgift 1 (3p)\n",
    "\n",
    "Beskriv vad koden gör och vad som skrivs ut:"
   ]
  },
  {
   "cell_type": "code",
   "execution_count": null,
   "metadata": {},
   "outputs": [],
   "source": [
    "1. ordlista = [\"algoritm\", \"kompilera\", \"variabel\"]\n",
    "2. valt_ord = ordlista[ordlista.index(\"kompilera\") - 1]\n",
    "3. print(valt_ord[3:7])"
   ]
  },
  {
   "cell_type": "markdown",
   "metadata": {},
   "source": [
    "Skriv en kort kommentar för varje rad.  \n",
    "\n",
    "<br>\n",
    "\n",
    "### Uppgift 2 (3p)\n",
    "Skriv en funktion som tar in en radie *r* för basen och en höjd *h* som inparametrar och som returnerar både volymen *V* och ytan *A* av en kon.  \n",
    "\n",
    "Formlerna för en kon är:  \n",
    "\n",
    "**Volym:**  \n",
    "*V = πr^2h*  \n",
    "\n",
    "**Yta (inklusive basytan):**  \n",
    "*A = πr(r + l)*  \n",
    "\n",
    "där *l* är slantlängden och den kan beräknas som:\n",
    "\n",
    "*l = sqrt(r^2 + h^2)*\n",
    "\n",
    "- Låt användaren mata in en radie *r* för basen och en höjd *h* och kör funktionen. Funktionen ska returnera båda värdena som en tuple.\n",
    "- Användaren ska kunna välja om hen vill ha resultatet som en decimal eller som en bråkdel. Om användaren väljer bråkdel, omvandla decimalen till en bråk med hjälp av fractions-modulen i Python.\n",
    "- Implementera lämplig felhantering för att säkerställa att användarens inmatningar är positiva tal. Hantera även andra potentiella fel som kan uppstå.\n",
    "\n",
    "<br>\n",
    "\n",
    "### Uppgift 3 (3p)\n",
    "\n",
    "Antag att du har tre olika tärningar:\n",
    "1. En standard tärning med sidorna 1 till 6.\n",
    "2. En åttasidig tärning med sidorna 1 till 8.\n",
    "3. En tiosidig tärning med sidorna 1 till 10.  \n",
    "\n",
    "Simulera 1 000 000 kast med varje tärning.\n",
    "\n",
    "- Beräkna och spara antalet av varje möjligt resultat för varje tärning (t.ex., hur många gånger du fick en 3:a med den åttasidiga tärningen).\n",
    "- Beräkna den genomsnittliga poängen för varje tärning.\n",
    "- Bestäm vilken tärning som i genomsnitt gav högst poäng och vilken som gav lägst.\n",
    "- Spara all information i en lämplig datastruktur och presentera resultaten på ett överskådligt sätt.\n",
    "\n",
    "<br>\n",
    "\n",
    "### Uppgift 4 (4p)\n",
    "\n",
    "Skapa en funktion som tar in ett heltal *n* som parameter och skriver ut skriver ut ett alternerande mönster av 'x' och 'o' baserat på värdet av *n*.  \n",
    "\n",
    "Mönstret ska bestämmas av värdet *n* enligt följande:  \n",
    "\n",
    "- Om *n* är ett jämnt tal, börja mönstret med 'x'.\n",
    "- Om *n* är ett udda tal, börja mönstret med 'o'.\n",
    "\n",
    "Mönstret ska sedan fortsätta att alternera mellan 'x' och 'o' både horisontellt och vertikalt.\n",
    "\n",
    "Exempel när *n* = 5:"
   ]
  },
  {
   "cell_type": "code",
   "execution_count": null,
   "metadata": {},
   "outputs": [],
   "source": [
    "o x o x o\n",
    "x o x o x\n",
    "o x o x o\n",
    "x o x o x\n",
    "o x o x o"
   ]
  },
  {
   "cell_type": "markdown",
   "metadata": {},
   "source": [
    "Exempel när *n* = 6:"
   ]
  },
  {
   "cell_type": "code",
   "execution_count": null,
   "metadata": {},
   "outputs": [],
   "source": [
    "x o x o x o\n",
    "o x o x o x\n",
    "x o x o x o\n",
    "o x o x o x\n",
    "x o x o x o\n",
    "o x o x o x"
   ]
  },
  {
   "cell_type": "markdown",
   "metadata": {},
   "source": [
    "Ditt mål är att skapa en funktion som kan generera dessa mönster för alla positiva heltal *n*.\n",
    "\n",
    "<br>\n",
    "\n",
    "### Uppgift 5 (4p)\n",
    "\n",
    "Skapa en funktion som tar in ett heltal mellan 1 och 3999 (detta är det högsta värdet man kan representera med klassiska romerska siffror). Funktionen ska returnera det givna talet i form av romerska siffror.  \n",
    "\n",
    "Här är några grundläggande värden för romerska siffror:"
   ]
  },
  {
   "cell_type": "code",
   "execution_count": null,
   "metadata": {},
   "outputs": [],
   "source": [
    "I - 1\n",
    "V - 5\n",
    "X - 10\n",
    "L - 50\n",
    "C - 100\n",
    "D - 500\n",
    "M - 1000"
   ]
  },
  {
   "cell_type": "markdown",
   "metadata": {},
   "source": [
    "Kom ihåg att det finns speciella regler för hur romerska siffror ska kombineras, till exempel representeras 4 som \"IV\" (som betyder \"ett mindre än fem\") snarare än \"IIII\".\n",
    "\n",
    "Exempel:\n",
    "\n",
    "Input: 4 -> Output: IV  \n",
    "Input: 9 -> Output: IX  \n",
    "Input: 58 -> Output: LVIII  \n",
    "Input: 1994 -> Output: MCMXCIV  \n",
    "\n",
    "<br>\n",
    "\n",
    "### Uppgift 6 (4p)\n",
    "\n",
    "Du har följande kod:"
   ]
  },
  {
   "cell_type": "code",
   "execution_count": null,
   "metadata": {},
   "outputs": [],
   "source": [
    "class Property:\n",
    "    def __init__(self, address):\n",
    "        self.address = address\n",
    "        self._price = None\n",
    "\n",
    "    @property\n",
    "    def price(self):\n",
    "        return self._price\n",
    "\n",
    "    @price.setter\n",
    "    def price(self, value):\n",
    "        if isinstance(value, (int, float)) and value > 0:\n",
    "            self._price = value\n",
    "        else:\n",
    "            raise ValueError(\"Price must be a positive number.\")\n",
    "\n",
    "    def __str__(self):\n",
    "        return f'Property at {self.address} priced at {self.price}'\n",
    "\n",
    "class Apartment(Property):\n",
    "    def __repr__(self):\n",
    "        return f'Apartment at {self.address} priced at {self.price}'\n",
    "\n",
    "class House(Property):\n",
    "    def __repr__(self):\n",
    "        return f'House at {self.address} priced at {self.price}'\n",
    "\n",
    "# TO-DO: implementera PropertyOwner\n",
    "class PropertyOwner:\n",
    "    ...\n",
    "\n",
    "# Manuell test av PropertyOwner\n",
    "owner1 = PropertyOwner(\"Alice\", apartments=[\"Central St 1\", \"Hillside Ave 5\"], houses=[\"Meadow Rd 10\"])\n",
    "owner2 = PropertyOwner(\"Bob\", houses=[\"Lakeview Rd 2\", \"Forest Ln 8\"])\n",
    "\n",
    "# Lägg till priser\n",
    "owner1.apartments[0].price = 500_000\n",
    "owner1.apartments[1].price = 450_000\n",
    "owner1.houses[0].price = 900_000\n",
    "owner2.houses[0].price = 600_000\n",
    "owner2.houses[1].price = 800_000\n",
    "\n",
    "print(owner1)\n",
    "print(owner2)"
   ]
  },
  {
   "cell_type": "markdown",
   "metadata": {},
   "source": [
    "Implementera **PropertyOwner** klassen så att du får liknande utskrift som nedan med det manuella testet:"
   ]
  },
  {
   "cell_type": "code",
   "execution_count": null,
   "metadata": {},
   "outputs": [],
   "source": [
    "Alice owns:\n",
    "[Apartment at Central St 1 priced at 500000, Apartment at Hillside Ave 5 priced at 450000]\n",
    "[House at Meadow Rd 10 priced at 900000]\n",
    "Bob owns:\n",
    "[House at Lakeview Rd 2 priced at 600000, House at Forest Ln 8 priced at 800000]"
   ]
  }
 ],
 "metadata": {
  "kernelspec": {
   "display_name": "Python 3",
   "language": "python",
   "name": "python3"
  },
  "language_info": {
   "codemirror_mode": {
    "name": "ipython",
    "version": 3
   },
   "file_extension": ".py",
   "mimetype": "text/x-python",
   "name": "python",
   "nbconvert_exporter": "python",
   "pygments_lexer": "ipython3",
   "version": "3.11.5"
  },
  "orig_nbformat": 4
 },
 "nbformat": 4,
 "nbformat_minor": 2
}
