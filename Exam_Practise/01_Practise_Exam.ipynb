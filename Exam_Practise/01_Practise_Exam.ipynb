{
 "cells": [
  {
   "cell_type": "markdown",
   "metadata": {},
   "source": [
    "# Övningstenta\n",
    "\n",
    "---\n",
    "\n",
    "### Uppgift 1 (3p)\n",
    "\n",
    "Beskriv vad koden gör och vad som skrivs ut:"
   ]
  },
  {
   "cell_type": "code",
   "execution_count": null,
   "metadata": {},
   "outputs": [],
   "source": [
    "maträtter = [\"lasagne\", \"sushi\", \"hamburgare\"]\n",
    "favoritmat = maträtter[0]\n",
    "print(favoritmat[3])"
   ]
  },
  {
   "cell_type": "markdown",
   "metadata": {},
   "source": [
    "Skriv en kort kommentar för varje rad.  \n",
    "\n",
    "<br>\n",
    "\n",
    "### Uppgift 2 (3p)\n",
    "\n",
    "Skriv en funktion som tar in en bas och en höjd som inparametrar och som returnerar ytan av en triangel.  \n",
    "\n",
    "Formeln för en triangels yta är:  \n",
    "\n",
    "**A = 1/2 × bas × höjd**\n",
    "\n",
    "Låt användaren mata in en bas och en höjd och kör funktionen. Tänk på att ta med lämplig felhantering.  \n",
    "\n",
    "<br>\n",
    "\n",
    "### Uppgift 3 (3p)\n",
    "\n",
    "Simulera väderförhållandena för varje dag i ett år (365 dagar). Vädertyperna är \"soligt\", \"molnigt\", \"regnigt\", \"snöigt\", och \"stormigt\".  \n",
    "\n",
    "Spara resultaten i en lämplig datastruktur och beräkna sedan antalet dagar för varje vädertyp.\n",
    "\n",
    "<br>\n",
    "\n",
    "### Uppgift 4 (3p)\n",
    "\n",
    "Skapa en funktion som tar in ett heltal n som parameter och skriver ut följande mönster, där 'x' representerar en cell i den diagonala linjen och 'o' representerar en tom cell.\n",
    "\n",
    "Exempel när n = 5:"
   ]
  },
  {
   "cell_type": "markdown",
   "metadata": {},
   "source": []
  },
  {
   "cell_type": "markdown",
   "metadata": {},
   "source": []
  },
  {
   "cell_type": "markdown",
   "metadata": {},
   "source": []
  },
  {
   "cell_type": "code",
   "execution_count": null,
   "metadata": {},
   "outputs": [],
   "source": [
    "x o o o o\n",
    "o x o o o\n",
    "o o x o o\n",
    "o o o x o\n",
    "o o o o x"
   ]
  },
  {
   "cell_type": "markdown",
   "metadata": {},
   "source": [
    "<br>\n",
    "\n",
    "### Uppgift 5 (4p)\n",
    "\n",
    "Skapa en funktion som tar in en summa pengar i euro. Den ska printa ut en representation av sedlar och mynt som representerar summan mellan 1 och 100 euro.\n",
    "\n",
    "Valörer:  \n",
    "\n",
    "50 € sedel  \n",
    "20 € sedel  \n",
    "10 € sedel  \n",
    "5 € sedel  \n",
    "2 € mynt  \n",
    "1 € mynt  \n",
    "\n",
    "Exempel **87** ska ge:  \n",
    "\n",
    "50 € sedel: 1  \n",
    "20 € sedel: 1  \n",
    "10 € sedel: 1  \n",
    "5 € sedel: 1  \n",
    "2 € mynt: 1  \n",
    "\n",
    "<br>\n",
    "\n",
    "### Uppgift 6 (4p)\n",
    "\n",
    "Du har följande kod:  "
   ]
  },
  {
   "cell_type": "code",
   "execution_count": null,
   "metadata": {},
   "outputs": [],
   "source": [
    "class Litteratur:\n",
    "    def __init__(self, titel):\n",
    "        self.titel = titel\n",
    "\n",
    "    def __str__(self):\n",
    "        return f'Litteratur: \"{self.titel}\"'\n",
    "\n",
    "class Bok(Litteratur):\n",
    "    def __str__(self):\n",
    "        return f'Bok: \"{self.titel}\"'\n",
    "\n",
    "class Tidning(Litteratur):\n",
    "    def __str__(self):\n",
    "        return f'Tidning: \"{self.titel}\"'\n",
    "\n",
    "class Tidskrift(Litteratur):\n",
    "    def __str__(self):\n",
    "        return f'Tidskrift: \"{self.titel}\"'\n",
    "\n",
    "# TO-DO: implementera Bibliotekarie\n",
    "class Bibliotekarie:\n",
    "    ...\n",
    "\n",
    "# manuell test av Bibliotekarie\n",
    "bib1 = Bibliotekarie(\"Erik\", böcker=[\"Sagan om Ringen\", \"Hobbiten\"], tidningar=[\"Dagens Nyheter\"], tidskrifter=[\"Nature\"])\n",
    "bib2 = Bibliotekarie(\"Anna\", böcker=[\"Moby Dick\"], tidskrifter=[\"Science\"])\n",
    "print(bib1)\n",
    "print(bib2)"
   ]
  },
  {
   "cell_type": "markdown",
   "metadata": {},
   "source": [
    "Implementera Bibliotekarie klassen så att du får liknande utskrift som nedan med det manuella testet:"
   ]
  },
  {
   "cell_type": "code",
   "execution_count": null,
   "metadata": {},
   "outputs": [],
   "source": [
    "Erik ansvarar för:\n",
    "[Bok: \"Sagan om Ringen\", Bok: \"Hobbiten\"]\n",
    "[Tidning: \"Dagens Nyheter\"]\n",
    "[Tidskrift: \"Nature\"]\n",
    "Anna ansvarar för:\n",
    "[Bok: \"Moby Dick\"]\n",
    "[Tidskrift: \"Science\"]"
   ]
  }
 ],
 "metadata": {
  "kernelspec": {
   "display_name": "Python 3",
   "language": "python",
   "name": "python3"
  },
  "language_info": {
   "codemirror_mode": {
    "name": "ipython",
    "version": 3
   },
   "file_extension": ".py",
   "mimetype": "text/x-python",
   "name": "python",
   "nbconvert_exporter": "python",
   "pygments_lexer": "ipython3",
   "version": "3.11.5"
  },
  "orig_nbformat": 4
 },
 "nbformat": 4,
 "nbformat_minor": 2
}
