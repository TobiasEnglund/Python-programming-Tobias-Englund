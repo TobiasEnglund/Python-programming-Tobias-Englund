{
 "cells": [
  {
   "cell_type": "markdown",
   "metadata": {},
   "source": [
    "# Glossary training program\n",
    "\n",
    "Create a glossary training program, where the user can test their skills on translating the names of english colors to swedish:\n",
    "\n",
    "- The program should ask the user to write a color in swedish (eg. \"Type the Swedish word for 'red': )\n",
    "- Then let the user know if it was correct (and if not, show them the correct translation)\n",
    "- Keep asking to translate random colors until the user inputs an blank answer (\"\")\n",
    "- Lastly let the user know how many of their translations where correct, how many they guess in total, and the ratio of correct answer (eg. \"You got 3 out of 5 correct answers. That is 60%\")"
   ]
  },
  {
   "cell_type": "code",
   "execution_count": 1,
   "metadata": {},
   "outputs": [
    {
     "name": "stdout",
     "output_type": "stream",
     "text": [
      "Correct! One point for Gryffindor!\n",
      "Correct! One point for Gryffindor!\n",
      "Incorrect :( One point for Slytherin\n",
      "Correct! One point for Gryffindor!\n",
      "Correct! One point for Gryffindor!\n",
      "Incorrect :( One point for Slytherin\n",
      "correct_answers = 4\n",
      "incorrect_answers = 2\n",
      "total_attempts = 6\n",
      "Gryffindoor: 4 points!\n",
      "Slytherin: 2 points :(\n",
      "Victory! Gryffindoor beats Slytherin by 2\n"
     ]
    }
   ],
   "source": [
    "colors_in_swedish = {\n",
    "    \"red\": \"röd\",\n",
    "    \"blue\": \"blå\",\n",
    "    \"purple\": \"lila\",\n",
    "    \"green\": \"grön\",\n",
    "    \"yellow\": \"gul\",\n",
    "    \"orange\": \"orange\",\n",
    "    \"black\": \"svart\",\n",
    "    \"white\": \"vit\",\n",
    "    \"pink\": \"rosa\",\n",
    "    \"brown\": \"brun\",\n",
    "    \"gray\": \"grå\",\n",
    "    \"turquoise\": \"turkos\",\n",
    "    \"violet\": \"violett\",\n",
    "    \"gold\": \"guld\",\n",
    "    \"silver\": \"silver\",\n",
    "    \"beige\": \"beige\",\n",
    "    \"indigo\": \"indigo\",\n",
    "    \"maroon\": \"mörkröd\",\n",
    "    \"navy\": \"marinblå\",\n",
    "    \"teal\": \"blågrön\",\n",
    "}\n",
    "\n",
    "correct_answers = 0\n",
    "incorrect_answers = 0\n",
    "total_attempts = 0\n",
    "\n",
    "for color in colors_in_swedish.keys():\n",
    "    user_input = input(f\"Type the Swedish word for '{color}': \").lower()\n",
    "    \n",
    "    if user_input == \"\":\n",
    "            break\n",
    "    elif user_input == colors_in_swedish[color]:\n",
    "        correct_answers += 1\n",
    "        total_attempts += 1\n",
    "        print(\"Correct! One point for Gryffindor!\")\n",
    "    else:\n",
    "        incorrect_answers += 1\n",
    "        total_attempts += 1\n",
    "        print(\"Incorrect :( One point for Slytherin\")\n",
    "\n",
    "# print(f'{correct_answers = }')\n",
    "# print(f'{incorrect_answers = }')\n",
    "# print(f'{total_attempts = }')\n",
    "\n",
    "print(f'Gryffindoor: {correct_answers} points!')\n",
    "print(f'Slytherin: {incorrect_answers} points :(')\n",
    "\n",
    "if correct_answers > incorrect_answers:\n",
    "    print(f\"Victory! Gryffindoor beats Slytherin by {correct_answers - incorrect_answers}\")\n",
    "elif correct_answers < incorrect_answers:\n",
    "    print(f\"You lose :( Slytherin beats Gryffindoor by {incorrect_answers - correct_answers}\")\n",
    "else:\n",
    "    print(\"It's a tie!\")\n",
    "\n"
   ]
  }
 ],
 "metadata": {
  "kernelspec": {
   "display_name": "Python 3",
   "language": "python",
   "name": "python3"
  },
  "language_info": {
   "codemirror_mode": {
    "name": "ipython",
    "version": 3
   },
   "file_extension": ".py",
   "mimetype": "text/x-python",
   "name": "python",
   "nbconvert_exporter": "python",
   "pygments_lexer": "ipython3",
   "version": "3.11.5"
  },
  "orig_nbformat": 4
 },
 "nbformat": 4,
 "nbformat_minor": 2
}
