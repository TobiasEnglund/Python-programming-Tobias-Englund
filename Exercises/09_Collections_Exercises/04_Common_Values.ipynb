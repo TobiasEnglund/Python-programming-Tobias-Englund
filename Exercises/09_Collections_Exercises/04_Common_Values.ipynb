{
 "cells": [
  {
   "cell_type": "markdown",
   "metadata": {},
   "source": [
    "# Find common values between two inputs\n",
    "\n",
    "Ask the user to input items on a comma-seperated list (1 input string)\n",
    "\n",
    "Then ask the user to input a new string of comma seperated items.\n",
    "\n",
    "Lastly, print all the items that appeared in both lists.\n",
    "\n",
    "Example:\n",
    "\n",
    "- Input A: green, red, yellow, purple, blue\n",
    "- Input B: red, blue, black, white, brown\n",
    "- Output: red, blue"
   ]
  },
  {
   "cell_type": "code",
   "execution_count": 21,
   "metadata": {},
   "outputs": [
    {
     "name": "stdout",
     "output_type": "stream",
     "text": [
      "1, 2, 3\n"
     ]
    }
   ],
   "source": [
    "input_a = input(\"Please enter a comma separated list (without brackets, e.g blue, red, purple)\")\n",
    "input_b = input(\"Please enter another comma separated list (without brackets, e.g blue, red, purple)\")\n",
    "\n",
    "input_list_a = [item.strip() for item in input_a.split(\",\")]\n",
    "input_list_b = [item.strip() for item in input_b.split(\",\")]\n",
    "input_in_common = \"\"\n",
    "\n",
    "for item in input_list_a:\n",
    "    if item in input_list_b:\n",
    "        input_in_common += item + \", \"\n",
    "        \n",
    "print(input_in_common[:-2])"
   ]
  }
 ],
 "metadata": {
  "kernelspec": {
   "display_name": "Python 3",
   "language": "python",
   "name": "python3"
  },
  "language_info": {
   "codemirror_mode": {
    "name": "ipython",
    "version": 3
   },
   "file_extension": ".py",
   "mimetype": "text/x-python",
   "name": "python",
   "nbconvert_exporter": "python",
   "pygments_lexer": "ipython3",
   "version": "3.11.5"
  },
  "orig_nbformat": 4
 },
 "nbformat": 4,
 "nbformat_minor": 2
}
