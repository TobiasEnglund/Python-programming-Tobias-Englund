{
 "cells": [
  {
   "cell_type": "markdown",
   "metadata": {},
   "source": [
    "# Print inputed values in reverse\n",
    "\n",
    "Create a loop that keeps asking for user input until the user inputs an empty string, then print all inputs in reverse order."
   ]
  },
  {
   "cell_type": "code",
   "execution_count": 11,
   "metadata": {},
   "outputs": [
    {
     "name": "stdout",
     "output_type": "stream",
     "text": [
      "friend\n",
      "my\n",
      "hello\n"
     ]
    }
   ],
   "source": [
    "input_list = []\n",
    "while True:\n",
    "    user_input = input(\"Please enter something. Press Enter to exit.\")\n",
    "    if user_input != \"\":\n",
    "        input_list.append(user_input)\n",
    "    else:\n",
    "        break\n",
    "    \n",
    "input_list_in_reverse = input_list[::-1]\n",
    "    \n",
    "for input in input_list_in_reverse:\n",
    "    print(input)"
   ]
  }
 ],
 "metadata": {
  "kernelspec": {
   "display_name": "Python 3",
   "language": "python",
   "name": "python3"
  },
  "language_info": {
   "codemirror_mode": {
    "name": "ipython",
    "version": 3
   },
   "file_extension": ".py",
   "mimetype": "text/x-python",
   "name": "python",
   "nbconvert_exporter": "python",
   "pygments_lexer": "ipython3",
   "version": "3.11.5"
  },
  "orig_nbformat": 4
 },
 "nbformat": 4,
 "nbformat_minor": 2
}
