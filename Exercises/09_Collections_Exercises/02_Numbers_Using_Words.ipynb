{
 "cells": [
  {
   "cell_type": "markdown",
   "metadata": {},
   "source": [
    "# Print a given number using words\n",
    "\n",
    "Create a dictionary with 10 key-value pairs: {\"0\": \"Zero\", \"1\": \"One\", ..., \"9\": \"Nine\"}\n",
    "\n",
    "Make the program ask the user to input a number, then print the word for each number in sequence;\n",
    "\n",
    "Example:\n",
    "- Input: 34507\n",
    "- Output: Three-Four-Five-Zero-Seven"
   ]
  },
  {
   "cell_type": "code",
   "execution_count": 20,
   "metadata": {},
   "outputs": [
    {
     "name": "stdout",
     "output_type": "stream",
     "text": [
      "user_input = '34507'\n",
      "Three-Four-Five-Zero-Seven\n"
     ]
    }
   ],
   "source": [
    "numbers_in_words = {\n",
    "    \"0\": \"Zero\",\n",
    "    \"1\": \"One\",\n",
    "    \"2\": \"Two\",\n",
    "    \"3\": \"Three\",\n",
    "    \"4\": \"Four\",\n",
    "    \"5\": \"Five\",\n",
    "    \"6\": \"Six\",\n",
    "    \"7\": \"Seven\",\n",
    "    \"8\": \"Eight\",\n",
    "    \"9\": \"Nine\"\n",
    "}\n",
    "\n",
    "user_input = input(\"Please enter a number:\")\n",
    "user_input_words = \"\"\n",
    "for number in user_input:\n",
    "    if number in numbers_in_words:\n",
    "        user_input_words += numbers_in_words[f\"{number}\"] + \"-\"\n",
    "        \n",
    "print(f'{user_input = }')\n",
    "print(user_input_words[:-1])"
   ]
  }
 ],
 "metadata": {
  "kernelspec": {
   "display_name": "Python 3",
   "language": "python",
   "name": "python3"
  },
  "language_info": {
   "codemirror_mode": {
    "name": "ipython",
    "version": 3
   },
   "file_extension": ".py",
   "mimetype": "text/x-python",
   "name": "python",
   "nbconvert_exporter": "python",
   "pygments_lexer": "ipython3",
   "version": "3.11.5"
  },
  "orig_nbformat": 4
 },
 "nbformat": 4,
 "nbformat_minor": 2
}
