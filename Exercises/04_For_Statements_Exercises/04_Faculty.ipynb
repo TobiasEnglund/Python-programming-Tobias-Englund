{
 "cells": [
  {
   "cell_type": "markdown",
   "metadata": {},
   "source": [
    "# Faculty\n",
    "\n",
    "- Use a for statement to compute *n!*\n",
    "- Let the user input *n*"
   ]
  },
  {
   "cell_type": "code",
   "execution_count": null,
   "metadata": {},
   "outputs": [],
   "source": [
    "n = input(\"Please enter a number (higher than 0):\")\n",
    "\n",
    "if int(n) <= 0:\n",
    "    print(\"Please enter a number higher than zero.\")\n",
    "else:\n",
    "    n_faculty = 1\n",
    "    for i in range(1, int(n) + 1):\n",
    "        if int(n) > 0:\n",
    "            n_faculty = n_faculty * i\n",
    "        else:\n",
    "            print(\"Please enter a number higher than 0.\")\n",
    "            break\n",
    "    print(f'{n}! = {n_faculty}')\n",
    "        \n",
    "    "
   ]
  }
 ],
 "metadata": {
  "kernelspec": {
   "display_name": "Python 3",
   "language": "python",
   "name": "python3"
  },
  "language_info": {
   "codemirror_mode": {
    "name": "ipython",
    "version": 3
   },
   "file_extension": ".py",
   "mimetype": "text/x-python",
   "name": "python",
   "nbconvert_exporter": "python",
   "pygments_lexer": "ipython3",
   "version": "3.11.5"
  },
  "orig_nbformat": 4
 },
 "nbformat": 4,
 "nbformat_minor": 2
}
