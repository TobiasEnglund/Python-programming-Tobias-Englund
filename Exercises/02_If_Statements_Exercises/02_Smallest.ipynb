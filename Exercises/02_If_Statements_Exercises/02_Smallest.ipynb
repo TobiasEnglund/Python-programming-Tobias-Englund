{
 "cells": [
  {
   "cell_type": "markdown",
   "metadata": {},
   "source": [
    "# Smallest\n",
    "\n",
    "Ask the user to input two numbers and check which one is the smallest and print it out."
   ]
  },
  {
   "cell_type": "code",
   "execution_count": null,
   "metadata": {},
   "outputs": [],
   "source": [
    "number1 = int(input(\"Please enter the first number\"))\n",
    "number2 = int(input(\"Please enter the second number\"))\n",
    "\n",
    "if number1 > number2:\n",
    "    print(f\"The second number ({number2}) is smaller than the first ({number1}).\")\n",
    "elif number2 > number1:\n",
    "    print(f\"The first number ({number1}) is smaller than the second ({number2}).\")\n",
    "else:\n",
    "    print(f\"The first ({number1}) and second number ({number2}) are equal.\")"
   ]
  }
 ],
 "metadata": {
  "kernelspec": {
   "display_name": "Python 3",
   "language": "python",
   "name": "python3"
  },
  "language_info": {
   "codemirror_mode": {
    "name": "ipython",
    "version": 3
   },
   "file_extension": ".py",
   "mimetype": "text/x-python",
   "name": "python",
   "nbconvert_exporter": "python",
   "pygments_lexer": "ipython3",
   "version": "3.11.5"
  },
  "orig_nbformat": 4
 },
 "nbformat": 4,
 "nbformat_minor": 2
}
