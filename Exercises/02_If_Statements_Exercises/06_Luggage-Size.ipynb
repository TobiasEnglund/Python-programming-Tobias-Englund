{
 "cells": [
  {
   "cell_type": "markdown",
   "metadata": {},
   "source": [
    "# Luggage Size\n",
    "\n",
    "The maximum allowed luggage size for boarding an airplane is:\n",
    "\n",
    "- Weight: 8kg\n",
    "- Dimensions: 55x40x23cm (length x width x height)\n",
    "\n",
    "Let the user input weight, length, width and height of the luggage. The program should check if the luggage is allowed or not."
   ]
  },
  {
   "cell_type": "code",
   "execution_count": 13,
   "metadata": {},
   "outputs": [
    {
     "name": "stdout",
     "output_type": "stream",
     "text": [
      "Your luggage weighs 7kg and its dimensions are 50x35x20 cm, which is within the limits. It's allowed!\n"
     ]
    }
   ],
   "source": [
    "while True:\n",
    "    # Weight\n",
    "    weight = input(\"Please enter the weight of the luggage.\")\n",
    "\n",
    "    # Dimensions\n",
    "    length = input(\"Please enter the length of the luggage.\")\n",
    "    width = input(\"Please enter the width of the luggage.\")\n",
    "    height = input(\"Please enter the height of the luggage.\")\n",
    "    \n",
    "    if weight.isdigit() and length.isdigit() and width.isdigit() and height.isdigit():\n",
    "        if int(weight) >= 8:\n",
    "            print(f\"Your luggage is not allowed.\")\n",
    "            break\n",
    "        elif int(length) > 55:\n",
    "            print(\"Your luggage is not allowed.\")\n",
    "            break\n",
    "        elif int(width) > 40:\n",
    "            print(\"Your luggage is not allowed.\")\n",
    "            break\n",
    "        elif int(height) > 23:\n",
    "            print(\"Your luggage is not allowed.\")\n",
    "            break\n",
    "        else:\n",
    "            print(f\"Your luggage weighs {weight}kg and its dimensions are {length}x{width}x{height} cm, which is within the limits. It's allowed!\")\n",
    "            break\n",
    "    else:\n",
    "        print(\"Invalid input. Please enter numbers only.\")\n",
    "        break        \n",
    "        "
   ]
  }
 ],
 "metadata": {
  "kernelspec": {
   "display_name": "Python 3",
   "language": "python",
   "name": "python3"
  },
  "language_info": {
   "codemirror_mode": {
    "name": "ipython",
    "version": 3
   },
   "file_extension": ".py",
   "mimetype": "text/x-python",
   "name": "python",
   "nbconvert_exporter": "python",
   "pygments_lexer": "ipython3",
   "version": "3.11.5"
  },
  "orig_nbformat": 4
 },
 "nbformat": 4,
 "nbformat_minor": 2
}
