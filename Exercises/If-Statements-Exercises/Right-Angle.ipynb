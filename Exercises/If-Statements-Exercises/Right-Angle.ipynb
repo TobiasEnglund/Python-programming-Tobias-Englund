{
 "cells": [
  {
   "cell_type": "markdown",
   "metadata": {},
   "source": [
    "# Right angle\n",
    "\n",
    "* Ask the user to input three angles and check if the triangle has a right angle. \n",
    "* Your code should make sure that all three angles are valid and make up a triangle."
   ]
  },
  {
   "cell_type": "code",
   "execution_count": 4,
   "metadata": {},
   "outputs": [
    {
     "name": "stdout",
     "output_type": "stream",
     "text": [
      "Current total: 50 degrees. 130 remaining.\n",
      "Current total: 100 degrees. 80 remaining.\n",
      "Current total: 150 degrees.\n",
      "This is not a triangle. Better luck next time!\n"
     ]
    }
   ],
   "source": [
    "angle1 = int(input(\"Please enter the first angle: \"))\n",
    "print(f\"Current total: {angle1} degrees. {180 - angle1} remaining.\")\n",
    "\n",
    "angle2 = int(input(\"Please enter the second angle: \"))\n",
    "current_total = angle1 + angle2\n",
    "print(f\"Current total: {current_total} degrees. {180 - current_total} remaining.\")\n",
    "\n",
    "angle3 = int(input(\"Please enter the third angle: \"))\n",
    "angles_total = current_total + angle3\n",
    "print(f\"Current total: {angles_total} degrees.\")\n",
    "\n",
    "if angles_total == 180:\n",
    "    if angle1 == 90 or angle2 == 90 or angle3 == 90:\n",
    "        print(\"The triangle has a right angle.\")\n",
    "    else:\n",
    "        print(\"The triangle does not have a right angle.\")\n",
    "else:\n",
    "    print(\"This is not a triangle. Better luck next time!\")\n"
   ]
  }
 ],
 "metadata": {
  "kernelspec": {
   "display_name": "Python 3",
   "language": "python",
   "name": "python3"
  },
  "language_info": {
   "codemirror_mode": {
    "name": "ipython",
    "version": 3
   },
   "file_extension": ".py",
   "mimetype": "text/x-python",
   "name": "python",
   "nbconvert_exporter": "python",
   "pygments_lexer": "ipython3",
   "version": "3.11.5"
  },
  "orig_nbformat": 4
 },
 "nbformat": 4,
 "nbformat_minor": 2
}
