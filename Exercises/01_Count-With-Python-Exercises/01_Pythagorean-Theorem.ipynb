{
 "cells": [
  {
   "cell_type": "markdown",
   "metadata": {},
   "source": [
    "# Pythagorean Theorem\n",
    "\n",
    "Formula = a^2 + b^2 = c^2\n",
    "\n",
    "Exercise 1: A right angled triangle has the catheti: a = 3 and b = 4 length units. Compute the hypothenuse of the triangle."
   ]
  },
  {
   "cell_type": "code",
   "execution_count": 1,
   "metadata": {},
   "outputs": [
    {
     "name": "stdout",
     "output_type": "stream",
     "text": [
      "5.0\n"
     ]
    }
   ],
   "source": [
    "import math\n",
    "\n",
    "cathetus_a = 3\n",
    "cathetus_b = 4\n",
    "\n",
    "hypothenuse = math.sqrt(cathetus_a**2 + cathetus_b**2)\n",
    "\n",
    "print(hypothenuse)"
   ]
  },
  {
   "cell_type": "markdown",
   "metadata": {},
   "source": [
    "Exercise 2: A right angled triangle has hypothenuse c = 7.0 and a cathetus a = 5.0 length units. Compute the other cathetus and round to one decimal.\n",
    "\n",
    "a^2 + b^2 = c^2\n",
    "\n",
    "b^2 = c^2 - a^2"
   ]
  },
  {
   "cell_type": "code",
   "execution_count": 13,
   "metadata": {},
   "outputs": [
    {
     "name": "stdout",
     "output_type": "stream",
     "text": [
      "4.9\n"
     ]
    }
   ],
   "source": [
    "import math\n",
    "\n",
    "hypothenuse = 7.0\n",
    "cathetus_a = 5.0\n",
    "\n",
    "cathetus_b = math.sqrt(hypothenuse**2 - cathetus_a**2)\n",
    "\n",
    "print(f\"{cathetus_b:.1f}\")"
   ]
  }
 ],
 "metadata": {
  "kernelspec": {
   "display_name": "Python 3",
   "language": "python",
   "name": "python3"
  },
  "language_info": {
   "codemirror_mode": {
    "name": "ipython",
    "version": 3
   },
   "file_extension": ".py",
   "mimetype": "text/x-python",
   "name": "python",
   "nbconvert_exporter": "python",
   "pygments_lexer": "ipython3",
   "version": "3.11.5"
  },
  "orig_nbformat": 4
 },
 "nbformat": 4,
 "nbformat_minor": 2
}
