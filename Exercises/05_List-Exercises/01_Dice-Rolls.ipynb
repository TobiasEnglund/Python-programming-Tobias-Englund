{
 "cells": [
  {
   "cell_type": "markdown",
   "metadata": {},
   "source": [
    "# Dice Rolls\n",
    "\n",
    "Simulate 10 dice rolls and append the rolls to a list or use list comprehension.\n",
    "\n",
    "*  a)   sort the list in ascending order \n",
    "\n",
    "*  b)   sort the list in descending order \n",
    "\n",
    "*  c)   find the maximum and minimum value in the list "
   ]
  },
  {
   "cell_type": "code",
   "execution_count": 24,
   "metadata": {},
   "outputs": [
    {
     "name": "stdout",
     "output_type": "stream",
     "text": [
      "[1, 2, 2, 2, 2, 2, 4, 5, 6, 6]\n",
      "[6, 6, 5, 4, 2, 2, 2, 2, 2, 1]\n",
      "6\n",
      "1\n"
     ]
    }
   ],
   "source": [
    "import random\n",
    "\n",
    "rolls = []\n",
    "\n",
    "i = 0\n",
    "for i in range(10):\n",
    "    roll = random.randint(1, 6)\n",
    "    rolls.append(roll)\n",
    "    \n",
    "# a)\n",
    "sorted_rolls = sorted(rolls)\n",
    "print(sorted_rolls)\n",
    "\n",
    "# b)\n",
    "sorted_rolls_reverse = sorted(rolls, reverse = True)\n",
    "print(sorted_rolls_reverse)\n",
    "\n",
    "# c)\n",
    "max_num = sorted_rolls[-1]\n",
    "min_num = sorted_rolls[0]\n",
    "\n",
    "print(max_num)\n",
    "print(min_num)"
   ]
  },
  {
   "cell_type": "markdown",
   "metadata": {},
   "source": []
  }
 ],
 "metadata": {
  "kernelspec": {
   "display_name": "Python 3",
   "language": "python",
   "name": "python3"
  },
  "language_info": {
   "codemirror_mode": {
    "name": "ipython",
    "version": 3
   },
   "file_extension": ".py",
   "mimetype": "text/x-python",
   "name": "python",
   "nbconvert_exporter": "python",
   "pygments_lexer": "ipython3",
   "version": "3.11.5"
  },
  "orig_nbformat": 4
 },
 "nbformat": 4,
 "nbformat_minor": 2
}
