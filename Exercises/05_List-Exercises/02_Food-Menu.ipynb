{
 "cells": [
  {
   "cell_type": "markdown",
   "metadata": {},
   "source": [
    "# Food menu\n",
    "\n",
    "Create a:\n",
    "\n",
    "*  a)   list with the following elements: \"vegetarisk lasagne\", \"spaghetti\", \"fisk\", \"grönsakssoppa\", \"pannkakor\".\n",
    "\n",
    "*  b)   list with the weekdays\n",
    "\n",
    "*  c)   create a food menu with each day corresponding to each food item and print it out."
   ]
  },
  {
   "cell_type": "code",
   "execution_count": 9,
   "metadata": {},
   "outputs": [
    {
     "name": "stdout",
     "output_type": "stream",
     "text": [
      "This is the weekly menu:\n",
      "\n",
      "Monday: vegetarisk lasagne\n",
      "Tuesday: spaghetti\n",
      "Wednesday: fisk\n",
      "Thursday: grönsakssoppa\n",
      "Friday: pannkakor\n"
     ]
    }
   ],
   "source": [
    "# a)\n",
    "\n",
    "menu = [\"vegetarisk lasagne\", \"spaghetti\", \"fisk\", \"grönsakssoppa\", \"pannkakor\"]\n",
    "\n",
    "# b)\n",
    "\n",
    "weekdays = [\"Monday\", \"Tuesday\", \"Wednesday\", \"Thursday\", \"Friday\"]\n",
    "\n",
    "# c)\n",
    "\n",
    "print(\"This is the weekly menu:\\n\")\n",
    "i = 0\n",
    "for i in range(5):\n",
    "    print(weekdays[i] + \": \" + menu[i])"
   ]
  }
 ],
 "metadata": {
  "kernelspec": {
   "display_name": "Python 3",
   "language": "python",
   "name": "python3"
  },
  "language_info": {
   "codemirror_mode": {
    "name": "ipython",
    "version": 3
   },
   "file_extension": ".py",
   "mimetype": "text/x-python",
   "name": "python",
   "nbconvert_exporter": "python",
   "pygments_lexer": "ipython3",
   "version": "3.11.5"
  },
  "orig_nbformat": 4
 },
 "nbformat": 4,
 "nbformat_minor": 2
}
