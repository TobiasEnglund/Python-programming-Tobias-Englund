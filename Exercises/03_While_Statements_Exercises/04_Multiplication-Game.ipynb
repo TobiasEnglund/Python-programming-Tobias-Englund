{
 "cells": [
  {
   "cell_type": "markdown",
   "metadata": {},
   "source": [
    "# Multiplication Game\n",
    "\n",
    "- a) Create a multiplication game.\n",
    "- b) Add a menu for choosing difficulty level of the game.\n",
    "- c) Feel free to extend this program with features of your own."
   ]
  },
  {
   "cell_type": "code",
   "execution_count": 3,
   "metadata": {},
   "outputs": [
    {
     "name": "stdout",
     "output_type": "stream",
     "text": [
      "You chose 50. Try a lower number!\n",
      "You chose 25. Try a lower number!\n",
      "You guessed correctly! x (4) * y (3) is 12.\n"
     ]
    }
   ],
   "source": [
    "import random\n",
    "\n",
    "random_x = random.randint(1, 10)\n",
    "random_y = random.randint(1, 10)\n",
    "\n",
    "while True:\n",
    "    user_guess = input(\"Guess what x * y is!\")\n",
    "    if not user_guess.isdigit:\n",
    "        continue\n",
    "    \n",
    "    user_guess = int(user_guess)\n",
    "    if user_guess == random_x * random_y:\n",
    "        print(f\"You guessed correctly! x ({random_x}) * y ({random_y}) is {random_x * random_y}.\")\n",
    "        break\n",
    "    elif user_guess > random_x * random_y:\n",
    "        print(f\"You chose {user_guess}. Try a lower number!\")\n",
    "    else:\n",
    "        print(f\"You chose {user_guess}. Try a higher number!\")\n",
    "        \n"
   ]
  }
 ],
 "metadata": {
  "kernelspec": {
   "display_name": "Python 3",
   "language": "python",
   "name": "python3"
  },
  "language_info": {
   "codemirror_mode": {
    "name": "ipython",
    "version": 3
   },
   "file_extension": ".py",
   "mimetype": "text/x-python",
   "name": "python",
   "nbconvert_exporter": "python",
   "pygments_lexer": "ipython3",
   "version": "3.11.5"
  },
  "orig_nbformat": 4
 },
 "nbformat": 4,
 "nbformat_minor": 2
}
