{
 "cells": [
  {
   "cell_type": "markdown",
   "metadata": {},
   "source": [
    "# Curriculum\n",
    "\n",
    "- Create a dictionary containing all the courses that you will study in this program, with the course names as **keys** and the amount of points as **value**. \n",
    "- Then calculate the number of points that you will study in total."
   ]
  },
  {
   "cell_type": "code",
   "execution_count": 2,
   "metadata": {},
   "outputs": [
    {
     "name": "stdout",
     "output_type": "stream",
     "text": [
      "Introductionskurs till AI = 5p\n",
      "Programmering med Python = 40p\n",
      "Databehandling = 25p\n",
      "Linjär Algebra = 20p\n",
      "Statistiska metoder = 30p\n",
      "Maskininlärning = 45p\n",
      "Djup Maskininlärning = 40p\n",
      "Databaser = 25p\n",
      "LIA 1 = 40p\n",
      "Data engineering och agila metoder = 45p\n",
      "LIA 2 = 70p\n",
      "Examensarbete = 15p\n"
     ]
    }
   ],
   "source": [
    "my_curriculum = {\n",
    "    \"Introductionskurs till AI\": 5,\n",
    "    \"Programmering med Python\": 40,\n",
    "    \"Databehandling\": 25,\n",
    "    \"Linjär Algebra\": 20,\n",
    "    \"Statistiska metoder\": 30,\n",
    "    \"Maskininlärning\": 45,\n",
    "    \"Djup Maskininlärning\": 40,\n",
    "    \"Databaser\": 25,\n",
    "    \"LIA 1\": 40,\n",
    "    \"Data engineering och agila metoder\": 45,\n",
    "    \"LIA 2\": 70,\n",
    "    \"Examensarbete\": 15\n",
    "}\n",
    "\n",
    "for key, value in my_curriculum.items():\n",
    "    print(f'{key} = {value}p')"
   ]
  }
 ],
 "metadata": {
  "kernelspec": {
   "display_name": "Python 3",
   "language": "python",
   "name": "python3"
  },
  "language_info": {
   "codemirror_mode": {
    "name": "ipython",
    "version": 3
   },
   "file_extension": ".py",
   "mimetype": "text/x-python",
   "name": "python",
   "nbconvert_exporter": "python",
   "pygments_lexer": "ipython3",
   "version": "3.11.5"
  },
  "orig_nbformat": 4
 },
 "nbformat": 4,
 "nbformat_minor": 2
}
