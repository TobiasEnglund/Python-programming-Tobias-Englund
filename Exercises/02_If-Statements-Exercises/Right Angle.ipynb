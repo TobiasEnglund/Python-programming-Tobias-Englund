{
 "cells": [
  {
   "cell_type": "markdown",
   "metadata": {},
   "source": [
    "# Right angle\n",
    "\n",
    "* Ask the user to input three angles and check if the triangle has a right angle. \n",
    "* Your code should make sure that all three angles are valid and make up a triangle."
   ]
  },
  {
   "cell_type": "code",
   "execution_count": null,
   "metadata": {},
   "outputs": [],
   "source": [
    "while True:\n",
    "\n",
    "    angle1 = input(\"Please enter the first angle: \")\n",
    "    if angle1.isdigit():\n",
    "        first_angle = float(angle1)\n",
    "        print(f\"Current total: {angle1} degrees. {180 - angle1} remaining to create a triangle.\")\n",
    "        break\n",
    "    else:\n",
    "        print(\"Please enter a number.\")\n",
    "        continue\n",
    "        \n",
    "while True:\n",
    "\n",
    "    angle2 = input(\"Please enter the first angle: \")\n",
    "    if angle1.isdigit():\n",
    "        second_angle = float(angle2)\n",
    "        current_total = first_angle + second_angle\n",
    "        print(f\"Current total: {current_total} degrees. {180 - current_total} remaining to create a triangle.\")\n",
    "        break\n",
    "    else:\n",
    "        print(\"Please enter a number.\")\n",
    "        continue\n",
    "\n",
    "while True:\n",
    "\n",
    "    angle3 = input(\"Please enter the first angle: \")\n",
    "    if angle1.isdigit():\n",
    "        third_angle = float(angle3)\n",
    "        print(f\"Current total: {current_total} degrees. {180 - current_total} remaining to create a triangle.\")\n",
    "        break\n",
    "    else:\n",
    "        print(\"Please enter a number.\")\n",
    "        continue\n",
    "            \n",
    "if angles_total == 180:\n",
    "    print(\"This is a triangle.\")\n",
    "    if angle1 == 90 or angle2 == 90 or angle3 == 90:\n",
    "        print(\"It has a right angle.\")\n",
    "    elif 180 < current_total > 180:\n",
    "        print(\"It does not have a right angle.\")\n",
    "    else:\n",
    "        print(\"This is not a triangle. Better luck next time!\")\n"
   ]
  }
 ],
 "metadata": {
  "kernelspec": {
   "display_name": "Python 3",
   "language": "python",
   "name": "python3"
  },
  "language_info": {
   "codemirror_mode": {
    "name": "ipython",
    "version": 3
   },
   "file_extension": ".py",
   "mimetype": "text/x-python",
   "name": "python",
   "nbconvert_exporter": "python",
   "pygments_lexer": "ipython3",
   "version": "3.11.5"
  },
  "orig_nbformat": 4
 },
 "nbformat": 4,
 "nbformat_minor": 2
}
