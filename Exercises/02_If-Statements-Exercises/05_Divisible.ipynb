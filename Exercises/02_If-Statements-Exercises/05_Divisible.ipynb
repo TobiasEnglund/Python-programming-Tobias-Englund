{
 "cells": [
  {
   "cell_type": "markdown",
   "metadata": {},
   "source": [
    "# Divisible\n",
    "\n",
    "Let the user input a number. Check if the number is\n",
    "\n",
    "- a) Even or odd\n",
    "- b) Is divisible by 5\n",
    "- c) Is divisble by 5 and odd"
   ]
  },
  {
   "cell_type": "code",
   "execution_count": 5,
   "metadata": {},
   "outputs": [
    {
     "name": "stdout",
     "output_type": "stream",
     "text": [
      "Your number is 85, which is an odd number.\n",
      "Your number is 9253, which is not divisible by 5.\n",
      "Your number is 71285, which is both odd and divisible by 5.\n"
     ]
    }
   ],
   "source": [
    "# a)\n",
    "\n",
    "while True:\n",
    "    number = input(\"Here we check if a number is odd or even. Please enter a number:\")\n",
    "    if number.isdigit():\n",
    "        if int(number) % 2 == 0:\n",
    "            print(f\"Your number is {number}, which is an even number.\")\n",
    "            break\n",
    "        else:\n",
    "            print(f\"Your number is {number}, which is an odd number.\")\n",
    "            break\n",
    "    else:\n",
    "        print(\"Invalid input. Please enter a number.\")\n",
    "        \n",
    "# b)\n",
    "\n",
    "while True:\n",
    "    number = input(\"Here we check if a number is divisible by 5. Please enter a number:\")\n",
    "    if number.isdigit():\n",
    "        if int(number) % 5 == 0:\n",
    "            print(f\"Your number is {number}, which is divisible by 5.\")\n",
    "            break\n",
    "        else:\n",
    "            print(f\"Your number is {number}, which is not divisible by 5.\")\n",
    "            break\n",
    "    else:\n",
    "        print(\"Invalid input. Please enter a number.\")\n",
    "        \n",
    "# c)\n",
    "\n",
    "while True:\n",
    "    number = input(\"Here we check if a number is both odd and divisible by 5. Please enter a number:\")\n",
    "    if number.isdigit():\n",
    "        if int(number) % 2 == 1 and int(number) % 5 == 0:\n",
    "            print(f\"Your number is {number}, which is both odd and divisible by 5.\")\n",
    "            break\n",
    "        elif int(number) % 5 == 0:\n",
    "            print(f\"Your number is {number}, which is divisible by 5, but not odd.\")\n",
    "            break\n",
    "        elif int(number) % 2 == 1:\n",
    "            print(f\"Your number is {number}, which is odd, but not divisible by 5.\")\n",
    "            break\n",
    "        else:\n",
    "            print(f\"Your number is {number}, which is neither odd nor divisible by 5.\")\n",
    "    else:\n",
    "        print(\"Invalid input. Please enter a number.\")"
   ]
  }
 ],
 "metadata": {
  "kernelspec": {
   "display_name": "Python 3",
   "language": "python",
   "name": "python3"
  },
  "language_info": {
   "codemirror_mode": {
    "name": "ipython",
    "version": 3
   },
   "file_extension": ".py",
   "mimetype": "text/x-python",
   "name": "python",
   "nbconvert_exporter": "python",
   "pygments_lexer": "ipython3",
   "version": "3.11.5"
  },
  "orig_nbformat": 4
 },
 "nbformat": 4,
 "nbformat_minor": 2
}
