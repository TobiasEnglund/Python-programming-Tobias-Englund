{
 "cells": [
  {
   "cell_type": "markdown",
   "metadata": {},
   "source": [
    "# Medicine\n",
    "\n",
    "The information in the following table is stated in a medicine package. Also it is stated that for children weight is more important than age.\n",
    "\n",
    "                                                Age             Number of pills\n",
    "                                            \n",
    "    Adults & adolescent over 40 kg:\t        12+  years\t        1 - 2\n",
    "    Children 26-40 kg:\t                7 - 12 years          \t1/2 - 1\n",
    "    Children 15-25 kg:\t                3 - 7 years           \t1/2\n",
    "\n",
    "Let the user input an age and a weight, the program should recommend the number of pills for the user."
   ]
  },
  {
   "cell_type": "code",
   "execution_count": null,
   "metadata": {},
   "outputs": [],
   "source": [
    "import math\n",
    "\n",
    "while True:\n",
    "    \n",
    "    weight = input(\"Please enter your weight in kg:\")\n",
    "    if not weight.isdigit():\n",
    "        print(\"Please enter a number for weight.\")\n",
    "        continue      \n",
    "    \n",
    "    while True:\n",
    "        age = input(\"Please enter your age:\")\n",
    "        if not age.isdigit():\n",
    "            print(\"Please enter a number for age.\")\n",
    "            continue\n",
    "        else:\n",
    "            break\n",
    "    \n",
    "    if weight.isdigit() and age.isdigit():\n",
    "        if int(age) > 12: # As anyone above 12 years old are considered adults, the recommended number of pills will always be 1 - 2 pills.\n",
    "            print(\"You are considered an adult. The recommended number of pills for you is 1 - 2 pills.\")\n",
    "            break\n",
    "        elif 26 >= int(weight) <= 40: # As all either 12 or younger are considered children, age does not play a role. That is because it is stated that for children, weight is more important than age.\n",
    "            print(\"You are considered a child, and you weigh between 26 and 40 kg. The recommended number of pills for you is 1/2 - 1 pill.\")\n",
    "            break\n",
    "        elif int(weight) < 26:\n",
    "            print(\"You are considered a child, and you weigh less than 26 kg. The recommended number of pills for you is 1/2 - 1 pill.\")\n",
    "            break"
   ]
  }
 ],
 "metadata": {
  "kernelspec": {
   "display_name": "Python 3",
   "language": "python",
   "name": "python3"
  },
  "language_info": {
   "codemirror_mode": {
    "name": "ipython",
    "version": 3
   },
   "file_extension": ".py",
   "mimetype": "text/x-python",
   "name": "python",
   "nbconvert_exporter": "python",
   "pygments_lexer": "ipython3",
   "version": "3.11.5"
  },
  "orig_nbformat": 4
 },
 "nbformat": 4,
 "nbformat_minor": 2
}
