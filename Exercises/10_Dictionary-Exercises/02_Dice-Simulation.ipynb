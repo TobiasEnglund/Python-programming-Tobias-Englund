{
 "cells": [
  {
   "cell_type": "markdown",
   "metadata": {},
   "source": [
    "# Dice Simulation\n",
    "\n",
    "- Simulate 1000000 dice rolls and save the number of ones, twos, ..., sixes in a dictionary. \n",
    "- Then print them out in the terminal."
   ]
  },
  {
   "cell_type": "code",
   "execution_count": 21,
   "metadata": {},
   "outputs": [
    {
     "name": "stdout",
     "output_type": "stream",
     "text": [
      "{1: 166564, 2: 166743, 3: 166412, 4: 166301, 5: 167022, 6: 166958}\n"
     ]
    }
   ],
   "source": [
    "import random\n",
    "\n",
    "dice_rolls = {\n",
    "    1: 0,\n",
    "    2: 0,\n",
    "    3: 0,\n",
    "    4: 0,\n",
    "    5: 0,\n",
    "    6: 0\n",
    "}\n",
    "\n",
    "for roll in range(1000000):\n",
    "    roll = random.randint(1, 6)\n",
    "    dice_rolls[roll] += 1        \n",
    "\n",
    "print(dice_rolls)"
   ]
  }
 ],
 "metadata": {
  "kernelspec": {
   "display_name": "Python 3",
   "language": "python",
   "name": "python3"
  },
  "language_info": {
   "codemirror_mode": {
    "name": "ipython",
    "version": 3
   },
   "file_extension": ".py",
   "mimetype": "text/x-python",
   "name": "python",
   "nbconvert_exporter": "python",
   "pygments_lexer": "ipython3",
   "version": "3.11.5"
  },
  "orig_nbformat": 4
 },
 "nbformat": 4,
 "nbformat_minor": 2
}
