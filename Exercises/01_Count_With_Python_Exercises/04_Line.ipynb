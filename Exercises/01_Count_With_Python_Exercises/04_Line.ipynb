{
 "cells": [
  {
   "cell_type": "markdown",
   "metadata": {},
   "source": [
    "# Line Exercise\n",
    "\n",
    "Compute the slope k and the constant term of this line using the points:\n",
    "\n",
    "* A: (4, 4)\n",
    "* B: (0, 1)\n",
    "\n",
    "y = kx + m\n",
    "m = y - kx"
   ]
  },
  {
   "cell_type": "code",
   "execution_count": null,
   "metadata": {},
   "outputs": [],
   "source": [
    "first_x_value = 4\n",
    "first_y_value = 4\n",
    "\n",
    "second_x_value = 0\n",
    "second_y_value = 1\n",
    "\n",
    "slope = (first_y_value - second_y_value) / (first_x_value - second_x_value)\n",
    "constant = first_y_value - (slope * first_x_value) # I used point A to calculate the constant\n",
    "\n",
    "print(f\"k = {slope}, m = {constant}\")\n",
    "print(f\"The equation is: y = {slope}x + {constant}\")"
   ]
  }
 ],
 "metadata": {
  "kernelspec": {
   "display_name": "Python 3",
   "language": "python",
   "name": "python3"
  },
  "language_info": {
   "codemirror_mode": {
    "name": "ipython",
    "version": 3
   },
   "file_extension": ".py",
   "mimetype": "text/x-python",
   "name": "python",
   "nbconvert_exporter": "python",
   "pygments_lexer": "ipython3",
   "version": "3.11.5"
  },
  "orig_nbformat": 4
 },
 "nbformat": 4,
 "nbformat_minor": 2
}
