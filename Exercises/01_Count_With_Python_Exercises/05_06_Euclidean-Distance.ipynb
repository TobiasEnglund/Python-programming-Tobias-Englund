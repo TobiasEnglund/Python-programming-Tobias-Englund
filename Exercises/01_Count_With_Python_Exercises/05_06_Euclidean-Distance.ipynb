{
 "cells": [
  {
   "cell_type": "markdown",
   "metadata": {},
   "source": [
    "# Euclidean Distance\n",
    "\n",
    "The Euclidean distance between the points P1 and P2 is the length of a line between them. \n",
    "\n",
    "* P1: (3, 5)\n",
    "* P2: (-2, 4)\n",
    "\n",
    "Compute the distance between them.\n",
    "\n",
    "Since the distance is a linear equation with a slope, the distance = hypothenuse. Hence, I will use the Pythagorean Theorem to calculate the distance.\n",
    "\n",
    "* a^2 = b^2 + c^2\n",
    "* a = sqrt(b^2 + c^2)\n",
    "\n",
    "In this case, b is the distance between x1 and x2, and c is the distance between y1 and y2."
   ]
  },
  {
   "cell_type": "code",
   "execution_count": null,
   "metadata": {},
   "outputs": [],
   "source": [
    "import math\n",
    "\n",
    "x1, y1 = 3, -2\n",
    "x2, y2 = 5, 4\n",
    "\n",
    "distance_x = x1 - x2\n",
    "distance_y = y1 - y2\n",
    "\n",
    "distance = math.sqrt(distance_x**2 + distance_y**2)\n",
    "\n",
    "print(f\"The distance between P1 and P2 is approximately {distance:.1f} length units\")"
   ]
  },
  {
   "cell_type": "markdown",
   "metadata": {},
   "source": [
    "# Euclidean Distance in 3D\n",
    "\n",
    "Calculate the distance between the points:\n",
    "\n",
    "* P1: (2, 1, 4)\n",
    "* P2: (3, 1, 0)\n",
    "\n",
    "Formula:\n",
    "\n",
    "d = sqrt((x2 - x1) + (y2 - y1) + (z2 - z1))"
   ]
  },
  {
   "cell_type": "code",
   "execution_count": null,
   "metadata": {},
   "outputs": [],
   "source": [
    "import math\n",
    "\n",
    "x1, y1, z1 = 2, 1, 4\n",
    "x2, y2, z2 = 3, 1, 0\n",
    "\n",
    "distance_x = x1 - x2\n",
    "distance_y = y1 - y2\n",
    "distance_z = z1 - z2\n",
    "\n",
    "distance = math.sqrt(distance_x**2 + distance_y**2 + distance_z**2)\n",
    "\n",
    "print(f\"The distance between P1 and P2 is approximately {distance:.2f} length units\")"
   ]
  }
 ],
 "metadata": {
  "kernelspec": {
   "display_name": "Python 3",
   "language": "python",
   "name": "python3"
  },
  "language_info": {
   "codemirror_mode": {
    "name": "ipython",
    "version": 3
   },
   "file_extension": ".py",
   "mimetype": "text/x-python",
   "name": "python",
   "nbconvert_exporter": "python",
   "pygments_lexer": "ipython3",
   "version": "3.11.5"
  },
  "orig_nbformat": 4
 },
 "nbformat": 4,
 "nbformat_minor": 2
}
