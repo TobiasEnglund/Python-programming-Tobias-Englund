{
 "cells": [
  {
   "cell_type": "markdown",
   "metadata": {},
   "source": [
    "# Name Cleaner\n",
    "\n",
    "Create a function that takes a name as an input and:\n",
    "\n",
    "* Removes all leading and trailing blank spaces\n",
    "* Make capitalize the first character of each name, and make the rest lowercase\n",
    "\n",
    "Use your function on this list of strings:\n",
    "\n",
    "[\"  MaRcUs \", \" iDA aNderSon\", \"OLOF Olofsson            \"  ]"
   ]
  },
  {
   "cell_type": "code",
   "execution_count": 18,
   "metadata": {},
   "outputs": [
    {
     "name": "stdout",
     "output_type": "stream",
     "text": [
      "Marcus\n",
      "Ida Anderson\n",
      "Olof Olofsson\n"
     ]
    }
   ],
   "source": [
    "def name_cleaner(lst):\n",
    "    cleaned_list = []\n",
    "    for name in lst:\n",
    "        \n",
    "        cleaned_name = name.lower().strip().title()\n",
    "        cleaned_list.append(cleaned_name)\n",
    "    \n",
    "    for name in cleaned_list:\n",
    "        print(name)\n",
    "\n",
    "name_cleaner([\"  MaRcUs \", \" iDA aNderSon\", \"OLOF Olofsson            \"  ])"
   ]
  }
 ],
 "metadata": {
  "kernelspec": {
   "display_name": "Python 3",
   "language": "python",
   "name": "python3"
  },
  "language_info": {
   "codemirror_mode": {
    "name": "ipython",
    "version": 3
   },
   "file_extension": ".py",
   "mimetype": "text/x-python",
   "name": "python",
   "nbconvert_exporter": "python",
   "pygments_lexer": "ipython3",
   "version": "3.11.5"
  },
  "orig_nbformat": 4
 },
 "nbformat": 4,
 "nbformat_minor": 2
}
