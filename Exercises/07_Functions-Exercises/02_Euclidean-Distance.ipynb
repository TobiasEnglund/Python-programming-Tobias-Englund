{
 "cells": [
  {
   "cell_type": "markdown",
   "metadata": {},
   "source": [
    "# Euclidean Distance\n",
    "\n",
    "The formula for Euclidean distance in 2D between *P: (p1, p2)* and *Q: (q1, q2)* is:\n",
    "* *d (P, Q) = sqrt((p1 - q1)^2 + (p2 - q2)^2)*\n",
    "\n",
    "-  a)   Create a function that takes two points as input parameters and return the Euclidean between them. \n",
    "-  b)   Let the user input two points. Call the function using the users input points. \n",
    "-  c)   Use your function to calculate distances between the origin (0, 0) and each of these points: (10, 3), (-1, -9), (10, -10), (4, -2), (9, -10). "
   ]
  },
  {
   "cell_type": "code",
   "execution_count": 22,
   "metadata": {},
   "outputs": [
    {
     "name": "stdout",
     "output_type": "stream",
     "text": [
      "10.4\n",
      "9.1\n",
      "14.1\n",
      "4.5\n",
      "13.5\n"
     ]
    }
   ],
   "source": [
    "import math\n",
    "\n",
    "# a)\n",
    "\n",
    "def distance(p, q):\n",
    "    point_one = []\n",
    "    point_two = []\n",
    "    \n",
    "    for i in p:\n",
    "        if i == \",\" or i == \" \":\n",
    "            continue\n",
    "        else:\n",
    "            point_one.append(i)\n",
    "            \n",
    "    for i in q:\n",
    "        if i == \",\" or i == \" \":\n",
    "            continue\n",
    "        else:\n",
    "            point_two.append(i)\n",
    "    \n",
    "    p1 = int(point_one[0])\n",
    "    p2 = int(point_one[1])\n",
    "    \n",
    "    q1 = int(point_two[0])\n",
    "    q2 = int(point_two[1])\n",
    "    \n",
    "    d = math.sqrt((p1 - q1)**2 + (p2 - q2)**2)\n",
    "    \n",
    "    return round(d, 1)\n",
    "\n",
    "# b)\n",
    "\n",
    "point_one = input(\"Please enter the first point:\")\n",
    "point_two = input(\"Please enter the second point:\")\n",
    "\n",
    "distance(point_one, point_two)\n",
    "\n",
    "# c)\n",
    "\n",
    "print(distance((0,0), (10,3)))\n",
    "print(distance((0,0), (-1, -9)))\n",
    "print(distance((0,0), (10, -10)))\n",
    "print(distance((0,0), (4, -2)))\n",
    "print(distance((0,0), (9, -10)))"
   ]
  }
 ],
 "metadata": {
  "kernelspec": {
   "display_name": "Python 3",
   "language": "python",
   "name": "python3"
  },
  "language_info": {
   "codemirror_mode": {
    "name": "ipython",
    "version": 3
   },
   "file_extension": ".py",
   "mimetype": "text/x-python",
   "name": "python",
   "nbconvert_exporter": "python",
   "pygments_lexer": "ipython3",
   "version": "3.11.5"
  },
  "orig_nbformat": 4
 },
 "nbformat": 4,
 "nbformat_minor": 2
}
