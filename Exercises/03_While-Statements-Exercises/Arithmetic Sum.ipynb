{
 "cells": [
  {
   "cell_type": "markdown",
   "metadata": {},
   "source": [
    "# Arithmetic Sum\n",
    "\n",
    "Use a while statement to compute the following sums:\n",
    "\n",
    "  * a)  sum = 1 + 2 + ... + 99 + 100\n",
    "  * b)  sum = 1 + 3 + 5 + ... + 97 + 99"
   ]
  },
  {
   "cell_type": "code",
   "execution_count": null,
   "metadata": {},
   "outputs": [],
   "source": [
    "sum_a = 0\n",
    "\n",
    "i = 1\n",
    "while i <= 100:\n",
    "    sum_a = sum_a + i\n",
    "    i += 1\n",
    "print(sum_a)\n",
    "\n",
    "sum_b = 0\n",
    "i = 1\n",
    "while i <= 100:\n",
    "    sum_b = sum_b + i\n",
    "    i += 2\n",
    "print(sum_b)"
   ]
  }
 ],
 "metadata": {
  "kernelspec": {
   "display_name": "Python 3",
   "language": "python",
   "name": "python3"
  },
  "language_info": {
   "codemirror_mode": {
    "name": "ipython",
    "version": 3
   },
   "file_extension": ".py",
   "mimetype": "text/x-python",
   "name": "python",
   "nbconvert_exporter": "python",
   "pygments_lexer": "ipython3",
   "version": "3.11.5"
  },
  "orig_nbformat": 4
 },
 "nbformat": 4,
 "nbformat_minor": 2
}
