{
 "cells": [
  {
   "cell_type": "markdown",
   "metadata": {},
   "source": [
    "# Guess Number Game\n",
    "\n",
    "* a) Create a guessing number game 1- 100\n",
    "* b) Make an algorithm to automatically guess the correct number. Can you optimize to get as few guesses as possible?"
   ]
  },
  {
   "cell_type": "code",
   "execution_count": null,
   "metadata": {},
   "outputs": [],
   "source": [
    "import random\n",
    "\n",
    "random_int = random.randint(1, 100)\n",
    "\n",
    "while True:\n",
    "    user_guess = input(\"Guess the number!\")\n",
    "    if not user_guess.isdigit:\n",
    "        continue\n",
    "    \n",
    "    user_guess = int(user_guess)\n",
    "    if user_guess == random_int:\n",
    "        print(f\"You guessed correctly! The number is {random_int}.\")\n",
    "        break\n",
    "    elif user_guess > random_int:\n",
    "        print(f\"You chose {user_guess}. Try a lower number!\")\n",
    "    else:\n",
    "        print(f\"You chose {user_guess}. Try a higher number!\")\n",
    "        \n"
   ]
  }
 ],
 "metadata": {
  "kernelspec": {
   "display_name": "Python 3",
   "language": "python",
   "name": "python3"
  },
  "language_info": {
   "codemirror_mode": {
    "name": "ipython",
    "version": 3
   },
   "file_extension": ".py",
   "mimetype": "text/x-python",
   "name": "python",
   "nbconvert_exporter": "python",
   "pygments_lexer": "ipython3",
   "version": "3.11.5"
  },
  "orig_nbformat": 4
 },
 "nbformat": 4,
 "nbformat_minor": 2
}
