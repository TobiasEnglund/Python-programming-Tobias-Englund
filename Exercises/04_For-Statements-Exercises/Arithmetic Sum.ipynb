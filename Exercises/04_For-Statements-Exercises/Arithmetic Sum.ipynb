{
 "cells": [
  {
   "cell_type": "markdown",
   "metadata": {},
   "source": [
    "# Arithmetic Sum\n",
    "\n",
    "Use a for statement to compute the following sums:\n",
    "\n",
    "* a) sum = 1 + 2 + ... + 99 + 100\n",
    "* b) sum = 1 + 3 + 5 + ... + 97 + 99"
   ]
  },
  {
   "cell_type": "code",
   "execution_count": 8,
   "metadata": {},
   "outputs": [
    {
     "name": "stdout",
     "output_type": "stream",
     "text": [
      "5050\n"
     ]
    }
   ],
   "source": [
    "# a) sum = 1 + 2 + ... + 99 + 100\n",
    "\n",
    "sum = 0\n",
    "\n",
    "i = 0\n",
    "for i in range(1, 101):\n",
    "    sum += i\n",
    "    i += 1\n",
    "    \n",
    "print(sum)"
   ]
  },
  {
   "cell_type": "code",
   "execution_count": 9,
   "metadata": {},
   "outputs": [
    {
     "name": "stdout",
     "output_type": "stream",
     "text": [
      "2500\n"
     ]
    }
   ],
   "source": [
    "# b) sum = 1 + 3 + 5 + ... + 97 + 99\n",
    "\n",
    "sum = 0\n",
    "\n",
    "i = 0\n",
    "for i in range(1, 101, 2):\n",
    "    sum += i\n",
    "    i += 1\n",
    "    \n",
    "print(sum)"
   ]
  }
 ],
 "metadata": {
  "kernelspec": {
   "display_name": "Python 3",
   "language": "python",
   "name": "python3"
  },
  "language_info": {
   "codemirror_mode": {
    "name": "ipython",
    "version": 3
   },
   "file_extension": ".py",
   "mimetype": "text/x-python",
   "name": "python",
   "nbconvert_exporter": "python",
   "pygments_lexer": "ipython3",
   "version": "3.11.5"
  },
  "orig_nbformat": 4
 },
 "nbformat": 4,
 "nbformat_minor": 2
}
