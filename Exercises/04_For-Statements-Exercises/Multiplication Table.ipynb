{
 "cells": [
  {
   "cell_type": "markdown",
   "metadata": {},
   "source": [
    "# Multiplication Table\n",
    "\n",
    "* a)   print out the 6th multiplication table from 0 to 10\n",
    "\n",
    "* b)   let the user input the table, start and end of the table. \n",
    "\n",
    "* c)   print out a full multiplication table from 0 to 10. "
   ]
  },
  {
   "cell_type": "code",
   "execution_count": null,
   "metadata": {},
   "outputs": [],
   "source": [
    "# a) print out the 6th multiplication table from 0 to 10\n",
    "\n",
    "i = 0\n",
    "for i in range(0, 11):\n",
    "    print(i * 6)"
   ]
  },
  {
   "cell_type": "code",
   "execution_count": null,
   "metadata": {},
   "outputs": [],
   "source": [
    "# b) let the user input the table, start and end of the table. \n",
    "\n",
    "table_value = int(input(\"Please enter the multiplication table:\"))\n",
    "start_value = int(input(\"Please enter the start of the table:\"))\n",
    "end_value = int(input(\"Please enter the end of the table:\"))\n",
    "\n",
    "i = 0\n",
    "string = \"\"\n",
    "for i in range(start_value, end_value + 1):\n",
    "    i = i * table_value\n",
    "    string += str(i) + \" \"\n",
    "print(f\"This is the multiplication table for {table_value}, from {start_value} to {end_value}: \" + string)"
   ]
  },
  {
   "cell_type": "code",
   "execution_count": null,
   "metadata": {},
   "outputs": [],
   "source": [
    "# c) print out a full multiplication table from 0 to 10. \n",
    "\n",
    "i = 0\n",
    "table = \"\"\n",
    "for i in range(0, 11):\n",
    "    string_row = \"\"\n",
    "    for j in range(0,11):\n",
    "        string_row += str(i * j) + \" \"\n",
    "        j += 1\n",
    "    table += string_row + \"\\n\"\n",
    "print(table)"
   ]
  }
 ],
 "metadata": {
  "kernelspec": {
   "display_name": "Python 3",
   "language": "python",
   "name": "python3"
  },
  "language_info": {
   "codemirror_mode": {
    "name": "ipython",
    "version": 3
   },
   "file_extension": ".py",
   "mimetype": "text/x-python",
   "name": "python",
   "nbconvert_exporter": "python",
   "pygments_lexer": "ipython3",
   "version": "3.11.5"
  },
  "orig_nbformat": 4
 },
 "nbformat": 4,
 "nbformat_minor": 2
}
