{
 "cells": [
  {
   "cell_type": "code",
   "execution_count": null,
   "metadata": {},
   "outputs": [],
   "source": [
    "while True:\n",
    "    input1 = input(\"Enter the first number:\")\n",
    "    if input1.isdigit():\n",
    "        number1 = int(input1)\n",
    "        print(f\"First number: {number1}\")\n",
    "        break\n",
    "    else:\n",
    "        print(\"Invalid input, please enter a number.\")\n",
    "        \n",
    "while True:\n",
    "    input2 = input(\"Enter the second number:\")\n",
    "    if input2.isdigit():\n",
    "        number2 = int(input2)\n",
    "        print(f\"Second number: {number2}\")\n",
    "        break\n",
    "    else:\n",
    "        print(\"Invalid input, please enter a number.\")\n",
    "\n",
    "while True:\n",
    "    operator = input(\"Enter an operator (+, -, *, or /).\")\n",
    "    if operator == \"+\":\n",
    "        result = number1 + number2\n",
    "        print(f\"{number1} + {number2} = {result:.2f}\")\n",
    "        break\n",
    "    elif operator == \"-\":\n",
    "        result = number1 - number2\n",
    "        print(f\"{number1} - {number2} = {result:.2f}\")\n",
    "        break\n",
    "    elif operator == \"*\":\n",
    "        result = number1 * number2\n",
    "        print(f\"{number1} * {number2} = {result:.2f}\")\n",
    "        break\n",
    "    elif operator == \"/\":\n",
    "        result = number1 / number2\n",
    "        if number2 == 0:\n",
    "            print(f\"Cannot divide by zero.\")\n",
    "            break\n",
    "        else:\n",
    "            print(f\"{number1} / {number2} = {result:.2f}\")\n",
    "            break\n",
    "    else:\n",
    "        print(f\"Invalid input. Please enter an operator (+, -, *, or /).\")"
   ]
  }
 ],
 "metadata": {
  "kernelspec": {
   "display_name": "Python 3",
   "language": "python",
   "name": "python3"
  },
  "language_info": {
   "codemirror_mode": {
    "name": "ipython",
    "version": 3
   },
   "file_extension": ".py",
   "mimetype": "text/x-python",
   "name": "python",
   "nbconvert_exporter": "python",
   "pygments_lexer": "ipython3",
   "version": "3.11.5"
  },
  "orig_nbformat": 4
 },
 "nbformat": 4,
 "nbformat_minor": 2
}
