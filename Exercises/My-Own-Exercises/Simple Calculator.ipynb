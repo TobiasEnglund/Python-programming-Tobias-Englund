{
 "cells": [
  {
   "cell_type": "code",
   "execution_count": null,
   "metadata": {},
   "outputs": [],
   "source": [
    "number1 = int(input(\"Enter the first number:\"))\n",
    "operator = input(\"Enter an operator (+, -, *, or /)\")\n",
    "number2 = int(input(\"Enter the second number.\"))\n",
    "    \n",
    "if operator == \"+\":\n",
    "    print(f\"{number1} + {number2} = \" + str(number1 + number2))\n",
    "elif operator == \"-\":\n",
    "    print(f\"{number1} - {number2} = \" + str(number1 - number2))\n",
    "elif operator == \"*\":\n",
    "    print(f\"{number1} * {number2} = \" + str(number1 * number2))\n",
    "elif operator == \"/\":\n",
    "    if number2 == 0:\n",
    "        print(f\"Cannot divide by zero.\")\n",
    "    else:\n",
    "        print(f\"{number1} / {number2} = \" + str(number1 / number2))\n",
    "else:\n",
    "    print(f\"{operator} is an invalid operator.\")"
   ]
  }
 ],
 "metadata": {
  "language_info": {
   "name": "python"
  },
  "orig_nbformat": 4
 },
 "nbformat": 4,
 "nbformat_minor": 2
}
