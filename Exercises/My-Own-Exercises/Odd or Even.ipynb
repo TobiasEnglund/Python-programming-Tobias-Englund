{
 "cells": [
  {
   "cell_type": "code",
   "execution_count": null,
   "metadata": {},
   "outputs": [],
   "source": [
    "while True:\n",
    "    number = input(\"Here we check if a number is odd or even. Please pick a number\")\n",
    "    if number.isdigit():\n",
    "        if int(number) % 2 == 0:\n",
    "            print(f\"Your number is {number}, which is an even number.\")\n",
    "            break\n",
    "        else:\n",
    "            print(f\"Your number is {number}, which is an odd number.\")\n",
    "            break\n",
    "    else:\n",
    "        print(\"Invalid input. Please enter a number.\")"
   ]
  }
 ],
 "metadata": {
  "kernelspec": {
   "display_name": "Python 3",
   "language": "python",
   "name": "python3"
  },
  "language_info": {
   "codemirror_mode": {
    "name": "ipython",
    "version": 3
   },
   "file_extension": ".py",
   "mimetype": "text/x-python",
   "name": "python",
   "nbconvert_exporter": "python",
   "pygments_lexer": "ipython3",
   "version": "3.11.5"
  },
  "orig_nbformat": 4
 },
 "nbformat": 4,
 "nbformat_minor": 2
}
