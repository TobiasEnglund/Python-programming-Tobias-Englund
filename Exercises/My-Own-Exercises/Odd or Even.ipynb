{
 "cells": [
  {
   "cell_type": "code",
   "execution_count": null,
   "metadata": {},
   "outputs": [],
   "source": [
    "number = int(input())\n",
    "if number % 2 == 0:\n",
    "    print(\"Your number is {number}, which is an even number.\")\n",
    "else:\n",
    "    print(\"Your number is {number}, which is an odd number.\")"
   ]
  }
 ],
 "metadata": {
  "language_info": {
   "name": "python"
  },
  "orig_nbformat": 4
 },
 "nbformat": 4,
 "nbformat_minor": 2
}
