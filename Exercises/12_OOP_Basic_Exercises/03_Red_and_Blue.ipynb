{
 "cells": [
  {
   "cell_type": "markdown",
   "metadata": {},
   "source": [
    "## 3. Red and blue\n",
    "\n",
    "- Create a class that has a property \"red\", and a property \"blue\". \n",
    "- Both should be floats, and be able to take any value between 0.0 and 100.0. \n",
    "- However, they should be \"linked\" in such a way that the sum of \"red\" and \"blue\" always is 100.0. i.e. if we set the value of \"blue\" to 8.5, and then read the value of \"red\", it should return 91.5"
   ]
  },
  {
   "cell_type": "code",
   "execution_count": 1,
   "metadata": {},
   "outputs": [
    {
     "name": "stdout",
     "output_type": "stream",
     "text": [
      "75.0\n",
      "41.7\n"
     ]
    }
   ],
   "source": [
    "class RedOrBlue:\n",
    "    def __init__(self):\n",
    "        self._red = 100.0\n",
    "        \n",
    "    @property\n",
    "    def red(self):\n",
    "        return self._red\n",
    "    \n",
    "    @red.setter\n",
    "    def red(self, value):\n",
    "        if 0.0 <= value <= 100.0:\n",
    "            self._red = value\n",
    "        else:\n",
    "            raise ValueError(\"Please enter a number between 0.0 and 100.0.\")\n",
    "    \n",
    "    @property\n",
    "    \n",
    "    def blue(self):\n",
    "        return 100.0 - self._red\n",
    "        \n",
    "    @blue.setter\n",
    "    def blue(self, value):\n",
    "        if 0.0 <= value <= 100.0:\n",
    "            self._red = 100.0 - value\n",
    "        else:\n",
    "            raise ValueError(\"Please enter a number between 0.0 and 100.0.\")\n",
    "        \n",
    "color = RedOrBlue()\n",
    "\n",
    "color.red = 25\n",
    "print(color.blue)\n",
    "\n",
    "color.blue = 58.3\n",
    "print(color.red)"
   ]
  }
 ],
 "metadata": {
  "kernelspec": {
   "display_name": "Python 3",
   "language": "python",
   "name": "python3"
  },
  "language_info": {
   "codemirror_mode": {
    "name": "ipython",
    "version": 3
   },
   "file_extension": ".py",
   "mimetype": "text/x-python",
   "name": "python",
   "nbconvert_exporter": "python",
   "pygments_lexer": "ipython3",
   "version": "3.11.5"
  },
  "orig_nbformat": 4
 },
 "nbformat": 4,
 "nbformat_minor": 2
}
