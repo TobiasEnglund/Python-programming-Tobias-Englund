{
 "cells": [
  {
   "cell_type": "markdown",
   "metadata": {},
   "source": [
    "## 2. Empty/full glass simulator\n",
    "\n",
    "Create a class that represents a glass of water:\n",
    "- It should have a method for filling the glass, and another method for emptying the glass. \n",
    "- Also, there needs to be an internal/private attribute that keeps track of if the glass is empty or full. \n",
    "- Depending on the current state (empty/full), the method that fills the glass should print either \"Filling the glass with water\" or \"The glass is already full\". \n",
    "- The other method should print either \"Emptying the glass\" or \"The glass is already empty\".\n",
    "\n",
    "**Additional exercise:** \n",
    "\n",
    "- Add another method to break the glass. \n",
    "- Every glass (instance) keeps track of it's internal state, and prints what happens when the different methods are executed. \n",
    "- Eg. \"The glass breaks. Now there is water all over the floor\", or \"The glass can not be filled, since it's broken\", etc."
   ]
  },
  {
   "cell_type": "code",
   "execution_count": 19,
   "metadata": {},
   "outputs": [
    {
     "name": "stdout",
     "output_type": "stream",
     "text": [
      "Empty\n",
      "Empty\n",
      "Empty\n",
      "Filling the glass with water.\n",
      "The glass is already full.\n",
      "The glass breaks. Now there is water all over the floor.\n",
      "The glass cannot be filled, since it's broken.\n"
     ]
    }
   ],
   "source": [
    "class WaterGlass():\n",
    "    def __init__(self):\n",
    "        self._is_full = False\n",
    "        self._is_broken = False\n",
    "    \n",
    "    def fill_glass(self):\n",
    "        if self._is_broken:\n",
    "            return \"The glass cannot be filled, since it's broken.\"\n",
    "        if self._is_full:\n",
    "            return \"The glass is already full.\"\n",
    "        self._is_full = True\n",
    "        return \"Filling the glass with water.\"\n",
    "    \n",
    "    def empty_glass(self):\n",
    "        if self._is_broken:\n",
    "            return \"The glass is broken and empty.\"\n",
    "        if self._is_full:\n",
    "            return \"The glass is already empty.\"\n",
    "        self._is_full = True\n",
    "        return \"Emptying the glass.\"\n",
    "        \n",
    "    def break_glass(self):\n",
    "        if self._is_broken:\n",
    "            return \"The glass is already broken.\"\n",
    "        self._is_broken = True\n",
    "        if self._is_full:\n",
    "            return \"The glass breaks. Now there is water all over the floor.\"\n",
    "        return \"The glass breaks.\"\n",
    "        \n",
    "    def __str__(self):\n",
    "        return \"Full\" if self._is_full else \"Empty\"    \n",
    "        \n",
    "glasses = [WaterGlass() for _ in range(3)]\n",
    "\n",
    "for glass in glasses:\n",
    "    print(glass)\n",
    "    \n",
    "glass1 = WaterGlass()\n",
    "print(glass1.fill_glass())  # Should print \"Filling the glass with water.\"\n",
    "print(glass1.fill_glass())  # Should print \"The glass is already full.\"\n",
    "print(glass1.break_glass()) # Should print \"The glass breaks. Now there is water all over the floor.\"\n",
    "print(glass1.fill_glass())  # Should print \"The glass cannot be filled, since it's broken.\"\n",
    "\n"
   ]
  }
 ],
 "metadata": {
  "kernelspec": {
   "display_name": "Python 3",
   "language": "python",
   "name": "python3"
  },
  "language_info": {
   "codemirror_mode": {
    "name": "ipython",
    "version": 3
   },
   "file_extension": ".py",
   "mimetype": "text/x-python",
   "name": "python",
   "nbconvert_exporter": "python",
   "pygments_lexer": "ipython3",
   "version": "3.11.5"
  },
  "orig_nbformat": 4
 },
 "nbformat": 4,
 "nbformat_minor": 2
}
