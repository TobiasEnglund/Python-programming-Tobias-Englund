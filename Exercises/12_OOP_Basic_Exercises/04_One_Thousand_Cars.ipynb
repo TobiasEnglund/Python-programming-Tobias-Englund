{
 "cells": [
  {
   "cell_type": "markdown",
   "metadata": {},
   "source": [
    "## 4. One thousand cars\n",
    "\n",
    "Create a class that represents a car. \n",
    "- Every car can have a color and a length. \n",
    "- When a new car is instantiated it gets a random color, and a random length (between 3 and 5 meters). \n",
    "- Instatiate 1000 cars and save them in a list. \n",
    "- Then print the sum of the length of all green cars in the list."
   ]
  },
  {
   "cell_type": "code",
   "execution_count": 15,
   "metadata": {},
   "outputs": [
    {
     "name": "stdout",
     "output_type": "stream",
     "text": [
      "Total length of green cars: 320.27 meters\n"
     ]
    }
   ],
   "source": [
    "import random\n",
    "\n",
    "colors = [\n",
    "    \"red\",\n",
    "    \"blue\",\n",
    "    \"green\",\n",
    "    \"black\",\n",
    "    \"white\",\n",
    "    \"silver\",\n",
    "    \"gray\",\n",
    "    \"yellow\",\n",
    "    \"orange\",\n",
    "    \"brown\",\n",
    "    \"gold\",\n",
    "    \"beige\",\n",
    "    \"burgundy\",\n",
    "    \"champagne\",\n",
    "    \"charcoal\"\n",
    "]\n",
    "\n",
    "class Cars:\n",
    "    def __init__(self):\n",
    "        self._color = random.choice(colors)\n",
    "        self._length = random.uniform(3, 5)\n",
    "        \n",
    "    @property\n",
    "    def color(self):\n",
    "        return self._color\n",
    "        \n",
    "    @property\n",
    "    def length(self):\n",
    "        return self._length\n",
    "\n",
    "length_of_green_cars = 0\n",
    "\n",
    "cars = [Cars() for i in range(1000)]\n",
    "        \n",
    "for car in cars:\n",
    "    if car.color == \"green\":\n",
    "        length_of_green_cars += car.length\n",
    "\n",
    "print(f'Total length of green cars: {length_of_green_cars:.2f} meters')\n",
    "        \n"
   ]
  }
 ],
 "metadata": {
  "kernelspec": {
   "display_name": "Python 3",
   "language": "python",
   "name": "python3"
  },
  "language_info": {
   "codemirror_mode": {
    "name": "ipython",
    "version": 3
   },
   "file_extension": ".py",
   "mimetype": "text/x-python",
   "name": "python",
   "nbconvert_exporter": "python",
   "pygments_lexer": "ipython3",
   "version": "3.11.5"
  },
  "orig_nbformat": 4
 },
 "nbformat": 4,
 "nbformat_minor": 2
}
