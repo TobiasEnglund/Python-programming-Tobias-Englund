{
 "cells": [
  {
   "cell_type": "markdown",
   "metadata": {},
   "source": [
    "## 1. Step tracker\n",
    "\n",
    "Create a class that can be used as a step tracker. \n",
    "- It should have a property \"steps\" that is read only; a method step() that increases \"steps\" by 1 each time it is called; and a method reset() that resets the counter.\n",
    "- Instantiate the class, and write a loop that simulates walking 1000 steps. Then print the value of \"steps\"."
   ]
  },
  {
   "cell_type": "code",
   "execution_count": 14,
   "metadata": {},
   "outputs": [
    {
     "name": "stdout",
     "output_type": "stream",
     "text": [
      "1000\n"
     ]
    }
   ],
   "source": [
    "class StepTracker():\n",
    "    \n",
    "    def __init__(self):\n",
    "        self._steps = 0      \n",
    "        \n",
    "    @property\n",
    "    def steps(self):\n",
    "        return self._steps\n",
    "\n",
    "    def step(self):\n",
    "        self._steps += 1\n",
    "        \n",
    "    def reset(self):\n",
    "        self._steps = 0\n",
    "    \n",
    "tracker = StepTracker()\n",
    "\n",
    "for i in range(1000):\n",
    "    tracker.step()\n",
    "    \n",
    "print(tracker.steps)"
   ]
  }
 ],
 "metadata": {
  "kernelspec": {
   "display_name": "Python 3",
   "language": "python",
   "name": "python3"
  },
  "language_info": {
   "codemirror_mode": {
    "name": "ipython",
    "version": 3
   },
   "file_extension": ".py",
   "mimetype": "text/x-python",
   "name": "python",
   "nbconvert_exporter": "python",
   "pygments_lexer": "ipython3",
   "version": "3.11.5"
  },
  "orig_nbformat": 4
 },
 "nbformat": 4,
 "nbformat_minor": 2
}
