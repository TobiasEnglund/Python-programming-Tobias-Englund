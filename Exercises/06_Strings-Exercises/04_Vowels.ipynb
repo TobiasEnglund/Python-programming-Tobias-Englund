{
 "cells": [
  {
   "cell_type": "markdown",
   "metadata": {},
   "source": [
    "# Vowels\n",
    "\n",
    "Count the number of vowels in this sentence: \"Pure mathematics is, in its way, the poetry of logical ideas\""
   ]
  },
  {
   "cell_type": "code",
   "execution_count": 8,
   "metadata": {},
   "outputs": [
    {
     "name": "stdout",
     "output_type": "stream",
     "text": [
      "There are 22 vowels in the sentence.\n"
     ]
    }
   ],
   "source": [
    "sentence = \"Pure mathematics is, in its way, the poetry of logical ideas\"\n",
    "\n",
    "vowels = \"aeiouy\"\n",
    "num_of_vowels = 0\n",
    "\n",
    "for letter in sentence:\n",
    "    if letter in vowels:\n",
    "        num_of_vowels += 1\n",
    "        \n",
    "print(f'There are {num_of_vowels} vowels in the sentence.')"
   ]
  }
 ],
 "metadata": {
  "kernelspec": {
   "display_name": "Python 3",
   "language": "python",
   "name": "python3"
  },
  "language_info": {
   "codemirror_mode": {
    "name": "ipython",
    "version": 3
   },
   "file_extension": ".py",
   "mimetype": "text/x-python",
   "name": "python",
   "nbconvert_exporter": "python",
   "pygments_lexer": "ipython3",
   "version": "3.11.5"
  },
  "orig_nbformat": 4
 },
 "nbformat": 4,
 "nbformat_minor": 2
}
