{
 "cells": [
  {
   "cell_type": "markdown",
   "metadata": {},
   "source": [
    "# Counting Letters\n",
    "\n",
    "Let the user input a word:\n",
    "\n",
    "- a)   print out the number of letters in the word.\n",
    "- b)   print out the number of uppercase and lowercase letters of the word"
   ]
  },
  {
   "cell_type": "code",
   "execution_count": null,
   "metadata": {},
   "outputs": [],
   "source": [
    "word = input(\"Please enter a word:\")\n",
    "lower_letters = \"\"\n",
    "upper_letters = \"\"\n",
    "\n",
    "print(f'There are {len(word)} letters in {word}')\n",
    "\n",
    "for letter in word:\n",
    "    if letter.islower():\n",
    "        lower_letters += letter\n",
    "    else:\n",
    "        upper_letters += letter\n",
    "        \n",
    "print(f'in {word} there are {len(lower_letters)} lowercase letters')\n",
    "print(f'in {word} there are {len(upper_letters)} uppercase letters')"
   ]
  }
 ],
 "metadata": {
  "kernelspec": {
   "display_name": "Python 3",
   "language": "python",
   "name": "python3"
  },
  "language_info": {
   "codemirror_mode": {
    "name": "ipython",
    "version": 3
   },
   "file_extension": ".py",
   "mimetype": "text/x-python",
   "name": "python",
   "nbconvert_exporter": "python",
   "pygments_lexer": "ipython3",
   "version": "3.11.5"
  },
  "orig_nbformat": 4
 },
 "nbformat": 4,
 "nbformat_minor": 2
}
