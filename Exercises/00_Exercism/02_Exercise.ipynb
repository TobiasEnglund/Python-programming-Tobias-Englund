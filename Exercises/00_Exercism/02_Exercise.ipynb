{
 "cells": [
  {
   "cell_type": "code",
   "execution_count": null,
   "metadata": {},
   "outputs": [],
   "source": [
    "# https://exercism.org/tracks/python/exercises/guidos-gorgeous-lasagna/edit\n",
    "\n",
    "\"\"\"Functions used in preparing Guido's gorgeous lasagna.\n",
    "\n",
    "Learn about Guido, the creator of the Python language:\n",
    "https://en.wikipedia.org/wiki/Guido_van_Rossum\n",
    "\n",
    "This is a module docstring, used to describe the functionality\n",
    "of a module and its functions and/or classes.\n",
    "\"\"\"\n",
    "\n",
    "\n",
    "#TODO: define the 'EXPECTED_BAKE_TIME' constant.\n",
    "EXPECTED_BAKE_TIME = 40\n",
    "PREPARATION_TIME = 0\n",
    "\n",
    "#TODO: Remove 'pass' and complete the 'bake_time_remaining()' function below.\n",
    "def bake_time_remaining(elapsed_bake_time):\n",
    "    \"\"\"Calculate the bake time remaining.\n",
    "    \n",
    "    :param elapsed_bake_time: int - baking time already elapsed.\n",
    "    :return: int - remaining bake time (in minutes) derived from 'EXPECTED_BAKE_TIME'.\n",
    "\n",
    "    Function that takes the actual minutes the lasagna has been in the oven as\n",
    "    an argument and returns how many minutes the lasagna still needs to bake\n",
    "    based on the `EXPECTED_BAKE_TIME`.\n",
    "    \"\"\"\n",
    "    \n",
    "    bake_time_remaining = EXPECTED_BAKE_TIME - elapsed_bake_time\n",
    "\n",
    "    return bake_time_remaining\n",
    "\n",
    "bake_time_remaining(20)\n",
    "\n",
    "#TODO: Define the 'preparation_time_in_minutes()' function below.\n",
    "# You might also consider using 'PREPARATION_TIME' here, if you have it defined.\n",
    "\n",
    "def preparation_time_in_minutes(number_of_layers):\n",
    "    \"\"\"Calculate the preparation time\"\"\"\n",
    "    PREPARATION_TIME = 2 * number_of_layers\n",
    "    \n",
    "    return PREPARATION_TIME\n",
    "\n",
    "#TODO: define the 'elapsed_time_in_minutes()' function below.\n",
    "# Remember to add a docstring (you can copy and then alter the one from bake_time_remaining.)\n",
    "\n",
    "def elapsed_time_in_minutes(number_of_layers, elapsed_bake_time):\n",
    "    \"\"\"Calculates how long the lasagna has been prepared and cooked for.\"\"\"\n",
    "    elapsed_time = preparation_time_in_minutes(number_of_layers) + elapsed_bake_time\n",
    "    \n",
    "    return elapsed_time"
   ]
  }
 ],
 "metadata": {
  "kernelspec": {
   "display_name": "Python 3",
   "language": "python",
   "name": "python3"
  },
  "language_info": {
   "codemirror_mode": {
    "name": "ipython",
    "version": 3
   },
   "file_extension": ".py",
   "mimetype": "text/x-python",
   "name": "python",
   "nbconvert_exporter": "python",
   "pygments_lexer": "ipython3",
   "version": "3.11.5"
  },
  "orig_nbformat": 4
 },
 "nbformat": 4,
 "nbformat_minor": 2
}
