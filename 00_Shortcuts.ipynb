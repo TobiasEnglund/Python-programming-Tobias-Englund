{
 "cells": [
  {
   "cell_type": "markdown",
   "metadata": {},
   "source": [
    "# Shortcuts to learn:\n",
    "\n",
    "| Shortcut          | Action                        |\n",
    "| ----------------- | ----------------------------- |\n",
    "| Ctrl + '          | Comment line or lines         |\n",
    "| Ctrl + D          | Change all instances of a variable |\n",
    "| Ctrl + X          | Cut                           |\n",
    "| Home              | To beginning of the line      |\n",
    "| End (or Fn + End) | To end of line                |"
   ]
  }
 ],
 "metadata": {
  "language_info": {
   "name": "python"
  },
  "orig_nbformat": 4
 },
 "nbformat": 4,
 "nbformat_minor": 2
}
