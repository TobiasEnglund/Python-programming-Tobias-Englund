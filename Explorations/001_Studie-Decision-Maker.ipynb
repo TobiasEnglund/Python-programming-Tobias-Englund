{
 "cells": [
  {
   "cell_type": "code",
   "execution_count": 5,
   "metadata": {},
   "outputs": [
    {
     "name": "stdout",
     "output_type": "stream",
     "text": [
      "Ta en paus, du förtjänar det!\n",
      "Dags att ta itu med viktigare saker!\n",
      "Du har pluggat nog, dags för något kul!\n",
      "Dags att plugga!\n",
      "Ingen pluggtid just nu, njut!\n"
     ]
    }
   ],
   "source": [
    "def studie_decision_maker(behöver_plugga, vardag_dagtid, andra_viktigare_saker, pluggat_för_mycket_det_senaste, pluggat_lång_tid_i_sträck):\n",
    "    if behöver_plugga and vardag_dagtid:\n",
    "        if andra_viktigare_saker:\n",
    "            return \"Dags att ta itu med viktigare saker!\"\n",
    "        elif pluggat_för_mycket_det_senaste:\n",
    "            return \"Du har pluggat nog, dags för något kul!\"\n",
    "        elif pluggat_lång_tid_i_sträck:\n",
    "            return \"Ta en paus, du förtjänar det!\"\n",
    "        else:\n",
    "            return \"Dags att plugga!\"\n",
    "    else:\n",
    "        return \"Ingen pluggtid just nu, njut!\"\n",
    "\n",
    "# Behöver plugga, vardag dagtid, inga viktigare saker, inte pluggat för mycket det senaste, har pluggat länge i sträck\n",
    "beslut1 = studie_decision_maker(True, True, False, False, True)\n",
    "print(beslut1)\n",
    "\n",
    "# Behöver plugga, vardag dagtid, har andra viktigare saker att göra, inte pluggat för mycket det senaste, inte pluggat länge i sträck\n",
    "beslut2 = studie_decision_maker(True, True, True, False, False)\n",
    "print(beslut2)\n",
    "\n",
    "# Behöver plugga, vardag dagtid, inga viktigare saker, har pluggat för mycket det senaste, inte pluggat länge i sträck\n",
    "beslut3 = studie_decision_maker(True, True, False, True, False)\n",
    "print(beslut3)\n",
    "\n",
    "# Behöver plugga, vardag dagtid, inga viktigare saker, inte pluggat för mycket det senaste, inte pluggat länge i sträck\n",
    "beslut4 = studie_decision_maker(True, True, False, False, False)\n",
    "print(beslut4)\n",
    "\n",
    "# Behöver plugga, inte vardag dagtid, inga viktigare saker, inte pluggat för mycket det senaste, inte pluggat länge i sträck\n",
    "beslut5 = studie_decision_maker(True, False, False, False, False)\n",
    "print(beslut5)"
   ]
  }
 ],
 "metadata": {
  "kernelspec": {
   "display_name": "Python 3",
   "language": "python",
   "name": "python3"
  },
  "language_info": {
   "codemirror_mode": {
    "name": "ipython",
    "version": 3
   },
   "file_extension": ".py",
   "mimetype": "text/x-python",
   "name": "python",
   "nbconvert_exporter": "python",
   "pygments_lexer": "ipython3",
   "version": "3.11.5"
  },
  "orig_nbformat": 4
 },
 "nbformat": 4,
 "nbformat_minor": 2
}
