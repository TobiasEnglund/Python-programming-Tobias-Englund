{
 "cells": [
  {
   "cell_type": "markdown",
   "metadata": {},
   "source": [
    "# List\n",
    "\n",
    "* Lists are one of 4 built-in data types in Python used to store collections of data, the other 3 are Tuple, Set, and Dictionary, all with different qualities and usage.\n",
    "* Lists are used to store multiple items in a single variable.\n",
    "* Lists are created using square brackets. []\n",
    "* List items are ordered, changeable (mutable), and allow duplicate values.\n",
    "* List items can be of any data type, and can contain different datatypes.\n",
    "\n",
    "List methods:\n",
    "https://www.w3schools.com/python/python_ref_list.asp"
   ]
  },
  {
   "cell_type": "code",
   "execution_count": null,
   "metadata": {},
   "outputs": [],
   "source": [
    "empty = []\n",
    "random_items = [\"pear\", \"coconut\", \"pineapple\", 5, [7, 2, 9], True, 5.2]\n",
    "fruits = [\"apple\", \"banana\", \"cherry\", \"orange\", \"apple\"]\n",
    "\n",
    "print(f\"len(fruits) = {len(fruits)}\") # Use len() to get number of items in list\n",
    "print(f\"{fruits.count('apple') = }\") # .count() count number of occurances of a value\n",
    "\n",
    "fruits.append(\"melon\") # Append an item to a list\n",
    "fruits.append(\"kiwi\")\n",
    "\n",
    "fruits += random_items\n",
    "print(f\"{fruits = }\")"
   ]
  },
  {
   "cell_type": "markdown",
   "metadata": {},
   "source": [
    "# Indexing\n",
    "\n",
    "* List items are indexed\n",
    "* ***the first item*** has index [0]\n",
    "* ***the second item*** has index [1]\n",
    "* Make sure the index exists, or the proram will crash with a \"index out of range\" message\n",
    "* ***Negative indexing***: -1 refers to the last item, -2 refers to the second last item, etc.\n",
    "* ***Slicing***: Specifying a range of indexes returns a new list with the specified item. [start: stop: step (optional)]"
   ]
  },
  {
   "cell_type": "code",
   "execution_count": null,
   "metadata": {},
   "outputs": [],
   "source": [
    "print(f\"fruits[0] = {fruits[0]}\")\n",
    "print(f\"fruits[5] = {fruits[5]}\")\n",
    "\n",
    "print(f\"The first letter in {fruits[5]} (fruits[5]) is '{fruits[5][0]}'\")\n",
    "print(f\"The second item in {fruits[11][1] = }\")\n",
    "\n",
    "print(f\"{fruits[:] = }\")\n",
    "print(f\"{fruits[2:5] = }\")\n",
    "\n",
    "print(f\"{fruits[5:] = }\")\n",
    "print(f\"{fruits[:5] = }\")\n",
    "\n",
    "print(f\"{fruits[2:10:2] = }\")\n",
    "print(f\"{fruits[2:10:2] = }\")\n",
    "\n",
    "print(f\"{fruits[::-5] = }\")"
   ]
  },
  {
   "cell_type": "markdown",
   "metadata": {},
   "source": [
    "# Looping through a list"
   ]
  },
  {
   "cell_type": "code",
   "execution_count": null,
   "metadata": {},
   "outputs": [],
   "source": [
    "for fruit in fruits[:-4]:\n",
    "    print(fruit, end = \", \")"
   ]
  },
  {
   "cell_type": "code",
   "execution_count": null,
   "metadata": {},
   "outputs": [],
   "source": [
    "count = 0\n",
    "for fruit in fruits[:-4]:\n",
    "    print(f\"fruits[{count}] = {fruit}\")\n",
    "    count += 1"
   ]
  },
  {
   "cell_type": "code",
   "execution_count": null,
   "metadata": {},
   "outputs": [],
   "source": [
    "for index, fruit in enumerate(fruits):\n",
    "    print(f\"fruits[{index}] = {fruit}\")"
   ]
  },
  {
   "cell_type": "markdown",
   "metadata": {},
   "source": [
    "# List comprehension\n",
    "List comprehension offers a shorter syntax when you want to create a new list based on the values of an existing list.\n",
    "* **Basic syntax:** [item for item in my_list]\n",
    "* **Syntax with condition:** [item for item in my_list if len(item) == 5]"
   ]
  },
  {
   "cell_type": "code",
   "execution_count": null,
   "metadata": {},
   "outputs": [],
   "source": [
    "x = list(range(1, 10))\n",
    "print(f\"{x = }\")\n",
    "\n",
    "y = [item**2 for item in x]\n",
    "print(f\"{y = }\")\n"
   ]
  },
  {
   "cell_type": "markdown",
   "metadata": {},
   "source": [
    "# Mini-uppgift 3:\n",
    "* a) Skapa en ny lista från frukter, som tar med alla frukter där namnet är 5 bokstäver.\n",
    "* b) Skapa en lista med alla heltal 0 till 100. \n",
    "* c) Skapa en ny lista som innehåller alla jämna tal från den första listan.\n"
   ]
  },
  {
   "cell_type": "code",
   "execution_count": 87,
   "metadata": {},
   "outputs": [
    {
     "name": "stdout",
     "output_type": "stream",
     "text": [
      "['apple!', 'mango!']\n",
      "[0, 1, 2, 3, 4, 5, 6, 7, 8, 9, 10, 11, 12, 13, 14, 15, 16, 17, 18, 19, 20, 21, 22, 23, 24, 25, 26, 27, 28, 29, 30, 31, 32, 33, 34, 35, 36, 37, 38, 39, 40, 41, 42, 43, 44, 45, 46, 47, 48, 49, 50, 51, 52, 53, 54, 55, 56, 57, 58, 59, 60, 61, 62, 63, 64, 65, 66, 67, 68, 69, 70, 71, 72, 73, 74, 75, 76, 77, 78, 79, 80, 81, 82, 83, 84, 85, 86, 87, 88, 89, 90, 91, 92, 93, 94, 95, 96, 97, 98, 99, 100]\n",
      "[2, 4, 6, 8, 10, 12, 14, 16, 18, 20, 22, 24, 26, 28, 30, 32, 34, 36, 38, 40, 42, 44, 46, 48, 50, 52, 54, 56, 58, 60, 62, 64, 66, 68, 70, 72, 74, 76, 78, 80, 82, 84, 86, 88, 90, 92, 94, 96, 98, 100]\n"
     ]
    }
   ],
   "source": [
    "# a)\n",
    "\n",
    "fruits = [\"apple\", \"banana\", \"cherry\", \"kiwi\", \"mango\"]\n",
    "fruits_with_a = [fruit + \"!\" for fruit in fruits if len(fruit) == 5]\n",
    "\n",
    "print(fruits_with_a)\n",
    "\n",
    "# b)\n",
    "\n",
    "zero_to_hundred = list(range(101))\n",
    "print(zero_to_hundred)\n",
    "\n",
    "# c)\n",
    "\n",
    "zero_to_hundred_even = [number for number in zero_to_hundred if number % 2 == 0]\n",
    "print(y)"
   ]
  },
  {
   "cell_type": "markdown",
   "metadata": {},
   "source": [
    "# Mini-uppgift 2:\n",
    "Skapa manuellt en lista i koden med 5 frukter\n",
    "Använd list comprehension för att skapa en ny lista med samma frukter, men med ett utropstecken i slutet på varje frukt (sträng)"
   ]
  },
  {
   "cell_type": "code",
   "execution_count": null,
   "metadata": {},
   "outputs": [],
   "source": [
    "fruits = [\"apple\", \"banana\", \"cherry\", \"kiwi\", \"mango\"]\n",
    "fruits_with_a = [fruit + \"!\" for fruit in fruits if \"a\" in fruit]\n",
    "\n",
    "print(fruits_with_a)\n",
    "\n",
    "for fruit in fruits[::]:\n",
    "    print(fruit, end = \"! \")\n"
   ]
  },
  {
   "cell_type": "markdown",
   "metadata": {},
   "source": [
    "# Mini-uppgift\n",
    "Skriv ett program som ber användaren mata in färger, en i taget, tills användarens input är tom, och när inmatning är slut så skrivs listan ut, samt hur många färger det är i listan."
   ]
  },
  {
   "cell_type": "code",
   "execution_count": null,
   "metadata": {},
   "outputs": [],
   "source": [
    "# Create a list of colors\n",
    "colors = []\n",
    "\n",
    "# A loop until user input is blank (Enter)\n",
    "while True:\n",
    "    color = input(\"Please enter a color (e.g blue, red).\")\n",
    "    \n",
    "    if color == \"\":\n",
    "        break\n",
    "    \n",
    "    colors.append(color)\n",
    "    \n",
    "# Print results\n",
    "print(colors)\n",
    "print(f\"len(colors) = {len(colors)}\")"
   ]
  },
  {
   "cell_type": "markdown",
   "metadata": {},
   "source": [
    "# Good Practises Python\n",
    "\n",
    "* snake_case\n",
    "* list_of_students\n",
    "\n",
    "**DRY** = Don't Repeat Yourself !!!\n",
    "\n",
    "**Maintainability**: Use descriptive ***comments*** (#)"
   ]
  }
 ],
 "metadata": {
  "kernelspec": {
   "display_name": "Python 3",
   "language": "python",
   "name": "python3"
  },
  "language_info": {
   "codemirror_mode": {
    "name": "ipython",
    "version": 3
   },
   "file_extension": ".py",
   "mimetype": "text/x-python",
   "name": "python",
   "nbconvert_exporter": "python",
   "pygments_lexer": "ipython3",
   "version": "3.11.5"
  },
  "orig_nbformat": 4
 },
 "nbformat": 4,
 "nbformat_minor": 2
}
