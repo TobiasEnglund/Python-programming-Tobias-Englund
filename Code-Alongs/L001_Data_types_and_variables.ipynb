{
 "cells": [
  {
   "cell_type": "markdown",
   "metadata": {},
   "source": [
    "# Data types\n",
    "\n",
    "- **string** (text)\n",
    "- **int** (integer, heltal)\n",
    "- **float** (floating point, flyttal (decimaltal))\n",
    "- **Bool** (boolean, True/False)\n"
   ]
  },
  {
   "cell_type": "code",
   "execution_count": null,
   "metadata": {},
   "outputs": [],
   "source": [
    "name = \"Tobias\"\n",
    "print(\"My name is \" + str(name))\n",
    "print(\"name is of the type \" + str(type(name)))\n",
    "myFloat = 8\n",
    "print(str(myFloat) + \" and of the type \" + str(type(myFloat)))\n",
    "myBool = True\n",
    "print(\"myBool is \" + str(myBool) + \" and of the type \" + str(type(myBool)))\n",
    "myNum = \"8\"\n",
    "print(\"myNum = \" + myNum)\n",
    "print(\"myNum + 5 = \" + str(int(myNum) + 5))"
   ]
  },
  {
   "cell_type": "markdown",
   "metadata": {},
   "source": []
  },
  {
   "cell_type": "markdown",
   "metadata": {},
   "source": [
    "- del() = delete a variable \n",
    "- input() = ask for input"
   ]
  },
  {
   "cell_type": "code",
   "execution_count": null,
   "metadata": {},
   "outputs": [],
   "source": [
    "userName = input(\"Enter your name here: \")\n",
    "userNameType = type(userName)\n",
    "if type(userName) == str:\n",
    "    userNameType = \"'str'\"\n",
    "    \n",
    "print(\"The variable userName is of the type \" + userNameType)\n",
    "print(\"Your name is \" + userName)\n"
   ]
  }
 ],
 "metadata": {
  "kernelspec": {
   "display_name": "Python 3",
   "language": "python",
   "name": "python3"
  },
  "language_info": {
   "codemirror_mode": {
    "name": "ipython",
    "version": 3
   },
   "file_extension": ".py",
   "mimetype": "text/x-python",
   "name": "python",
   "nbconvert_exporter": "python",
   "pygments_lexer": "ipython3",
   "version": "3.11.5"
  },
  "orig_nbformat": 4
 },
 "nbformat": 4,
 "nbformat_minor": 2
}
