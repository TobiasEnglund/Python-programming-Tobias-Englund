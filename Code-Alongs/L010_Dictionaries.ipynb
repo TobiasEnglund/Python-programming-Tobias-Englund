{
 "cells": [
  {
   "cell_type": "markdown",
   "metadata": {},
   "source": [
    "# Dictionaries\n",
    "\n",
    "- Dictionaries are used to store data in key-value pairs.\n",
    "- Keys are used to access values, and must be unique.\n",
    "- Only immutable (eg. string, int, float, bool) types can be used as keys.\n",
    "- Dictionaries are ordered."
   ]
  },
  {
   "cell_type": "code",
   "execution_count": 2,
   "metadata": {},
   "outputs": [
    {
     "name": "stdout",
     "output_type": "stream",
     "text": [
      "Fredrik Johansson\n",
      "42\n",
      "\n",
      "\n",
      "len(teacher[\"languages\"]) = 3\n",
      "(teacher[\"languages\"][-1]) = 'Javascript'\n",
      "len(teacher[\"languages\"][-1]) = 10\n",
      "(teacher[\"contactinfo\"][\"email\"][-1]) = 'fredrik.johansson@hotmail.com'\n",
      "\n",
      "\n",
      "teacher = {'firstname': 'Fredrik', 'lastname': 'Johansson', 'age': 42, 'languages': ['Python', 'C#', 'Javascript'], 'contactinfo': {'phone': '0702345678', 'email': ['fredrik@everyloop.com', 'fredrik@gmail.com', 'fredrik.johansson@hotmail.com']}, 'length': 1.8}\n",
      "\n",
      "\n",
      "teacher = {'firstname': 'Fredrik', 'age': 42, 'languages': ['Python', 'C#', 'Javascript'], 'contactinfo': {'phone': '0702345678', 'email': ['fredrik@everyloop.com', 'fredrik@gmail.com', 'fredrik.johansson@hotmail.com']}, 'length': 1.8}\n",
      "removed_value = 'Johansson'\n"
     ]
    }
   ],
   "source": [
    "# Create empty dictionary\n",
    "empty_dictionary = {}\n",
    "\n",
    "# Create dictionary with items\n",
    "teacher = {\n",
    "    \"firstname\": \"Fredrik\",\n",
    "    \"lastname\": \"Johansson\",\n",
    "    \"age\": 42,\n",
    "    \"languages\": [\"Python\", \"C#\", \"Javascript\"],\n",
    "    \"contactinfo\": {\n",
    "        \"phone\": \"0702345678\",\n",
    "        \"email\": [\"fredrik@everyloop.com\", \n",
    "                  \"fredrik@gmail.com\", \n",
    "                  \"fredrik.johansson@hotmail.com\"]\n",
    "    }\n",
    "}\n",
    "\n",
    "print(teacher[\"firstname\"] + \" \" + teacher[\"lastname\"])\n",
    "print(teacher[\"age\"])\n",
    "print(\"\\n\")\n",
    "\n",
    "# Get number of items in dictionary\n",
    "print(f'{len(teacher[\"languages\"]) = }')\n",
    "print(f'{(teacher[\"languages\"][-1]) = }')\n",
    "print(f'{len(teacher[\"languages\"][-1]) = }')\n",
    "print(f'{(teacher[\"contactinfo\"][\"email\"][-1]) = }')\n",
    "print(\"\\n\")\n",
    "\n",
    "\n",
    "\n",
    "# Add key to dictionary\n",
    "teacher[\"length\"] = 1.80\n",
    "\n",
    "print(f'{teacher = }')\n",
    "print(\"\\n\")\n",
    "\n",
    "# Remove key and return value from dictionary\n",
    "removed_value = teacher.pop(\"lastname\")\n",
    "\n",
    "print(f'{teacher = }')\n",
    "print(f'{removed_value = }')"
   ]
  },
  {
   "cell_type": "markdown",
   "metadata": {},
   "source": [
    "## Get value using key"
   ]
  },
  {
   "cell_type": "code",
   "execution_count": 3,
   "metadata": {},
   "outputs": [
    {
     "name": "stdout",
     "output_type": "stream",
     "text": [
      "\n"
     ]
    }
   ],
   "source": [
    "key = input(\"Enter key: \")\n",
    "\n",
    "if key in teacher:\n",
    "    print(teacher[key])\n",
    "else:\n",
    "    print(\"\")"
   ]
  },
  {
   "cell_type": "code",
   "execution_count": 4,
   "metadata": {},
   "outputs": [
    {
     "name": "stdout",
     "output_type": "stream",
     "text": [
      ":(\n"
     ]
    }
   ],
   "source": [
    "key = input(\"Enter key: \")\n",
    "print(teacher.get(key, \":(\"))"
   ]
  },
  {
   "cell_type": "markdown",
   "metadata": {},
   "source": [
    "## Looping  through a dictionary"
   ]
  },
  {
   "cell_type": "code",
   "execution_count": 5,
   "metadata": {},
   "outputs": [
    {
     "name": "stdout",
     "output_type": "stream",
     "text": [
      "firstname = Fredrik\n",
      "age = 42\n",
      "languages = ['Python', 'C#', 'Javascript']\n",
      "contactinfo = {'phone': '0702345678', 'email': ['fredrik@everyloop.com', 'fredrik@gmail.com', 'fredrik.johansson@hotmail.com']}\n",
      "length = 1.8\n",
      "\n",
      "Fredrik\n",
      "42\n",
      "['Python', 'C#', 'Javascript']\n",
      "{'phone': '0702345678', 'email': ['fredrik@everyloop.com', 'fredrik@gmail.com', 'fredrik.johansson@hotmail.com']}\n",
      "1.8\n",
      "\n",
      "firstname = Fredrik\n",
      "age = 42\n",
      "languages = ['Python', 'C#', 'Javascript']\n",
      "contactinfo = {'phone': '0702345678', 'email': ['fredrik@everyloop.com', 'fredrik@gmail.com', 'fredrik.johansson@hotmail.com']}\n",
      "length = 1.8\n"
     ]
    }
   ],
   "source": [
    "for key in teacher:\n",
    "    print(f'{key} = {teacher[key]}')\n",
    "\n",
    "print()\n",
    "\n",
    "for value in teacher.values():\n",
    "    print(value)\n",
    "    \n",
    "print()\n",
    "\n",
    "for key, value in teacher.items():\n",
    "    print(f'{key} = {value}')"
   ]
  }
 ],
 "metadata": {
  "kernelspec": {
   "display_name": "Python 3",
   "language": "python",
   "name": "python3"
  },
  "language_info": {
   "codemirror_mode": {
    "name": "ipython",
    "version": 3
   },
   "file_extension": ".py",
   "mimetype": "text/x-python",
   "name": "python",
   "nbconvert_exporter": "python",
   "pygments_lexer": "ipython3",
   "version": "3.11.5"
  },
  "orig_nbformat": 4
 },
 "nbformat": 4,
 "nbformat_minor": 2
}
