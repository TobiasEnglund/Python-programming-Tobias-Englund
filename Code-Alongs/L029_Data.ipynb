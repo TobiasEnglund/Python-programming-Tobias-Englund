{
 "cells": [
  {
   "cell_type": "markdown",
   "metadata": {},
   "source": [
    "# Data\n",
    "\n",
    "Information eller data? Vad är skillnaden?  \n",
    "\n",
    "- Informationstäthet  \n",
    "- Hur lagrar en dator data? 100011010101  \n",
    "- Datorns minsta beståndsdel - **Transistorn** ---> Ström på (1) eller ström av (0)  \n",
    "- Binära talsystemet (0, 1)\n",
    "- T.ex 101 = (2^0 * 1) + (2^1 * 0) + (2^2 * 1)\n",
    "- Decimala talsystemet (0, 1, 2, 3, 4, 5, 6, 7, 8, 9)\n",
    "- 123 = 1111011 (binärt)\n",
    "- Bit = 1 siffra i binära, t.ex 101 --> 3 bit\n",
    "- Byte = 8 bit\n",
    "\n",
    "- Bas 16 (0, 1, 2, 3, 4, 5, 6, 7, 8, 9, A = 10, B, C, D, E, F)"
   ]
  },
  {
   "cell_type": "code",
   "execution_count": null,
   "metadata": {},
   "outputs": [],
   "source": [
    "# Binärt:\n",
    "# 8421 \n",
    "# [0] = 8\n",
    "# [1] = 4\n",
    "# [2] = 2\n",
    "# [3] = 1\n",
    "\n",
    "# 0000 = 0\n",
    "# 0001 = 1\n",
    "# 0010 = 2\n",
    "# 0011 = 3\n",
    "# 0100 = 4\n",
    "# 0101 = 5\n",
    "# 0110 = 6\n",
    "# 0111 = 7\n",
    "# 1000 = 8\n",
    "# 1001 = 9\n",
    "# 1010 = 10\n",
    "# 1011 = 11\n",
    "# 1100 = 12\n",
    "# 1101 = 13\n",
    "# 1110 = 14\n",
    "# 1111 = 15"
   ]
  },
  {
   "cell_type": "code",
   "execution_count": null,
   "metadata": {},
   "outputs": [],
   "source": [
    "# Hexadecimalt (Bas 16):\n",
    "# 7B = 123\n",
    "# [0] = 7 * 16^1 = 112\n",
    "# [1] = 11 * 16^0 = 11\n",
    "\n",
    "# 7 i binärt = 0111\n",
    "# B i binärt = 1011\n",
    "\n",
    "# 7B = 0111 1011"
   ]
  },
  {
   "cell_type": "markdown",
   "metadata": {},
   "source": [
    "### Units\n",
    "\n",
    "- Bit = 0 or 1\n",
    "- Byte = 8 bits\n",
    "\n",
    "## Standard Prefixes (Base 10)\n",
    "\n",
    "- **Kilo** = 1_000: **Photo**\n",
    "- **Mega** = 1_000_000: **Song**\n",
    "- **Giga** = 1_000_000_000: **Movie**\n",
    "- **Tera** = 1_000_000_000_000: **Streaming Service Library**\n",
    "- **Peta** = 1_000_000_000_000_000: **National Media Archive**\n",
    "\n",
    "## Binary Prefixes (Base 2)\n",
    "\n",
    "- **(KiB) Kibi** = 1_024 (2^10): **High-Res Photo**\n",
    "- **(MiB) Mebi** = 1_048_576 (2^20): **Album**\n",
    "- **(GiB) Gibi** = 1_073_741_824 (2^30): **High-Def Movie Collection**\n",
    "- **(TiB) Tebi** = 2^40: **Personal Media Collection**\n",
    "- **(PiB) Pebi** = 2^50: **Major Streaming Service's Yearly Content**\n",
    "\n",
    "\n",
    "- File sizes are measured in ***bytes***. Ex. 37.4 MiB\n",
    "- Data transfer speeds are measured in ***bits*** per second. Ex. 100 Mbps"
   ]
  },
  {
   "cell_type": "code",
   "execution_count": null,
   "metadata": {},
   "outputs": [],
   "source": [
    "# 10101001\n",
    "\n",
    "# Unsigned integer:\n",
    "# 128 + 32 + 8 + 1 = 169\n",
    "\n",
    "# Signed integer:\n",
    "# -128 + 32 + 8 + 1 = -87"
   ]
  },
  {
   "cell_type": "code",
   "execution_count": null,
   "metadata": {},
   "outputs": [],
   "source": [
    "# Fixed point binary fractions\n",
    "\n",
    "# Integral.Fractional\n",
    "\n",
    "# 1010.1001\n",
    "# Integral = 1010\n",
    "# Fractional = 1001\n",
    "\n",
    "# 123.45\n",
    "# [0] = 1 * 10^2\n",
    "# [1] = 2 * 10^1\n",
    "# [2] = 3 * 10^0\n",
    "# [3] = 4 * 10^-1\n",
    "# [4] = 5 * 10^-2\n",
    "\n",
    "# Floating point binary fractions\n",
    "\n",
    "# Significand | Exponent     <-- The way it's written\n",
    "# Significand * 2^Exponent   <-- The way it's calculated\n",
    "\n",
    "# 1010 | 1001\n",
    "# Significand = 1010 \n",
    "# Exponent = 1001\n",
    "\n"
   ]
  },
  {
   "cell_type": "markdown",
   "metadata": {},
   "source": [
    "*How is text stored digitally?*\n",
    "\n",
    "- Information = 49 6E 66 6F 72 6D 61 74 69 6F 6E\n",
    "<br>\n",
    "- I = 49\n",
    "- n = 6E\n",
    "- f = 66\n",
    "- o = 6F\n",
    "- r = 72\n",
    "- m = 6D\n",
    "- a = 61\n",
    "- t = 74\n",
    "- i = 69\n",
    "- o = 6F\n",
    "- n = 6E  \n",
    "<br>\n",
    "- **ASCII**  (American)\n",
    "- **Extended**\n",
    "- **Unicode** (Latest)\n",
    "- **Vectors** (Most commonly used)"
   ]
  },
  {
   "cell_type": "code",
   "execution_count": 5,
   "metadata": {},
   "outputs": [
    {
     "name": "stdout",
     "output_type": "stream",
     "text": [
      "0.30000000000000004\n",
      "False\n"
     ]
    }
   ],
   "source": [
    "print(0.1 + 0.2)\n",
    "print(0.1 + 0.2 == 0.3)"
   ]
  }
 ],
 "metadata": {
  "kernelspec": {
   "display_name": "Python 3",
   "language": "python",
   "name": "python3"
  },
  "language_info": {
   "codemirror_mode": {
    "name": "ipython",
    "version": 3
   },
   "file_extension": ".py",
   "mimetype": "text/x-python",
   "name": "python",
   "nbconvert_exporter": "python",
   "pygments_lexer": "ipython3",
   "version": "3.10.4"
  }
 },
 "nbformat": 4,
 "nbformat_minor": 2
}
