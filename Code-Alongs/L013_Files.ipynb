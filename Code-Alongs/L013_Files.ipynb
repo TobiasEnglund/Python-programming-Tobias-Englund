{
 "cells": [
  {
   "cell_type": "markdown",
   "metadata": {},
   "source": [
    "# Load and save data to files\n",
    "\n",
    "We can categorize files into 2 main categories: *text* files and *binary* files.\n",
    "\n",
    "- Text files stores text / characters in a human readable format.\n",
    "- Binary files store byte data (1's and 0's) that \"only\" computers understand.\n",
    "\n",
    "## Common text based files to store data:\n",
    "\n",
    "- **.txt** - Plain english (or other language) text.\n",
    "- **.csv** - Comma Separated Values\n",
    "- **.json** - Javascript-ish\n",
    "\n",
    "## File names and file paths\n",
    "\n",
    "A file name usually has two parts: *the name* and the *file extension*, separated with a dot (name.extension)\n",
    "\n",
    "- e.g. hello.txt, data.json, myimage.jpg\n",
    "\n",
    "Paths can be expressed as either relative or absolute\n",
    "- **Absolute:** Full path to access a file or folder\n",
    "    - e.g. c:\\users\\fredrik\\desktop\\myfile.txt\n",
    "- **Relative:** Relative from the current active folder       \n",
    "    - e.g data\\data.json\n",
    "\n",
    "## File modes\n",
    "It's possible to open a file in python in different modes:\n",
    "- **'r'**: for reading\n",
    "- **'w'**: for writing (overwrites everything in file)\n",
    "- **'a'**: for appending (also writing, but keeps existing content and appends new content at the end of the file)"
   ]
  },
  {
   "cell_type": "markdown",
   "metadata": {},
   "source": [
    "## Open file for reading"
   ]
  },
  {
   "cell_type": "code",
   "execution_count": 20,
   "metadata": {},
   "outputs": [
    {
     "name": "stdout",
     "output_type": "stream",
     "text": [
      "\n",
      "\n"
     ]
    }
   ],
   "source": [
    "file = open(\"..\\data\\hello.txt\")\n",
    "\n",
    "content = file.read()\n",
    "\n",
    "print(content)\n",
    "\n",
    "file.close()"
   ]
  },
  {
   "cell_type": "markdown",
   "metadata": {},
   "source": [
    "## Open file with context management"
   ]
  },
  {
   "cell_type": "code",
   "execution_count": 21,
   "metadata": {},
   "outputs": [
    {
     "name": "stdout",
     "output_type": "stream",
     "text": [
      "\n",
      "\n"
     ]
    }
   ],
   "source": [
    "with open(\"..\\data\\hello.txt\") as file:\n",
    "    content = file.read()\n",
    "    print(content)"
   ]
  },
  {
   "cell_type": "markdown",
   "metadata": {},
   "source": [
    "## Open file for writing"
   ]
  },
  {
   "cell_type": "code",
   "execution_count": 16,
   "metadata": {},
   "outputs": [],
   "source": [
    "new_content = input(\"Enter text: \")\n",
    "\n",
    "with open(\"..\\data\\hello.txt\", \"a\") as file:\n",
    "    file.write(new_content + \"\\n\")"
   ]
  },
  {
   "cell_type": "markdown",
   "metadata": {},
   "source": [
    "## Mini-uppgift\n",
    "- Skapa ett program som har en tom lista. När programmet körs får användaren mata in namn (input) i en loop tills användaren matar in en tom rad.\n",
    "- När den är klar så sparas listan till en fil (med ett namn på varje rad). Nästa gång man startar programmet så läser den in de befintliga namnen.\n",
    "- Nästa gång man startar programmet så läser den in de befintliga namnen."
   ]
  },
  {
   "cell_type": "code",
   "execution_count": 54,
   "metadata": {},
   "outputs": [
    {
     "name": "stdout",
     "output_type": "stream",
     "text": [
      "These names exist in the names.txt file: \n",
      "\n",
      "Emma\n",
      "Tobias\n",
      "Fredrik\n",
      "Esmeralda\n",
      "Mitch Rapp\n",
      "Courtlin Gentry\n",
      "Gregor Sidorenko\n",
      "Evan Smoak\n",
      "\n",
      "These names have now been added to the names.txt file: \n",
      "\n",
      "Ishamael\n",
      "Seraphina\n",
      "Zephyr\n"
     ]
    }
   ],
   "source": [
    "with open(\"..\\\\data\\\\names.txt\", \"r\") as file:\n",
    "    content = file.readlines()\n",
    "    print(\"These names exist in the names.txt file: \\n\")\n",
    "    print(content)\n",
    "\n",
    "names = []\n",
    "\n",
    "while True:\n",
    "    new_name = input(\"Enter name: \")\n",
    "\n",
    "    if new_name == \"\":\n",
    "        break\n",
    "    else:\n",
    "        names.append(new_name)\n",
    "        continue\n",
    "\n",
    "print()\n",
    "print(\"These names have now been added to the names.txt file: \\n\")  \n",
    "\n",
    "with open(\"..\\\\data\\\\names.txt\", \"a\") as file:\n",
    "    file.write(\"\\n\")\n",
    "    for name in names:\n",
    "        print(name)\n",
    "        file.write(name + \"\\n\")"
   ]
  },
  {
   "cell_type": "markdown",
   "metadata": {},
   "source": [
    "## Write .csv file"
   ]
  },
  {
   "cell_type": "code",
   "execution_count": 67,
   "metadata": {},
   "outputs": [
    {
     "name": "stdout",
     "output_type": "stream",
     "text": [
      "{'name': 'Adam', 'class': 'AI23', 'email': 'adam@gmail.com'}\n",
      "{'name': 'Tobias', 'class': 'AI23', 'email': 'tobias@gmail.com'}\n",
      "{'name': 'Seraphim', 'class': 'AI23', 'email': 'seraphim@gmail.com'}\n"
     ]
    }
   ],
   "source": [
    "students = [\n",
    "    {\"name\": \"Adam\", \"class\": \"AI23\", \"email\": \"adam@gmail.com\"},\n",
    "    {\"name\": \"Tobias\", \"class\": \"AI23\", \"email\": \"tobias@gmail.com\"},\n",
    "    {\"name\": \"Seraphim\", \"class\": \"AI23\", \"email\": \"seraphim@gmail.com\"}\n",
    "]\n",
    "\n",
    "for student in students:\n",
    "    print(student)\n",
    "\n",
    "with open(\"..\\\\data\\\\students.csv\", \"w\") as file:\n",
    "    for student in students:\n",
    "        file.write(f'{student[\"name\"]}, {student[\"class\"]}, {student[\"email\"]}\\n')"
   ]
  },
  {
   "cell_type": "markdown",
   "metadata": {},
   "source": [
    "## Using .csv package"
   ]
  },
  {
   "cell_type": "code",
   "execution_count": 71,
   "metadata": {},
   "outputs": [
    {
     "name": "stdout",
     "output_type": "stream",
     "text": [
      "{'name': 'Adam', 'class': 'AI23', 'email': 'adam@gmail.com, adam@hotmail.se'}\n",
      "{'name': 'Tobias', 'class': 'AI23', 'email': 'tobias@gmail.com'}\n",
      "{'name': 'Seraphim', 'class': 'AI23', 'email': 'seraphim@gmail.com'}\n"
     ]
    }
   ],
   "source": [
    "import csv\n",
    "\n",
    "students = []\n",
    "\n",
    "with open(\"..\\\\data\\\\students.csv\", \"r\") as file:\n",
    "    reader = csv.DictReader(file)\n",
    "    \n",
    "    for row in reader:\n",
    "        students.append({\"name\": row[\"name\"], \"class\": row[\"class\"], \"email\": row[\"email\"]})\n",
    "\n",
    "for student in students:\n",
    "    print(student)"
   ]
  },
  {
   "cell_type": "markdown",
   "metadata": {},
   "source": [
    "## Json serialization and deserialization"
   ]
  },
  {
   "cell_type": "code",
   "execution_count": 83,
   "metadata": {},
   "outputs": [
    {
     "name": "stdout",
     "output_type": "stream",
     "text": [
      "{\n",
      "    \"firstname\": \"Fredrik\",\n",
      "    \"lastname\": \"Johansson\",\n",
      "    \"age\": 42,\n",
      "    \"languages\": [\n",
      "        \"Python\",\n",
      "        \"C#\",\n",
      "        \"Javascript\"\n",
      "    ],\n",
      "    \"contactinfo\": {\n",
      "        \"phone\": \"0702345678\",\n",
      "        \"email\": [\n",
      "            \"fredrik@everyloop.com\",\n",
      "            \"fredrik@gmail.com\",\n",
      "            \"fredrik.johansson@hotmail.com\"\n",
      "        ]\n",
      "    }\n",
      "}\n"
     ]
    }
   ],
   "source": [
    "import json\n",
    "\n",
    "teacher = {\n",
    "    \"firstname\": \"Fredrik\",\n",
    "    \"lastname\": \"Johansson\",\n",
    "    \"age\": 42,\n",
    "    \"languages\": [\"Python\", \"C#\", \"Javascript\"],\n",
    "    \"contactinfo\": {\n",
    "        \"phone\": \"0702345678\",\n",
    "        \"email\": [\"fredrik@everyloop.com\", \n",
    "                  \"fredrik@gmail.com\", \n",
    "                  \"fredrik.johansson@hotmail.com\"]\n",
    "    }\n",
    "}\n",
    "\n",
    "serialized_data = json.dumps(teacher, indent = 4)\n",
    "\n",
    "# print(serialized_data)\n",
    "\n",
    "with open(\"..\\\\data\\\\teacher.json\", \"w\") as file:\n",
    "    print(serialized_data)\n",
    "    file.write(serialized_data)"
   ]
  },
  {
   "cell_type": "code",
   "execution_count": 82,
   "metadata": {},
   "outputs": [
    {
     "name": "stdout",
     "output_type": "stream",
     "text": [
      "<class 'dict'>\n",
      "<class 'str'>\n"
     ]
    }
   ],
   "source": [
    "with open(\"..\\\\data\\\\teacher.json\", \"r\") as file:\n",
    "    data = file.read()\n",
    "    \n",
    "teacher = json.loads(data)\n",
    "\n",
    "print(type(teacher))\n",
    "print(type(data))"
   ]
  },
  {
   "cell_type": "code",
   "execution_count": 98,
   "metadata": {},
   "outputs": [
    {
     "name": "stdout",
     "output_type": "stream",
     "text": [
      "alfa-romero\n",
      "audi\n",
      "bmw\n",
      "chevrolet\n",
      "dodge\n",
      "honda\n",
      "isuzu\n",
      "jaguar\n",
      "mazda\n",
      "mercedes-benz\n",
      "mercury\n",
      "mitsubishi\n",
      "nissan\n",
      "peugot\n",
      "plymouth\n",
      "porsche\n",
      "renault\n",
      "saab\n",
      "subaru\n",
      "toyota\n",
      "volkswagen\n",
      "volvo\n"
     ]
    }
   ],
   "source": [
    "with open(\"..\\\\data\\\\autos_json.json\", \"r\") as file:\n",
    "    data = file.read()\n",
    "    \n",
    "cars = json.loads(data)\n",
    "\n",
    "#for key, value in cars[0].items():\n",
    "    #print(f'{key} = {value}')\n",
    "    \n",
    "brands = set([car[\"make\"] for car in cars])\n",
    "\n",
    "#print()\n",
    "\n",
    "for brand in sorted(brands):\n",
    "    print(brand)"
   ]
  }
 ],
 "metadata": {
  "kernelspec": {
   "display_name": "Python 3",
   "language": "python",
   "name": "python3"
  },
  "language_info": {
   "codemirror_mode": {
    "name": "ipython",
    "version": 3
   },
   "file_extension": ".py",
   "mimetype": "text/x-python",
   "name": "python",
   "nbconvert_exporter": "python",
   "pygments_lexer": "ipython3",
   "version": "3.11.5"
  },
  "orig_nbformat": 4
 },
 "nbformat": 4,
 "nbformat_minor": 2
}
