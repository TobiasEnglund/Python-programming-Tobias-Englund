{
 "cells": [
  {
   "cell_type": "markdown",
   "metadata": {},
   "source": [
    "# Sets\n",
    "\n",
    "- Set items are unordered, unchangeable, and does not allow duplicate values.\n",
    "- Items can *not* be accessed using indexes or slicing.\n",
    "- Set items can be of any data type, and can contain different data types."
   ]
  },
  {
   "cell_type": "code",
   "execution_count": 16,
   "metadata": {},
   "outputs": [
    {
     "name": "stdout",
     "output_type": "stream",
     "text": [
      "len(a) = 7\n",
      "a = {1, 3, 4, 5, 9, 11, 12}\n"
     ]
    }
   ],
   "source": [
    "# Create set with values\n",
    "a = {1, 3, 5, 3, 4, 10}\n",
    "\n",
    "# Add value to set\n",
    "a.add(12)\n",
    "\n",
    "# Update set with another set\n",
    "a.update({9, 10, 11})\n",
    "\n",
    "# Remove value from set\n",
    "a.discard(10)\n",
    "\n",
    "# Get number of items in set\n",
    "print(f'{len(a) = }')\n",
    "\n",
    "# Print set\n",
    "print(f'{a = }')"
   ]
  },
  {
   "cell_type": "markdown",
   "metadata": {},
   "source": [
    "## Combining sets\n",
    "\n",
    "Sets can be combined in several ways:\n",
    "- **Union** - Return a set that contains all items from both sets, duplicates are excluded.\n",
    "- **Intersection** - Return a set that contains the items that exists in both set *a*, and set *b*.\n",
    "- **Difference** - Return a set that contains the items that only exists in set *a*, but not in set *b*.\n",
    "- **Symmetric difference** - Return a set that contains all items from both sets, except items that are present in both sets."
   ]
  },
  {
   "cell_type": "code",
   "execution_count": 25,
   "metadata": {},
   "outputs": [
    {
     "name": "stdout",
     "output_type": "stream",
     "text": [
      "a = {1, 3, 4, 5, 9, 11, 12}\n",
      "b = {2, 4, 5, 6, 10, 11, 15}\n",
      "\n",
      "a.union(b) = {1, 2, 3, 4, 5, 6, 9, 10, 11, 12, 15}\n",
      "a.intersection(b) = {11, 4, 5}\n",
      "a.difference(b) = {1, 3, 12, 9}\n",
      "b.difference(a) = {2, 10, 6, 15}\n",
      "a.symmetric_difference(b) = {1, 2, 3, 6, 9, 10, 12, 15}\n"
     ]
    }
   ],
   "source": [
    "# Create empty set\n",
    "empty_set = {}\n",
    "\n",
    "b = {2, 4, 5, 6, 10, 11, 15}\n",
    "\n",
    "# Without union\n",
    "print(f\"{a = }\\n{b = }\\n\")\n",
    "\n",
    "# Union - both\n",
    "print(f'{a.union(b) = }')\n",
    "\n",
    "# Intersection - in common\n",
    "print(f'{a.intersection(b) = }')\n",
    "\n",
    "# Difference - only in one\n",
    "print(f'{a.difference(b) = }')\n",
    "print(f'{b.difference(a) = }')\n",
    "\n",
    "# Symmetric difference - both, but not the ones in common\n",
    "print(f'{a.symmetric_difference(b) = }')\n"
   ]
  },
  {
   "cell_type": "code",
   "execution_count": null,
   "metadata": {},
   "outputs": [],
   "source": []
  },
  {
   "cell_type": "code",
   "execution_count": null,
   "metadata": {},
   "outputs": [],
   "source": []
  }
 ],
 "metadata": {
  "kernelspec": {
   "display_name": "Python 3",
   "language": "python",
   "name": "python3"
  },
  "language_info": {
   "codemirror_mode": {
    "name": "ipython",
    "version": 3
   },
   "file_extension": ".py",
   "mimetype": "text/x-python",
   "name": "python",
   "nbconvert_exporter": "python",
   "pygments_lexer": "ipython3",
   "version": "3.11.5"
  },
  "orig_nbformat": 4
 },
 "nbformat": 4,
 "nbformat_minor": 2
}
