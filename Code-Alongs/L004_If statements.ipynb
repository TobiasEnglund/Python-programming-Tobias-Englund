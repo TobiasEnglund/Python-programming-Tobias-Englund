{
 "cells": [
  {
   "cell_type": "markdown",
   "metadata": {},
   "source": [
    "# If statements\n",
    "- **if** - Essential part of if-statement\n",
    "- **elif** - Optional: Zero, One, or More elif\n",
    "- **else** - Zero, One"
   ]
  },
  {
   "cell_type": "code",
   "execution_count": 21,
   "metadata": {},
   "outputs": [],
   "source": [
    "x = 5\n",
    "name = \"Fredrik\"\n",
    "\n",
    "if x < 10 or name == \"Tobias\":\n",
    "    if x < 10 and name == \"Tobias\":\n",
    "        print(\"True! x is less than 10 and your name is Tobias!\")\n",
    "    elif x < 10:\n",
    "        print(\"x is less than 10!\")\n",
    "    else:\n",
    "        print(\"Your name is Tobias!\")\n",
    "else:\n",
    "    if x > 10 and name != \"Tobias\":\n",
    "        print(\"X is not lesser than 10.\")\n",
    "    elif x > 10:\n",
    "        print(\"X is not lesser than 10.\")\n",
    "    else:\n",
    "        print(\"Your name is not Tobias.\")"
   ]
  },
  {
   "cell_type": "markdown",
   "metadata": {},
   "source": [
    "# Ternary operator\n",
    "A special operator that takes three operands and returns one of those choices depending on if the middle expression evaluate to True or False. (*TrueValue* if *expression else *FalseValue*)"
   ]
  },
  {
   "cell_type": "code",
   "execution_count": null,
   "metadata": {},
   "outputs": [],
   "source": [
    "name = \"Tobias\"\n",
    "lastname = (\"Englund\" if name == \"Tobias\" else \"???\")\n",
    "\n",
    "print(f\"Your name is {name} {lastname}\")\n",
    "      \n",
    "seconds = 4\n",
    "print(f\"Please wait {seconds} second{'s' if seconds != 1 else ''}\")"
   ]
  }
 ],
 "metadata": {
  "kernelspec": {
   "display_name": "Python 3",
   "language": "python",
   "name": "python3"
  },
  "language_info": {
   "codemirror_mode": {
    "name": "ipython",
    "version": 3
   },
   "file_extension": ".py",
   "mimetype": "text/x-python",
   "name": "python",
   "nbconvert_exporter": "python",
   "pygments_lexer": "ipython3",
   "version": "3.11.5"
  },
  "orig_nbformat": 4
 },
 "nbformat": 4,
 "nbformat_minor": 2
}
