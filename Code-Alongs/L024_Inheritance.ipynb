{
 "cells": [
  {
   "cell_type": "markdown",
   "metadata": {},
   "source": [
    "# Inheritance"
   ]
  },
  {
   "cell_type": "code",
   "execution_count": 6,
   "metadata": {},
   "outputs": [
    {
     "name": "stdout",
     "output_type": "stream",
     "text": [
      "Pelle is running.\n",
      "Pelle is meowing: MEOW!\n",
      "\n",
      "Findus is running.\n",
      "Findus is meowing: meow!\n",
      "\n",
      "Karo is running.\n",
      "Karo is barking: VOFF!\n",
      "\n",
      "Kalle is running.\n",
      "Kalle is barking: voff!\n",
      "\n",
      "Nemo is running.\n",
      "Nemo is swimming.\n",
      "Nemo is running.\n",
      "Nemo says Blub blub!\n",
      "\n",
      "Molly is flying.\n",
      "Molly is squaking!\n",
      "\n",
      "Amadeus is running.\n",
      "Amadeus is hissing!\n",
      "\n"
     ]
    }
   ],
   "source": [
    "class Animal:\n",
    "    def __init__(self, name, age):\n",
    "        self.name = name\n",
    "        self.age = age\n",
    "        \n",
    "    def __str__(self):\n",
    "        return f'My name is {self.name} and I am a {self.age} year old {type(self).__name__.lower()}.'\n",
    "    \n",
    "    def move(self):\n",
    "        print(f'{self.name} is running.')\n",
    "\n",
    "class Cat(Animal):\n",
    "    def __init__(self, name, age, is_loud):\n",
    "        super().__init__(name, age)\n",
    "        self.is_loud = is_loud\n",
    "        \n",
    "    def _get_meow(self):\n",
    "        return \"MEOW\" if self.is_loud else \"meow\"\n",
    "    \n",
    "    def meow(self):\n",
    "        print(f'{self.name} is meowing: {self._get_meow()}!')\n",
    "\n",
    "class Dog(Animal):\n",
    "    def __init__(self, name, age, is_loud):\n",
    "        super().__init__(name, age)\n",
    "        self.is_loud = is_loud\n",
    "    \n",
    "    def _get_voff(self):\n",
    "        return \"VOFF\" if self.is_loud else \"voff\"\n",
    "    \n",
    "    def bark(self):\n",
    "        print(f'{self.name} is barking: {self._get_voff()}!')\n",
    "\n",
    "class Fish(Animal):\n",
    "    # Method override\n",
    "    def move(self):\n",
    "        super().move()\n",
    "        print(f'{self.name} is swimming.')\n",
    "        super().move()\n",
    "        \n",
    "    def blub(self):\n",
    "        print(f'{self.name} says Blub blub!')\n",
    "        \n",
    "class Bird(Animal):\n",
    "    # Method override\n",
    "    def move(self):\n",
    "        print(f'{self.name} is flying.')\n",
    "    def squak(self):\n",
    "        print(f'{self.name} is squaking!')\n",
    "        \n",
    "class Reptile(Animal):\n",
    "    def hiss(self):\n",
    "        print(f'{self.name} is hissing!')\n",
    "\n",
    "animals = [\n",
    "    Cat(\"Pelle\", 6, is_loud = True),\n",
    "    Cat(\"Findus\", 2, is_loud = False),\n",
    "    Dog(\"Karo\", 8, is_loud = True),\n",
    "    Dog(\"Kalle\", 12, is_loud = False),\n",
    "    Fish(\"Nemo\", 1),\n",
    "    Bird(\"Molly\", 3),\n",
    "    Reptile(\"Amadeus\", 15)\n",
    "]\n",
    "\n",
    "for animal in animals:\n",
    "    animal.move()\n",
    "    if isinstance(animal, Dog):\n",
    "        animal.bark()\n",
    "    if isinstance(animal, Cat):\n",
    "        animal.meow()\n",
    "    if isinstance(animal, Reptile):\n",
    "        animal.hiss()\n",
    "    if isinstance(animal, Fish):\n",
    "        animal.blub()\n",
    "    if isinstance(animal, Bird):\n",
    "        animal.squak()\n",
    "    print()"
   ]
  },
  {
   "cell_type": "code",
   "execution_count": 2,
   "metadata": {},
   "outputs": [
    {
     "name": "stdout",
     "output_type": "stream",
     "text": [
      "isinstance(my_cat, Cat) = True\n",
      "isinstance(my_cat, Dog) = False\n",
      "isinstance(my_cat, Animal) = True\n",
      "isinstance(my_cat, object) = True\n",
      "\n",
      "issubclass(Cat, Dog) = False\n",
      "issubclass(Cat, Animal) = True\n",
      "issubclass(Cat, object) = True\n",
      "issubclass(Animal, Cat) = False\n"
     ]
    }
   ],
   "source": [
    "my_cat = Cat(\"Pelle\", 6, is_loud = False)\n",
    "\n",
    "print(f'{isinstance(my_cat, Cat) = }')\n",
    "print(f'{isinstance(my_cat, Dog) = }')\n",
    "print(f'{isinstance(my_cat, Animal) = }')\n",
    "print(f'{isinstance(my_cat, object) = }')\n",
    "\n",
    "print()\n",
    "\n"
   ]
  },
  {
   "cell_type": "code",
   "execution_count": 3,
   "metadata": {},
   "outputs": [
    {
     "name": "stdout",
     "output_type": "stream",
     "text": [
      "hasattr(my_dog, \"name\") = True\n",
      "hasattr(my_dog, \"age\") = True\n",
      "hasattr(my_dog, \"bark\") = True\n",
      "hasattr(my_dog, \"__init__\") = True\n"
     ]
    }
   ],
   "source": [
    "my_dog = Dog(\"Karo\", 8, is_loud = True)\n",
    "\n",
    "print(f'hasattr(my_dog, \"name\") = {hasattr(my_dog, \"name\")}')\n",
    "print(f'hasattr(my_dog, \"age\") = {hasattr(my_dog, \"age\")}')\n",
    "print(f'hasattr(my_dog, \"bark\") = {hasattr(my_dog, \"bark\")}')\n",
    "print(f'hasattr(my_dog, \"__init__\") = {hasattr(my_dog, \"__init__\")}')\n"
   ]
  }
 ],
 "metadata": {
  "kernelspec": {
   "display_name": "Python 3",
   "language": "python",
   "name": "python3"
  },
  "language_info": {
   "codemirror_mode": {
    "name": "ipython",
    "version": 3
   },
   "file_extension": ".py",
   "mimetype": "text/x-python",
   "name": "python",
   "nbconvert_exporter": "python",
   "pygments_lexer": "ipython3",
   "version": "3.11.5"
  },
  "orig_nbformat": 4
 },
 "nbformat": 4,
 "nbformat_minor": 2
}
