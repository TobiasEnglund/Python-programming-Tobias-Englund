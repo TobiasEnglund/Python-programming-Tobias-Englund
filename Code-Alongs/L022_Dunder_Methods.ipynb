{
 "cells": [
  {
   "cell_type": "markdown",
   "metadata": {},
   "source": [
    "# Dunder methods (double underscore__)\n",
    "\n",
    "- \\_\\_init\\_\\_() is called when a new object instance is created. The purpose of this method is to initialize the object."
   ]
  },
  {
   "cell_type": "code",
   "execution_count": 22,
   "metadata": {},
   "outputs": [
    {
     "name": "stdout",
     "output_type": "stream",
     "text": [
      "Mjau\n",
      "This is a cat named Mjau\n",
      "Cat(\"Mjau\")\n"
     ]
    }
   ],
   "source": [
    "class Cat:\n",
    "    def __init__(self, name):\n",
    "        self.name = name\n",
    "    \n",
    "    def __str__(self):\n",
    "        return f\"This is a cat named {self.name}\"\n",
    "    \n",
    "    def __repr__(self):\n",
    "        return f'Cat(\"{self.name}\")'\n",
    "\n",
    "my_cat = Cat(\"Mjau\")\n",
    "print(my_cat.name)\n",
    "print(str(my_cat))\n",
    "print(repr(my_cat))\n"
   ]
  },
  {
   "cell_type": "code",
   "execution_count": 23,
   "metadata": {},
   "outputs": [
    {
     "name": "stdout",
     "output_type": "stream",
     "text": [
      "Cat(\"Mjau\")\n"
     ]
    },
    {
     "data": {
      "text/plain": [
       "'Mjau'"
      ]
     },
     "execution_count": 23,
     "metadata": {},
     "output_type": "execute_result"
    }
   ],
   "source": [
    "my_cat = Cat(\"Mjau\")\n",
    "print(repr(my_cat))\n",
    "\n",
    "copycat = eval(repr(my_cat))\n",
    "copycat.name"
   ]
  },
  {
   "cell_type": "code",
   "execution_count": 24,
   "metadata": {},
   "outputs": [
    {
     "name": "stdout",
     "output_type": "stream",
     "text": [
      "5\n"
     ]
    }
   ],
   "source": [
    "x = 5\n",
    "eval(\"print(x)\")"
   ]
  },
  {
   "cell_type": "code",
   "execution_count": 11,
   "metadata": {},
   "outputs": [
    {
     "name": "stdout",
     "output_type": "stream",
     "text": [
      "This is a cat called Mjau\n",
      "This is a cat called Pelle\n",
      "This is a cat called Måns\n",
      "This is a cat called Oliver\n",
      "This is a cat called Leo\n",
      "This is a cat called Milo\n"
     ]
    }
   ],
   "source": [
    "cats = [Cat(\"Mjau\"), Cat(\"Pelle\"), Cat(\"Måns\"), Cat(\"Oliver\"), Cat(\"Leo\"), Cat(\"Milo\")]\n",
    "\n",
    "for cat in cats:\n",
    "    print(cat)"
   ]
  }
 ],
 "metadata": {
  "kernelspec": {
   "display_name": "Python 3",
   "language": "python",
   "name": "python3"
  },
  "language_info": {
   "codemirror_mode": {
    "name": "ipython",
    "version": 3
   },
   "file_extension": ".py",
   "mimetype": "text/x-python",
   "name": "python",
   "nbconvert_exporter": "python",
   "pygments_lexer": "ipython3",
   "version": "3.11.5"
  },
  "orig_nbformat": 4
 },
 "nbformat": 4,
 "nbformat_minor": 2
}
