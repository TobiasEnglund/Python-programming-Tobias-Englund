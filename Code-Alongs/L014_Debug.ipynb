{
 "cells": [
  {
   "cell_type": "markdown",
   "metadata": {},
   "source": [
    "# Debugging\n",
    "\n",
    "Finding and correcting errors (bugs) in code.\n",
    "\n",
    "## Break point\n",
    "\n",
    "- In all IDE (Integrated Development Environments) the developer has the possibility to debug code by stepping through instructions one by one and look at the internal states (memory/variables) for each step\n",
    "- We can set one or multiple break points at any line in our code. When starting the program in debug mode, the code will run up until it hits the first breakpoint. From there we can inspect the current state of our program, and we can choose to either run our program until it hits the next breakpoint, or we can use the \"step over\" function of the debugger to step one instruction at a time."
   ]
  },
  {
   "cell_type": "code",
   "execution_count": null,
   "metadata": {},
   "outputs": [],
   "source": [
    "def greet(n):\n",
    "    for i in range(n):\n",
    "        print(\"Hello\")\n",
    "\n",
    "a = 5\n",
    "b = 3\n",
    "c = a + b\n",
    "\n",
    "greet(b)\n",
    "\n",
    "print(c)"
   ]
  },
  {
   "cell_type": "markdown",
   "metadata": {},
   "source": [
    "# Problemlösning med datorn som verktyg (a.k.a. programmering)\n",
    "\n",
    "För att lösa ett problem (t.ex. övningen \"Hitta tal i sträng med teck\") med en dator behöver du skriva steg-för-steg instruktioner (kod) som datorn förstår och kan följa. Datorn är bra på att utföra instruktionerna snabbt och precist. En dator kan dock aldrig lösa problem utan att någon (programmerare) först har skapat en algoritm och översatt den till kod som datorn kan exekvera.\n",
    "\n",
    "## Steg 1\n",
    "Första steget för att bygga ditt program är att du själv förstår och kan lösa problemet. Om du inte kan lösa problemet utan dator och kod, kommer du inte heller kunna skriva koden datorn behöver för att lösa problemet.\n",
    "\n",
    "**Första övning**:  \n",
    "Lägg undan datorn och använd papper och penna (eller tänk stegen i huvudet). Kan du manuellt hitta och skriva ner de olika delsträngarna i exemplet? Jämför med facit.\n",
    "\n",
    "## Steg 2\n",
    "Fundera på hur du tänkte för att hitta delsträngarna. Det här är ett bra sätt att tänka när man försöker ta fram en algoritm.\n",
    "\n",
    "**Andra övning**:  \n",
    "Försök förklara för en kompis hur man går tillväga för att hitta alla giltiga delsträngar i exemplet. \n",
    "\n",
    "## Steg 3\n",
    "Innan du börjar försöka skriva programmet i Python; som en tredje övning, se om du kan skriva ner i punktform, ett \"recept\" för hur man hittar delsträngarna.\n",
    "\n",
    "**Pseudokod**:  \n",
    "Pseudokod används för att beskriva algoritmer. Det är ingen riktig kod men hjälper dig att strukturerat förklara algoritmen.\n",
    "\n",
    "## Steg 4\n",
    "Om du har följt stegen ovan, är det nu dags att översätta algoritmen till kod. Det är först nu som du behöver ha specifika kunskaper om språket (Python) som du ska implementera algoritmen i.\n",
    "\n",
    "## Bryta ner problemet (a.k.a lösa ett enklare problem)\n",
    "När du står inför ett svårt problem, börja med att lösa ett enklare problem som tar dig delvis framåt. Detta kan ofta vara början på en fullständig lösning.\n"
   ]
  },
  {
   "cell_type": "markdown",
   "metadata": {},
   "source": [
    "## Mini-task: Hitta tal i sträng med tecken\n"
   ]
  },
  {
   "cell_type": "code",
   "execution_count": 55,
   "metadata": {},
   "outputs": [
    {
     "name": "stdout",
     "output_type": "stream",
     "text": [
      "string = '29535123p48723487597645723645'\n",
      "\u001b[0m\u001b[34m2953512\u001b[0m3p48723487597645723645\n",
      "\u001b[0m29\u001b[34m535\u001b[0m123p48723487597645723645\n",
      "\u001b[0m295\u001b[34m35123\u001b[0mp48723487597645723645\n",
      "\u001b[0m29535123p\u001b[34m487234\u001b[0m87597645723645\n",
      "\u001b[0m29535123p4\u001b[34m872348\u001b[0m7597645723645\n",
      "\u001b[0m29535123p48\u001b[34m723487\u001b[0m597645723645\n",
      "\u001b[0m29535123p487\u001b[34m2348759764572\u001b[0m3645\n",
      "\u001b[0m29535123p4872\u001b[34m3487597645723\u001b[0m645\n",
      "\u001b[0m29535123p48723\u001b[34m48759764\u001b[0m5723645\n",
      "\u001b[0m29535123p4872348\u001b[34m7597\u001b[0m645723645\n",
      "\u001b[0m29535123p48723487\u001b[34m597645\u001b[0m723645\n",
      "\u001b[0m29535123p4872348759\u001b[34m76457\u001b[0m23645\n",
      "\u001b[0m29535123p48723487597\u001b[34m6457236\u001b[0m45\n",
      "\u001b[0m29535123p487234875976\u001b[34m4572364\u001b[0m5\n",
      "\u001b[0m29535123p4872348759764\u001b[34m5723645\u001b[0m\n"
     ]
    }
   ],
   "source": [
    "from colorama import Fore, Back, Style\n",
    "\n",
    "string = input(\"Please enter a string:\")\n",
    "print(f'{string = }')\n",
    "\n",
    "string_prior = \"\"\n",
    "string_after = \"\"\n",
    "\n",
    "for i, character in enumerate(string):\n",
    "    found = 0\n",
    "    if character.isdigit():\n",
    "        j = i + 1\n",
    "    while(j < len(string)):\n",
    "        if not string[j].isdigit():\n",
    "            break\n",
    "        if string[j] == string[i]:\n",
    "            found = 1\n",
    "            break\n",
    "        j += 1\n",
    "        if i:\n",
    "            string_prior = string[:i]\n",
    "        if j < len(string):\n",
    "            string_after = string[j + 1:]\n",
    "    if found == 1:\n",
    "        print(f'{Style.RESET_ALL}{string_prior}{Fore.BLUE}{string[i:j+1]}{Style.RESET_ALL}{string_after}')"
   ]
  }
 ],
 "metadata": {
  "kernelspec": {
   "display_name": "Python 3",
   "language": "python",
   "name": "python3"
  },
  "language_info": {
   "codemirror_mode": {
    "name": "ipython",
    "version": 3
   },
   "file_extension": ".py",
   "mimetype": "text/x-python",
   "name": "python",
   "nbconvert_exporter": "python",
   "pygments_lexer": "ipython3",
   "version": "3.10.4"
  },
  "orig_nbformat": 4
 },
 "nbformat": 4,
 "nbformat_minor": 2
}
