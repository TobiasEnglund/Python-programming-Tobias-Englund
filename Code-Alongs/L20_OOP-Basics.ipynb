{
 "cells": [
  {
   "cell_type": "markdown",
   "metadata": {},
   "source": [
    "# Object Oriented Programming (OOP)\n",
    "- A \"class\" is a blue print that can be used to create objects\n",
    "- An \"instance\" is the actual object containing data and methods"
   ]
  },
  {
   "cell_type": "code",
   "execution_count": null,
   "metadata": {},
   "outputs": [],
   "source": [
    "student_a = {\n",
    "    \"FirstName\": \"Fredrik\",\n",
    "    \"LastName\": \"Johansson\",\n",
    "    \"Age\": 42,\n",
    "    \"Grade\": 3.4}\n",
    "student_b = {\n",
    "    \"FirstName\": \"Anna\",\n",
    "    \"LastName\": \"Karlsson\",\n",
    "    \"Age\": 24,\n",
    "    \"Grade\": 4.2}\n",
    "\n",
    "students = [student_a, student_b]\n",
    "\n",
    "def set_grade(student, grade):\n",
    "    student[\"Grade\"] = grade\n",
    "    \n",
    "def get_name(student):\n",
    "    return f'{student[\"FirstName\"]} {student[\"LastName\"]}'\n",
    "\n",
    "for student in students:\n",
    "    set_grade(student, 3.0)\n",
    "    print(get_name(student))\n",
    "    \n",
    "pass"
   ]
  },
  {
   "cell_type": "code",
   "execution_count": 17,
   "metadata": {},
   "outputs": [],
   "source": [
    "class Student:\n",
    "    def __init__(self, name, grade):\n",
    "        self.grade = grade\n",
    "        self.name = name\n",
    "        \n",
    "    def set_grade(self, grade):\n",
    "        self.grade = grade\n",
    "        "
   ]
  },
  {
   "cell_type": "code",
   "execution_count": 22,
   "metadata": {},
   "outputs": [
    {
     "name": "stdout",
     "output_type": "stream",
     "text": [
      "{'grade': 4.5, 'name': 'Fredrik'}\n",
      "{'grade': 3.3, 'name': 'Anna'}\n",
      "\n",
      "{'grade': 4.6, 'name': 'Fredrik', 'age': 42}\n",
      "{'grade': 3.2, 'name': 'Anna'}\n"
     ]
    }
   ],
   "source": [
    "student_a = Student(\"Fredrik\", 4.5)\n",
    "student_b = Student(\"Anna\", 3.3)\n",
    "\n",
    "print(student_a.__dict__)\n",
    "print(student_b.__dict__)\n",
    "print()\n",
    "\n",
    "Student.set_grade(student_a, 4.6)\n",
    "student_b.set_grade(3.2)\n",
    "student_a.age = 42\n",
    "\n",
    "print(student_a.__dict__)\n",
    "print(student_b.__dict__)"
   ]
  }
 ],
 "metadata": {
  "kernelspec": {
   "display_name": "Python 3",
   "language": "python",
   "name": "python3"
  },
  "language_info": {
   "codemirror_mode": {
    "name": "ipython",
    "version": 3
   },
   "file_extension": ".py",
   "mimetype": "text/x-python",
   "name": "python",
   "nbconvert_exporter": "python",
   "pygments_lexer": "ipython3",
   "version": "3.11.5"
  },
  "orig_nbformat": 4
 },
 "nbformat": 4,
 "nbformat_minor": 2
}
