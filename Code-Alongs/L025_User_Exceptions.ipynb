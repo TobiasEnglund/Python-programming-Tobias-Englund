{
 "cells": [
  {
   "cell_type": "markdown",
   "metadata": {},
   "source": [
    "# User Exceptions"
   ]
  },
  {
   "cell_type": "code",
   "execution_count": 19,
   "metadata": {},
   "outputs": [
    {
     "name": "stdout",
     "output_type": "stream",
     "text": [
      "int() argument must be a string, a bytes-like object or a real number, not 'list'\n"
     ]
    }
   ],
   "source": [
    "try:\n",
    "    int([])\n",
    "except TypeError:\n",
    "    print(\"int() argument must be a string, a bytes-like object or a real number, not 'list'\")\n",
    "    \n",
    "# int([]) # To get the error message"
   ]
  },
  {
   "cell_type": "code",
   "execution_count": 20,
   "metadata": {},
   "outputs": [
    {
     "name": "stdout",
     "output_type": "stream",
     "text": [
      "There was an IndexError. List index out of range.\n"
     ]
    }
   ],
   "source": [
    "fruits = [\"kiwi\", \"apple\"]\n",
    "\n",
    "try:\n",
    "    fruits[3]\n",
    "except IndexError:\n",
    "    print(\"There was an IndexError. List index out of range.\")\n",
    "\n",
    "# fruits[3] # To get the error message"
   ]
  },
  {
   "cell_type": "code",
   "execution_count": 36,
   "metadata": {},
   "outputs": [
    {
     "name": "stdout",
     "output_type": "stream",
     "text": [
      "Fredrik done fucked up. He tried to divide by zero.\n"
     ]
    }
   ],
   "source": [
    "class FredrikError(Exception):\n",
    "    pass\n",
    "\n",
    "try:\n",
    "    try:\n",
    "        print(5/0)\n",
    "    except ZeroDivisionError:\n",
    "        raise FredrikError(\"Fredrik done fucked up. He tried to divide by zero.\")\n",
    "except FredrikError as e:\n",
    "    print(e)\n",
    "\n"
   ]
  },
  {
   "cell_type": "code",
   "execution_count": null,
   "metadata": {},
   "outputs": [],
   "source": []
  }
 ],
 "metadata": {
  "kernelspec": {
   "display_name": "Python 3",
   "language": "python",
   "name": "python3"
  },
  "language_info": {
   "codemirror_mode": {
    "name": "ipython",
    "version": 3
   },
   "file_extension": ".py",
   "mimetype": "text/x-python",
   "name": "python",
   "nbconvert_exporter": "python",
   "pygments_lexer": "ipython3",
   "version": "3.11.5"
  },
  "orig_nbformat": 4
 },
 "nbformat": 4,
 "nbformat_minor": 2
}
