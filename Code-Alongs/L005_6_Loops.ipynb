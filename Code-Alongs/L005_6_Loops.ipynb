{
 "cells": [
  {
   "cell_type": "markdown",
   "metadata": {},
   "source": [
    "# Loops\n",
    "Python has two primitive loop commands:\n",
    "- while loops\n",
    "- for loops"
   ]
  },
  {
   "cell_type": "code",
   "execution_count": null,
   "metadata": {},
   "outputs": [],
   "source": [
    "counter = 10\n",
    "\n",
    "while counter > 0:\n",
    "    print(f\"{counter:2d}: Hello World!\")\n",
    "    counter -= 1\n",
    "\n",
    "print(\"End.\")"
   ]
  },
  {
   "cell_type": "markdown",
   "metadata": {},
   "source": [
    "## The break statement\n",
    "Used to stop the loop immediately."
   ]
  },
  {
   "cell_type": "code",
   "execution_count": null,
   "metadata": {},
   "outputs": [],
   "source": [
    "counter = 10\n",
    "\n",
    "while True > 0:\n",
    "    print(f\"{counter:2d}: Hello World!\")\n",
    "    counter -= 1\n",
    "    if counter <= 0: break\n",
    "\n",
    "print(\"End.\")"
   ]
  },
  {
   "cell_type": "markdown",
   "metadata": {},
   "source": [
    "## The continue statement\n",
    "Used to stop the current iteration of the loop, and continue with the next."
   ]
  },
  {
   "cell_type": "code",
   "execution_count": null,
   "metadata": {},
   "outputs": [],
   "source": [
    "counter = 0\n",
    "while counter < 5:\n",
    "    counter += 1\n",
    "    print(f\"{counter}: Print this!\")\n",
    "    if (counter < 3): continue\n",
    "    print(\"Don't print this!\")\n",
    "\n",
    "print(\"End.\")"
   ]
  },
  {
   "cell_type": "markdown",
   "metadata": {},
   "source": [
    "## The else statement\n",
    "Used to specify a block of code to be executed when the loop is finished.\n",
    "**Note:** *The else block will NOT be executed if the loop is stopped by a break statement."
   ]
  },
  {
   "cell_type": "code",
   "execution_count": null,
   "metadata": {},
   "outputs": [],
   "source": [
    "counter = 10\n",
    "while counter > 0:\n",
    "    counter -= 2\n",
    "    print(f\"{counter:2d}: Hello world!\")\n",
    "    # break\n",
    "else:\n",
    "    print(\"End.\")"
   ]
  },
  {
   "cell_type": "markdown",
   "metadata": {},
   "source": [
    "## For loops\n",
    "A for loop is used for iterating over a sequence. (Example: a list, a string, a dictionary, or a range)"
   ]
  },
  {
   "cell_type": "code",
   "execution_count": null,
   "metadata": {},
   "outputs": [],
   "source": [
    "# Example 1, Iterating over the items in a list:\n",
    "names = [\"Fredrik\", \"Camilla\", \"Anna\", \"Anders\", \"Erik\"]\n",
    "\n",
    "for name in names:\n",
    "    print(name)"
   ]
  },
  {
   "cell_type": "code",
   "execution_count": null,
   "metadata": {},
   "outputs": [],
   "source": [
    "# Example 2, iterating over a range:\n",
    "print(\"Using only stop value (start defaults to zero):\\n\")\n",
    "for i in range(3):\n",
    "    print(i)\n",
    "    \n",
    "print(\"\\nUsing start and stop values (start is inclusive, stop is exclusive):\\n\")\n",
    "for i in range(10, 13):\n",
    "    print(i + 1)\n",
    "    \n",
    "print(\"\\nUsing start, stop, and step values (step defaults to 1):\")\n",
    "for i in range(10, 20, 2):\n",
    "    print(i)\n",
    "    \n",
    "print(\"\\nCan also count reversed using a negative step value:\")\n",
    "for i in range(20, 10, -3):\n",
    "    print(i)"
   ]
  },
  {
   "cell_type": "markdown",
   "metadata": {},
   "source": [
    "## Like While loops, for loops can also use the following statements:\n",
    "- Continue\n",
    "- Break\n",
    "- else"
   ]
  },
  {
   "cell_type": "markdown",
   "metadata": {},
   "source": [
    "## Nested loops\n",
    "A loop within a loop"
   ]
  },
  {
   "cell_type": "code",
   "execution_count": null,
   "metadata": {},
   "outputs": [],
   "source": [
    "for y in range(3):\n",
    "    print(\"Hello\")\n",
    "    for x in range(5):\n",
    "        print(\"o\", end = \"\")\n",
    "    print()\n"
   ]
  }
 ],
 "metadata": {
  "kernelspec": {
   "display_name": "Python 3",
   "language": "python",
   "name": "python3"
  },
  "language_info": {
   "codemirror_mode": {
    "name": "ipython",
    "version": 3
   },
   "file_extension": ".py",
   "mimetype": "text/x-python",
   "name": "python",
   "nbconvert_exporter": "python",
   "pygments_lexer": "ipython3",
   "version": "3.11.5"
  },
  "orig_nbformat": 4
 },
 "nbformat": 4,
 "nbformat_minor": 2
}
