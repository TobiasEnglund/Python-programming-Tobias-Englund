{
 "cells": [
  {
   "cell_type": "markdown",
   "metadata": {},
   "source": [
    "# Operator Overloading"
   ]
  },
  {
   "cell_type": "code",
   "execution_count": null,
   "metadata": {},
   "outputs": [],
   "source": [
    "class Cat:\n",
    "    def __init__(self, name, age):\n",
    "        self.name = name\n",
    "        self.age = age\n",
    "    \n",
    "    def __add__(self, other):\n",
    "        return self.name + \" and \" + other.name\n",
    "\n",
    "cat_a = Cat(\"Pelle\", 8)\n",
    "cat_b = Cat(\"Måns\", 9)\n",
    "\n",
    "print(cat_a + cat_b)\n",
    "print(cat_a.name + \" and \" + cat_b.name)"
   ]
  },
  {
   "cell_type": "code",
   "execution_count": 60,
   "metadata": {},
   "outputs": [
    {
     "name": "stdout",
     "output_type": "stream",
     "text": [
      "Kelvin = 278.15, Celsius = 5.0\n",
      "Kelvin = 5, Celsius = -268.15\n",
      "Kelvin = 2, Celsius = -271.15\n",
      "\n",
      "Kelvin = 285.15, Celsius = 12.0\n",
      "Kelvin = 7, Celsius = -266.15\n",
      "Kelvin = 7, Celsius = -266.15\n"
     ]
    }
   ],
   "source": [
    "class Temperature:\n",
    "    def __init__(self, kelvin = None, celsius = None):\n",
    "        if kelvin is not None:\n",
    "            self.kelvin = kelvin\n",
    "        else:\n",
    "            self.celsius = celsius\n",
    "    \n",
    "    @property\n",
    "    def kelvin(self):\n",
    "        return self._kelvin\n",
    "    \n",
    "    @kelvin.setter\n",
    "    def kelvin(self, kelvin):\n",
    "        self._kelvin = kelvin\n",
    "    \n",
    "    @property\n",
    "    def celsius(self):\n",
    "        return self.kelvin - 273.15\n",
    "    \n",
    "    @celsius.setter\n",
    "    def celsius(self, celsius):\n",
    "        self._kelvin = celsius + 273.15\n",
    "     \n",
    "    def __repr__(self):\n",
    "        t3 = self.kelvin + self.celsius\n",
    "        return f'Kelvin = {self.kelvin}, Celsius = {self.celsius}'\n",
    "    \n",
    "    def __add__(self, other):\n",
    "        if type(other) not in [float, int, Temperature]:\n",
    "            raise TypeError(f\"Unsupported operand type(s) for +: 'Temperature' and {type(other)}\")\n",
    "            \n",
    "        kelvin = other if type(other) in [float, int] else other.kelvin\n",
    "        return Temperature(kelvin = self.kelvin + kelvin)\n",
    "\n",
    "    def __radd__(self, other):\n",
    "        return self.__add__(other)\n",
    "\n",
    "t1 = Temperature(celsius = 5)\n",
    "t2 = Temperature(kelvin = 5)\n",
    "t3 = Temperature(kelvin = 2)\n",
    "\n",
    "print(t1)\n",
    "print(t2)\n",
    "print(t3)\n",
    "print()\n",
    "\n",
    "my_new_temperature = t1 + t2 + t3\n",
    "print(my_new_temperature)\n",
    "\n",
    "t4 = t2 + 2\n",
    "t5 = 2 + t2\n",
    "\n",
    "print(t4)\n",
    "print(t5)"
   ]
  }
 ],
 "metadata": {
  "kernelspec": {
   "display_name": "Python 3",
   "language": "python",
   "name": "python3"
  },
  "language_info": {
   "codemirror_mode": {
    "name": "ipython",
    "version": 3
   },
   "file_extension": ".py",
   "mimetype": "text/x-python",
   "name": "python",
   "nbconvert_exporter": "python",
   "pygments_lexer": "ipython3",
   "version": "3.11.5"
  },
  "orig_nbformat": 4
 },
 "nbformat": 4,
 "nbformat_minor": 2
}
