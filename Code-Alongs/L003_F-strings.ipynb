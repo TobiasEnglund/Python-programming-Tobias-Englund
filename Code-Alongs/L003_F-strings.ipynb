{
 "cells": [
  {
   "cell_type": "markdown",
   "metadata": {},
   "source": [
    "# f-Strings (Formatted string literals)\n",
    "- literal starts with f or F\n",
    "- variables or expressions can be inserted using {}\n",
    "- use = after expression to print expression and result (not only result)\n",
    "- quotes can be used inside expression as long as they differ from the quotetype of the f-String\n",
    "- for padding and alignment, use **:{padding character(default space)}{alignment}{width}**\n",
    "- Alignments: Left <, Center ^, Right >. Default alignments left for string, right for numerics\n",
    "- Data type: Add data type after padding and alignment eg. x:<20.2f\n",
    "- Data type formats: Fixed-point notation (f), Exponent notation (e), Percentage(%). (Default precision is 6 decimals)\n",
    "- Use comma for thousands separation eg. (1000:,) or (1000:,.2f)\n"
   ]
  },
  {
   "cell_type": "code",
   "execution_count": null,
   "metadata": {},
   "outputs": [],
   "source": [
    "name = \"Tobias\" # input(\"Enter your name: \")\n",
    "myString = f\"Hello {name}!\"\n",
    "print(myString)\n",
    "\n",
    "print(f\"{5 + 8 = }\")\n",
    "\n",
    "print(f\"Hej 'Tobias'\")\n",
    "print(f\"Hej \\\"Tobias\\\"\")\n",
    "\n",
    "print(f\"{1.35:.2f}\")\n",
    "print(f\"{1.35:.2e}\")\n",
    "print(f\"{1.35:.1%}\")\n",
    "print(f\"{1000000:,.2f}\")\n",
    "\n",
    "\n"
   ]
  },
  {
   "cell_type": "code",
   "execution_count": null,
   "metadata": {},
   "outputs": [],
   "source": [
    "first_name = \"Tobias\"\n",
    "last_name = \"Englund\"\n",
    "\n",
    "print(f\"{'Firstname':20}{'Lastname'}\")\n",
    "print(f\"{first_name:x>20}{last_name}\")"
   ]
  }
 ],
 "metadata": {
  "kernelspec": {
   "display_name": "Python 3",
   "language": "python",
   "name": "python3"
  },
  "language_info": {
   "codemirror_mode": {
    "name": "ipython",
    "version": 3
   },
   "file_extension": ".py",
   "mimetype": "text/x-python",
   "name": "python",
   "nbconvert_exporter": "python",
   "pygments_lexer": "ipython3",
   "version": "3.11.5"
  },
  "orig_nbformat": 4
 },
 "nbformat": 4,
 "nbformat_minor": 2
}
