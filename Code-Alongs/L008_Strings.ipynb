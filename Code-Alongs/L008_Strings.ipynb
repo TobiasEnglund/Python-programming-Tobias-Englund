{
 "cells": [
  {
   "cell_type": "markdown",
   "metadata": {},
   "source": [
    "# Strings\n",
    "\n",
    "* Data type used in Python for storing text.\n",
    "* Literal values with single or double quotes. 'Single', \"Double\"\n",
    "* Strings are immutable (meaning not changeable)"
   ]
  },
  {
   "cell_type": "markdown",
   "metadata": {},
   "source": [
    "## Concatenate\n",
    "In python we can concatenate two or more strings using the + operator."
   ]
  },
  {
   "cell_type": "code",
   "execution_count": null,
   "metadata": {},
   "outputs": [],
   "source": [
    "string1 = \"Hello\"\n",
    "string2 = \"World\"\n",
    "\n",
    "string3 = string1 + \" \" + string2\n",
    "print(string3)"
   ]
  },
  {
   "cell_type": "markdown",
   "metadata": {},
   "source": [
    "## Multiline strings\n",
    "Python allows string literals to span multiple rows if started, and ended, by \"\"\""
   ]
  },
  {
   "cell_type": "code",
   "execution_count": null,
   "metadata": {},
   "outputs": [],
   "source": [
    "text = \"\"\"This\n",
    "is\n",
    "an\n",
    "example!\"\"\"\n",
    "\n",
    "print(text)\n",
    "\n",
    "if True:\n",
    "    text = \"\"\"This\n",
    "is\n",
    "another\n",
    "example!\"\"\"\n",
    "\n",
    "print(text)\n"
   ]
  },
  {
   "cell_type": "markdown",
   "metadata": {},
   "source": [
    "## Indexing and slicing"
   ]
  },
  {
   "cell_type": "code",
   "execution_count": null,
   "metadata": {},
   "outputs": [],
   "source": [
    "name = \"Tobias\"\n",
    "\n",
    "print(f\"{name = }\")\n",
    "print(f\"{name[0] = }\")\n",
    "print(f\"{name[-1] = }\")\n",
    "print(f\"{name[:3] = }\")\n",
    "\n",
    "name = \"Johan\""
   ]
  },
  {
   "cell_type": "markdown",
   "metadata": {},
   "source": [
    "## Escape Characters\n",
    "\n",
    "* To insert characters that are illegal in a string, use an escape character.\n",
    "* An escape character is a backslash \\ followed by the character you want to insert.\n",
    "* An example of an illegal character is a double quote inside a string that is surrounded by double quotes.\n",
    "\n",
    "### Common escape characters\n",
    "\n",
    "* \\\" Double quote\n",
    "* \\' Single quote\n",
    "* \\\\ Backslash\n",
    "* \\n New line\n",
    "* \\t Tab"
   ]
  },
  {
   "cell_type": "code",
   "execution_count": null,
   "metadata": {},
   "outputs": [],
   "source": [
    "escaped_text = \"Hello\\tWorld\\nHere \\\\ is \\\"another\\\" example.\"\n",
    "\n",
    "print(escaped_text)"
   ]
  },
  {
   "cell_type": "markdown",
   "metadata": {},
   "source": [
    "## String methods"
   ]
  },
  {
   "cell_type": "code",
   "execution_count": null,
   "metadata": {},
   "outputs": [],
   "source": [
    "# String methods return a string but does not change the original string variable\n",
    "\n",
    "print(\"String methods return a string but does not change the original string variable:\")\n",
    "name = \"Tobias\"\n",
    "upper_name = name.upper()\n",
    "print(f'{name = }')\n",
    "print(f'{upper_name = }')\n",
    "\n",
    "# Upper & Lower case\n",
    "print(\"\\nUpper & Lower case:\")\n",
    "print(f'{\"Hello World\".lower() = }')\n",
    "print(f'{\"Hello World\".upper() = }')\n",
    "\n",
    "# Title & Capitalize\n",
    "print(\"\\nTitle & Capitalize:\")\n",
    "print(f'{\"Hello World\".title() = }')\n",
    "print(f'{\"Hello World\".capitalize() = }')\n",
    "print()\n",
    "\n",
    "# Check if string starts or ends with substring\n",
    "print(\"\\nCheck if string starts or ends with substring:\")\n",
    "print(f'{\"Hello World\".startswith(\"Hello\") = }')\n",
    "print(f'{\"Hello World\".endswith(\"Hello\") = }')\n",
    "\n",
    "# Strip is often used when getting input from user\n",
    "print(\"\\nStrip is often used when getting input from user:\")\n",
    "print(f'{\"      Hello      \".strip() = }')\n",
    "print(f'{\"      Hello      \".lstrip() = }')\n",
    "print(f'{\"      Hello      \".rstrip() = }')\n",
    "\n",
    "# Join multiple strings\n",
    "print(\"\\nJoin multiple strings:\")\n",
    "print(f'{\", \".join([\"Tobias\", \"Johan\", \"Anna\"]) = }')\n",
    "\n",
    "# Split into multiple (list of) strings\n",
    "print(\"\\nSplit into multiple (list of) strings:\")\n",
    "print(f'{\"This is another string\".split() = }')\n",
    "print(f'{\"This is another example\".split(\"a\") = }')\n",
    "print(f'{\"Apple, Orange, Pear, Melon\".split(\", \") = }')\n",
    "\n",
    "# Replace part of string\n",
    "print(\"\\nReplace part of string:\")\n",
    "print(f'{\"This is another example.\".replace(\"another\", \"just an\") = }')\n",
    "print(f'{\"Hello Tobias!\".replace(\"Tobias\", \"Fredrik\") = }')\n",
    "\n",
    "# Find index of substring\n",
    "print(\"\\nFind index of substring:\")\n",
    "print(f'{\"This is another example.\".find(\"another\") = }')\n"
   ]
  },
  {
   "cell_type": "code",
   "execution_count": null,
   "metadata": {},
   "outputs": [],
   "source": [
    "text = input(\"Enter some text: \")\n",
    "\n",
    "words = text.split()\n",
    "\n",
    "for word in words:\n",
    "    print(word)"
   ]
  },
  {
   "cell_type": "code",
   "execution_count": null,
   "metadata": {},
   "outputs": [],
   "source": [
    "data = \"Tobias Englund, 27\"\n",
    "index = data.find(\", \")\n",
    "name = data[:index]\n",
    "\n",
    "print(name)"
   ]
  }
 ],
 "metadata": {
  "kernelspec": {
   "display_name": "Python 3",
   "language": "python",
   "name": "python3"
  },
  "language_info": {
   "codemirror_mode": {
    "name": "ipython",
    "version": 3
   },
   "file_extension": ".py",
   "mimetype": "text/x-python",
   "name": "python",
   "nbconvert_exporter": "python",
   "pygments_lexer": "ipython3",
   "version": "3.11.5"
  },
  "orig_nbformat": 4
 },
 "nbformat": 4,
 "nbformat_minor": 2
}
